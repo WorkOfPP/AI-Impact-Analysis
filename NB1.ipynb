{
 "cells": [
  {
   "cell_type": "markdown",
   "id": "f3e73167-1c7a-4ce3-8e1c-7731c77e2607",
   "metadata": {},
   "source": [
    "# Main Notebook\n",
    "1. Clean\n",
    "2. Filter\n",
    "3. Tokenize"
   ]
  },
  {
   "cell_type": "code",
   "execution_count": null,
   "id": "5848d12b-809f-4031-8705-9cabb93fa5ec",
   "metadata": {},
   "outputs": [],
   "source": [
    "# !pip install pandarallel\n",
    "# !pip install nltk\n",
    "# !pip install spacy\n",
    "# !python3 -m spacy download en_core_web_md\n",
    "# nltk.download('punkt')\n",
    "# !pip install matplotlib"
   ]
  },
  {
   "cell_type": "code",
   "execution_count": 1,
   "id": "8b7bebb4-348b-42ff-bd8a-45d83822a2a4",
   "metadata": {
    "tags": []
   },
   "outputs": [],
   "source": [
    "import pandas as pd\n",
    "import pandarallel\n",
    "import multiprocessing\n",
    "import warnings\n",
    "import re\n",
    "import string\n",
    "import itertools\n",
    "\n",
    "import nltk\n",
    "from nltk.corpus import stopwords\n",
    "from nltk.tokenize import word_tokenize\n",
    " \n",
    "import matplotlib.pyplot as plt"
   ]
  },
  {
   "cell_type": "code",
   "execution_count": 2,
   "id": "81589488-0664-47dd-a3f6-995dc0dc6940",
   "metadata": {},
   "outputs": [],
   "source": [
    "pd.set_option('display.max_colwidth', 5000)\n",
    "warnings.filterwarnings(\"ignore\")"
   ]
  },
  {
   "cell_type": "code",
   "execution_count": 3,
   "id": "0634d508-f784-4a52-868b-50b5585093e5",
   "metadata": {},
   "outputs": [
    {
     "name": "stdout",
     "output_type": "stream",
     "text": [
      "Using 63 workers\n",
      "INFO: Pandarallel will run on 63 workers.\n",
      "INFO: Pandarallel will use standard multiprocessing data transfer (pipe) to transfer data between the main process and workers.\n"
     ]
    }
   ],
   "source": [
    "num_processors = multiprocessing.cpu_count()\n",
    "workers = num_processors-1\n",
    "print(f'Using {workers} workers')\n",
    "from pandarallel import pandarallel\n",
    "pandarallel.initialize(nb_workers=num_processors-1, use_memory_fs=False)"
   ]
  },
  {
   "cell_type": "code",
   "execution_count": 4,
   "id": "93312702-9a96-4d68-a9a3-2b72c3facdad",
   "metadata": {},
   "outputs": [],
   "source": [
    "import spacy\n",
    "nlp = spacy.load(\"en_core_web_md\", disable=['parser', 'ner'])"
   ]
  },
  {
   "cell_type": "markdown",
   "id": "80a0f93b-a0cf-4e53-a3e9-4b21c731cf2d",
   "metadata": {},
   "source": [
    "# Data loading and EDA"
   ]
  },
  {
   "cell_type": "code",
   "execution_count": 5,
   "id": "f625cbd5-1bc5-4fe8-8964-b47994683ee4",
   "metadata": {},
   "outputs": [
    {
     "name": "stdout",
     "output_type": "stream",
     "text": [
      "CPU times: user 7.86 s, sys: 5.12 s, total: 13 s\n",
      "Wall time: 17.7 s\n"
     ]
    },
    {
     "data": {
      "text/plain": [
       "(200332, 5)"
      ]
     },
     "execution_count": 5,
     "metadata": {},
     "output_type": "execute_result"
    }
   ],
   "source": [
    "%%time\n",
    "\n",
    "df_news_final_project = pd.read_parquet('https://storage.googleapis.com/msca-bdp-data-open/news_final_project/news_final_project.parquet', engine='pyarrow')\n",
    "df_news_final_project.shape"
   ]
  },
  {
   "cell_type": "code",
   "execution_count": 6,
   "id": "4b027608-5614-4130-80ea-57d905025c93",
   "metadata": {},
   "outputs": [
    {
     "data": {
      "text/plain": [
       "(200332, 5)"
      ]
     },
     "execution_count": 6,
     "metadata": {},
     "output_type": "execute_result"
    }
   ],
   "source": [
    "df_news_final_project.shape"
   ]
  },
  {
   "cell_type": "code",
   "execution_count": 7,
   "id": "31e4c34d-e702-491d-8e52-32a80ef39ede",
   "metadata": {},
   "outputs": [
    {
     "data": {
      "text/plain": [
       "url         object\n",
       "date        object\n",
       "language    object\n",
       "title       object\n",
       "text        object\n",
       "dtype: object"
      ]
     },
     "execution_count": 7,
     "metadata": {},
     "output_type": "execute_result"
    }
   ],
   "source": [
    "df_news_final_project.dtypes"
   ]
  },
  {
   "cell_type": "code",
   "execution_count": 8,
   "id": "660e9741-39f4-44bb-8d44-b34e63ba9028",
   "metadata": {},
   "outputs": [],
   "source": [
    "# Convert to datetime\n",
    "df_news_final_project['date'] = pd.to_datetime(df_news_final_project['date'])"
   ]
  },
  {
   "cell_type": "code",
   "execution_count": 9,
   "id": "ccee2d9a-e63d-496d-85ac-bb8d1d1e20b1",
   "metadata": {},
   "outputs": [
    {
     "data": {
      "text/plain": [
       "url         0\n",
       "date        0\n",
       "language    0\n",
       "title       0\n",
       "text        0\n",
       "dtype: int64"
      ]
     },
     "execution_count": 9,
     "metadata": {},
     "output_type": "execute_result"
    }
   ],
   "source": [
    "df_news_final_project.isnull().sum()"
   ]
  },
  {
   "cell_type": "code",
   "execution_count": 10,
   "id": "a3147739-6287-4258-aa74-b991bdbe832a",
   "metadata": {
    "tags": []
   },
   "outputs": [
    {
     "data": {
      "text/plain": [
       "url\n",
       "http://en.people.cn/n3/2021/0318/c90000-9830122.html                                                                            1\n",
       "https://it-online.co.za/2022/10/19/senior-data-engineer-western-cape-century-city/                                              1\n",
       "https://goodmenproject.com/featured-content/emerging-standards-for-using-llms-like-chatgpt-in-research-publications/            1\n",
       "https://hackernoon.com/creating-a-machine-learning-workflow-using-google-bigquery-and-amazon-managed-apache-airflow-c74r31fd    1\n",
       "https://hackernoon.com/is-your-data-science-team-an-island-61d3f64fd397                                                         1\n",
       "                                                                                                                               ..\n",
       "https://sociable.co/technology/how-ai-influenced-habits-and-behavioral-changes-lead-to-financial-freedom-podcast-episode/       1\n",
       "https://southernmarylandchronicle.com/2023/02/25/using-ai-to-improve-wetland-mapping-advancements-and-potential-application/    1\n",
       "https://sports.ndtv.com/ipl-2023/will-ms-dhoni-retire-after-ipl-2023-heres-what-chatgpt-thinks-3893774                          1\n",
       "https://steamdb.info/patchnotes/8589498/                                                                                        1\n",
       "https://yourstory.com/2021/05/startups-covid-19-slang-labs-voice-ai-coronavirus/amp                                             1\n",
       "Name: count, Length: 200332, dtype: int64"
      ]
     },
     "execution_count": 10,
     "metadata": {},
     "output_type": "execute_result"
    }
   ],
   "source": [
    "df_news_final_project['url'].value_counts()"
   ]
  },
  {
   "cell_type": "code",
   "execution_count": 11,
   "id": "e4866685-09c8-40c1-8d77-a58a996b84b0",
   "metadata": {},
   "outputs": [],
   "source": [
    "# Regex pattern to extract website names\n",
    "pattern = r'(https?://(?:www\\.)?\\S+\\.\\w{2,4}(?!html\\b)(?:\\.\\w{2})?\\/)'\n",
    "\n",
    "# Function to extract website names\n",
    "def extract_website_name(url):\n",
    "    match = re.search(pattern, url)\n",
    "    if match:\n",
    "        return match.group(1)\n",
    "    else:\n",
    "        return \"\"\n",
    "\n",
    "# Apply the function to column and create a new column\n",
    "df_news_final_project['website'] = df_news_final_project['url'].apply(extract_website_name)"
   ]
  },
  {
   "cell_type": "code",
   "execution_count": 12,
   "id": "8d64868c-b844-44c7-aa4d-48ed6ff698a6",
   "metadata": {
    "tags": []
   },
   "outputs": [
    {
     "data": {
      "text/plain": [
       "website\n",
       "https://www.newsbreak.com/                                                                          3501\n",
       "https://www.prnewswire.com/                                                                         3221\n",
       "https://www.einpresswire.com/                                                                       2638\n",
       "https://venturebeat.com/                                                                            2373\n",
       "https://www.wfmz.com/                                                                               2213\n",
       "                                                                                                    ... \n",
       "https://www.nnbusinessview.com/                                                                        1\n",
       "https://www.kildarenow.com/                                                                            1\n",
       "https://www.moneycontrol.com/news/business/meta-rolls-out-ai-language-model-llama-10157071.html/       1\n",
       "https://www.dig-in.com/                                                                                1\n",
       "https://www.wildl.fenews.co.uk/                                                                        1\n",
       "Name: count, Length: 6601, dtype: int64"
      ]
     },
     "execution_count": 12,
     "metadata": {},
     "output_type": "execute_result"
    }
   ],
   "source": [
    "df_news_final_project['website'].value_counts()"
   ]
  },
  {
   "cell_type": "code",
   "execution_count": 13,
   "id": "acee3981-2fe4-427f-95e3-14fcabe8b6f3",
   "metadata": {},
   "outputs": [
    {
     "data": {
      "text/plain": [
       "language\n",
       "en    200332\n",
       "Name: count, dtype: int64"
      ]
     },
     "execution_count": 13,
     "metadata": {},
     "output_type": "execute_result"
    }
   ],
   "source": [
    "df_news_final_project['language'].value_counts()"
   ]
  },
  {
   "cell_type": "code",
   "execution_count": 14,
   "id": "903c8f09-e0a0-4e46-b09c-0c9451975f21",
   "metadata": {
    "tags": []
   },
   "outputs": [
    {
     "data": {
      "text/plain": [
       "date\n",
       "2023-02-07    1237\n",
       "2023-02-08    1061\n",
       "2023-04-18    1039\n",
       "2023-04-25     986\n",
       "2023-04-27     955\n",
       "              ... \n",
       "2020-05-17      15\n",
       "2020-12-27      14\n",
       "2022-02-06      13\n",
       "2022-01-02      12\n",
       "2020-09-27      12\n",
       "Name: count, Length: 1213, dtype: int64"
      ]
     },
     "execution_count": 14,
     "metadata": {},
     "output_type": "execute_result"
    }
   ],
   "source": [
    "#majority of articles are recently published (in 2023)\n",
    "df_news_final_project['date'].value_counts()"
   ]
  },
  {
   "cell_type": "code",
   "execution_count": 15,
   "id": "ff8de7e9-ddcd-4d6b-8e4b-8149cc7d3be0",
   "metadata": {},
   "outputs": [
    {
     "name": "stdout",
     "output_type": "stream",
     "text": [
      "Minimum date: 2020-01-01 00:00:00\n",
      "Maximum date: 2023-04-28 00:00:00\n"
     ]
    }
   ],
   "source": [
    "min_date = df_news_final_project['date'].min()\n",
    "max_date = df_news_final_project['date'].max()\n",
    "\n",
    "print(\"Minimum date:\", min_date)\n",
    "print(\"Maximum date:\", max_date)"
   ]
  },
  {
   "cell_type": "code",
   "execution_count": 16,
   "id": "7ff6a517-ab86-4665-b8f3-841a0eef7914",
   "metadata": {
    "tags": []
   },
   "outputs": [
    {
     "data": {
      "text/plain": [
       "title\n",
       "Virtus Artificial Intelligence &amp; Technology Opportunities Fund Discloses Sources of Distribution - Section 19(a) Notice              237\n",
       "Virtus AllianzGI Artificial Intelligence &amp; Technology Opportunities Fund Discloses Sources of Distribution - Section 19(a) Notice    119\n",
       "Trump arrested? Putin jailed? Fake AI images spread online                                                                                99\n",
       "Musk, scientists call for halt to AI race sparked by ChatGPT                                                                              97\n",
       "Biden administration seeks input on AI safety measures                                                                                    86\n",
       "                                                                                                                                        ... \n",
       "Qualcomm Snapdragon 888 Plus Announced with CPU and AI Upgrades | Beebom                                                                   1\n",
       "Google Introduces Bard AI as a Rival to ChatGPT | Beebom                                                                                   1\n",
       "Reverend Roboto: Artificial intelligence and pastoral care – Baptist News Global                                                           1\n",
       "How to Configure the Azure Sentinel Logs Blade to Run a Data Sample on Double-click – Azure Cloud & AI Domain Blog                         1\n",
       "Startups fight COVID-19: Slang Labs is using voice AI to help coronavirus related search                                                   1\n",
       "Name: count, Length: 140223, dtype: int64"
      ]
     },
     "execution_count": 16,
     "metadata": {},
     "output_type": "execute_result"
    }
   ],
   "source": [
    "df_news_final_project['title'].value_counts()"
   ]
  },
  {
   "cell_type": "code",
   "execution_count": 17,
   "id": "b9306f64-912a-4516-b535-aa202763c412",
   "metadata": {
    "tags": []
   },
   "outputs": [
    {
     "data": {
      "text/html": [
       "<div>\n",
       "<style scoped>\n",
       "    .dataframe tbody tr th:only-of-type {\n",
       "        vertical-align: middle;\n",
       "    }\n",
       "\n",
       "    .dataframe tbody tr th {\n",
       "        vertical-align: top;\n",
       "    }\n",
       "\n",
       "    .dataframe thead th {\n",
       "        text-align: right;\n",
       "    }\n",
       "</style>\n",
       "<table border=\"1\" class=\"dataframe\">\n",
       "  <thead>\n",
       "    <tr style=\"text-align: right;\">\n",
       "      <th></th>\n",
       "      <th>url</th>\n",
       "      <th>date</th>\n",
       "      <th>language</th>\n",
       "      <th>title</th>\n",
       "      <th>text</th>\n",
       "      <th>website</th>\n",
       "    </tr>\n",
       "  </thead>\n",
       "  <tbody>\n",
       "    <tr>\n",
       "      <th>977</th>\n",
       "      <td>https://www.wrdw.com/prnewswire/2022/07/15/virtus-artificial-intelligence-amp-technology-opportunities-fund-discloses-sources-distribution-section-19a-notice/</td>\n",
       "      <td>2022-07-15</td>\n",
       "      <td>en</td>\n",
       "      <td>Virtus Artificial Intelligence &amp;amp; Technology Opportunities Fund Discloses Sources of Distribution - Section 19(a) Notice</td>\n",
       "      <td>Virtus Artificial Intelligence &amp;amp; Technology Opportunities Fund Discloses Sources of Distribution - Section 19(a) Notice\\n\\nSkip to contentSubmit Photos/VideosCommunity CalendarAbout UsAdvertisingFather's Day GiveawayWatch LiveNewsFirst Alert WeatherI-Team InvestigatesLatest NewscastsSportsMorning MixSpecial Weather Statement is in effectDismiss Weather Alerts Alerts BarVirtus Artificial Intelligence &amp; Technology Opportunities Fund Discloses Sources of Distribution - Section 19(a) NoticePublished: Jul. 15, 2022 at 4:15 PM EDT|Updated: 2 hours agoHARTFORD, Conn., July 15, 2022 /PRNewswire/ -- Virtus Artificial Intelligence &amp; Technology Opportunities Fund (formerly known as Virtus AllianzGI Artificial Intelligence &amp; Technology Opportunities Fund) (NYSE: AIO) previously announced the following monthly distribution on June 7, 2022:Amount of DistributionEx-DateRecord DatePayable Date$0.15July 8, 2022July 11, 2022August 1, 2022Under the terms of its Managed Distribution Plan, the Fund will seek to maintain a consistent distribution level that may be paid, in part or in full, from net investment income and realized capital gains, or a combination thereof. Shareholders should note, however, that if the Fund's aggregate net investment income and net realized capital gains are less than the amount of the distribution level, the difference will be distributed from the Fund's assets and will constitute a return of the shareholder's capital. You should not draw any conclusions about the Fund's investment performance from the amount of this distribution or from the terms of the Fund's Managed Distribution Plan.The Fund provided this estimate of the sources of the distributions:Distribution EstimatesJuly 2022 (MTD)Fiscal Year-to-Date (YTD)(1)(Sources)Per ShareAmountPercentage of Current DistributionPer Share AmountPercentageof Current DistributionNet Investment Income$            -0.0 %$            -0.0 %Net Realized Short-Term Capital Gains-0.0 %0.49555.0 %Net Realized Long-Term Capital Gains0.150100.0 %0.40545.0 %Return of Capital (or other Capital Source)-0.0 %-0.0 %Total Distribution$     0.150100.0 %$     0.900100.0 %(1)Fiscal year started February 1, 2022Information regarding the Fund's performance and distribution rates is set forth below. Please note that all performance figures are based on the Fund's NAV and not the market price of the Fund's shares. Performance figures are not meant to represent individual shareholder performance.June 30, 2022Average Annual Total Return on NAV for the 5-year period (2)9.92 %Current Fiscal YTD Annualized Distribution Rate (3)9.61 %Fiscal YTD Cumulative Total Return on NAV (4)-19.79 %Fiscal YTD Cumulative Distribution Rate (5)4.00 %(2)Average Annual Total Return on NAV is the annual compound return for the five-year period. It reflects the change in the Fund's NAV and reinvestment of all distributions. AIO incepted October 31, 2019, and thus returns represent life to date returns.(3)Current Fiscal YTD Annualized Distribution Rate is the current distribution rate annualized as a percentage of the Fund's NAV at month end.(4)Fiscal YTD Cumulative Total Return on NAV is the percentage change in the Fund's NAV from the first day of the fiscal year to this month end, including distributions paid and assuming reinvestment of those distributions.(5)Fiscal YTD Cumulative Distribution Rate is the dollar value of distributions from the first day of the fiscal year to this month end as a percentage of the Fund's NAV at month end.The amounts and sources of distributions reported in this notice are estimates only and are not being provided for tax reporting purposes. The actual amounts and sources of the distributions for tax purposes will depend on the Fund's investment experience during the remainder of its fiscal year and may be subject to changes based on tax regulations. The Fund or your broker will send you a Form 1099-DIV for the calendar year that will tell you what distributions to report for federal income tax purposes. About the FundVirtus Artificial Intelligence &amp; Technology Opportunities Fund is a diversified closed-end fund that seeks to provide total return through a combination of current income, current gains, and long-term capital appreciation. A multi-asset approach based on fundamental research is employed, dynamically allocating to attractive segments of a company's debt and equity in order to offer an attractive risk/reward profile. Virtus Investment Advisers, Inc. is the investment adviser to the Fund and Allianz Global Investors is its subadviser.For more information on the Fund, contact shareholder services at (866) 270-7788, by email at closedendfunds@virtus.com, or through the Closed-End Funds section of virtus.com.Fund RisksAn investment in a fund is subject to risk, including the risk of possible loss of principal. A fund's shares may be worth less upon their sale than what an investor paid for them. Shares of closed-end funds may trade at a premium or disco...</td>\n",
       "      <td>https://www.wrdw.com/</td>\n",
       "    </tr>\n",
       "    <tr>\n",
       "      <th>1469</th>\n",
       "      <td>https://www.fox19.com/prnewswire/2023/01/19/virtus-artificial-intelligence-amp-technology-opportunities-fund-discloses-sources-distribution-section-19a-notice/</td>\n",
       "      <td>2023-01-19</td>\n",
       "      <td>en</td>\n",
       "      <td>Virtus Artificial Intelligence &amp;amp; Technology Opportunities Fund Discloses Sources of Distribution - Section 19(a) Notice</td>\n",
       "      <td>Virtus Artificial Intelligence &amp;amp; Technology Opportunities Fund Discloses Sources of Distribution - Section 19(a) Notice\\n\\nSkip to contentContestsBusiness SpotlightTake Paws19 For A CureBreaking ThroughCoffee TalkNewsBengalsCincinnati’s Crime VaultPike County MassacreWatch LIVEWeatherSportsVideoAbout UsHomeSubmit photosNewsletter Sign UpProgramming ScheduleNewsBengalsPike County MassacreCincinnati's Crime VaultButler CountyClermont CountyWarren CountyStateNorthern KentuckyIndianaGas PricesWeatherFirst Alert 24/7 Weather7-Day ForecastSchool closings and delaysSportsBengalsHigh School SportsBaxla Tractor Athlete of the MonthOrthoCinsational Play of the WeekLatest NewscastsPodcastsCincinnati’s Crime VaultWeekend Countdown with Rob WilliamsMic’d Up MomsMorning ShowInterviewsSmile It's Your Birthday!TrafficAbout UsNEXTGEN TVMeet the FOX19 teamCalendarFox 19 AppsSmart Device CentralDigital Advertising SolutionsJob PostingsFeatured Business19 for a CureBreaking ThroughContestsBusiness AnnouncementsAllworth AdviceBusiness SpotlightSponsored ContentPowerNationCircle - Country Music &amp; LifestyleGray DC BureauInvestigate TVPress ReleasesVirtus Artificial Intelligence &amp; Technology Opportunities Fund Discloses Sources of Distribution - Section 19(a) NoticePublished: Jan. 19, 2023 at 4:35 PM EST|Updated: 1 hour agoHARTFORD, Conn., Jan. 19, 2023 /PRNewswire/ -- Virtus Artificial Intelligence &amp; Technology Opportunities Fund (NYSE: AIO) previously announced the following monthly distribution on December 2, 2022:Amount of DistributionEx-DateRecord DatePayable Date$0.15January 19, 2023January 20, 2023February 1, 2023Under the terms of its Managed Distribution Plan, the Fund will seek to maintain a consistent distribution level that may be paid, in part or in full, from net investment income and realized capital gains, or a combination thereof. Shareholders should note, however, that if the Fund's aggregate net investment income and net realized capital gains are less than the amount of the distribution level, the difference will be distributed from the Fund's assets and will constitute a return of the shareholder's capital. You should not draw any conclusions about the Fund's investment performance from the amount of this distribution or from the terms of the Fund's Managed Distribution Plan.The Fund estimates that it has distributed more than its income and capital gains; therefore, a portion of your distribution may be a return of capital.  A return of capital may occur, for example, when some or all of the money that you invested in the Fund is paid back to you.  A return of capital distribution does not necessarily reflect the Fund's investment performance and should not be confused with 'yield' or 'income'.The Fund provided this estimate of the sources of the distributions:Distribution EstimatesJanuary 2023 (MTD)Fiscal Year-to-Date (YTD)(1)(Sources)Per ShareAmountPercentage of Current DistributionPer Share AmountPercentageof Current DistributionNet Investment Income$            -0.0 %$            -0.0 %Net Realized Short-Term Capital Gains-0.0 %0.49527.5 %Net Realized Long-Term Capital Gains-0.0 %0.88749.3 %Return of Capital (or other Capital Source)0.150100.0 %0.41823.2 %Total Distribution$     0.150100.0 %$     1.800100.0 %(1)Fiscal year started February 1, 2022Information regarding the Fund's performance and distribution rates is set forth below. Please note that all performance figures are based on the Fund's NAV and not the market price of the Fund's shares. Performance figures are not meant to represent individual shareholder performance.December 30, 2022Average Annual Total Return on NAV for the 5-year period (2)10.56 %Annualized Current Distribution Rate (3)9.42 %Fiscal YTD Cumulative Total Return on NAV (4)-14.35 %Fiscal YTD Cumulative Distribution Rate (5)8.63 %(2)Average Annual Total Return on NAV is the annual compound return for the five-year period. It reflects the change in the Fund's NAV and reinvestment of all distributions. AIO incepted October 31, 2019, and thus returns represent inception to date returns.(3)Annualized Current Distribution Rate is the current distribution rate annualized as a percentage of the Fund's NAV at month end.(4)Fiscal YTD Cumulative Total Return on NAV is the percentage change in the Fund's NAV from the first day of the fiscal year to this month end, including distributions paid and assuming reinvestment of those distributions.(5)Fiscal YTD Cumulative Distribution Rate is the dollar value of distributions from the first day of the fiscal year to this month end as a percentage of the Fund's NAV at month end.The amounts and sources of distributions reported in this notice are estimates only and are not being provided for tax reporting purposes. The actual amounts and sources of the distributions for tax purposes will depend on the Fund's investment experience during the remainder of its fiscal year and may be subject to changes based on tax regulations. The Fund or your b...</td>\n",
       "      <td>https://www.fox19.com/</td>\n",
       "    </tr>\n",
       "    <tr>\n",
       "      <th>1538</th>\n",
       "      <td>https://www.kgns.tv/prnewswire/2023/01/19/virtus-artificial-intelligence-amp-technology-opportunities-fund-discloses-sources-distribution-section-19a-notice/</td>\n",
       "      <td>2023-01-19</td>\n",
       "      <td>en</td>\n",
       "      <td>Virtus Artificial Intelligence &amp;amp; Technology Opportunities Fund Discloses Sources of Distribution - Section 19(a) Notice</td>\n",
       "      <td>Virtus Artificial Intelligence &amp;amp; Technology Opportunities Fund Discloses Sources of Distribution - Section 19(a) Notice\\n\\nSkip to contentShop LocalEighth Grader of the MonthTeachers of the MonthNewsWeatherSportsW.B.C.A. EventsWatch Now!Digital ContentHomepageElections Guide: 2022NewsLocalStateNationalEntertainmentNews LivestreamTelemundoTelemundo at 5WeatherLocal RadarClosingsUpload Weather Pics HereSportsFriday Football FeverHigh School SportsFriday Football FeverScoreboardFriday Football Fever: TeamsFriday Football Fever: Player of the WeekDigital ContentPop Off The ClockContact UsMeet the TeamEmploymentAbout KGNSStation ToursSubmit a News TipJobs at KGNSKGNS E-NewsContestsCOVID-19 MapLotterySubmit Photos and VideoProgramming ScheduleCircle - Country Music &amp; LifestyleGray DC BureauInvestigate TVPowerNationABCNBCCBSThe CWLatest NewscastsPress ReleasesVirtus Artificial Intelligence &amp; Technology Opportunities Fund Discloses Sources of Distribution - Section 19(a) NoticePublished: Jan. 19, 2023 at 3:35 PM CST|Updated: 2 hours agoHARTFORD, Conn., Jan. 19, 2023 /PRNewswire/ -- Virtus Artificial Intelligence &amp; Technology Opportunities Fund (NYSE: AIO) previously announced the following monthly distribution on December 2, 2022:Amount of DistributionEx-DateRecord DatePayable Date$0.15January 19, 2023January 20, 2023February 1, 2023Under the terms of its Managed Distribution Plan, the Fund will seek to maintain a consistent distribution level that may be paid, in part or in full, from net investment income and realized capital gains, or a combination thereof. Shareholders should note, however, that if the Fund's aggregate net investment income and net realized capital gains are less than the amount of the distribution level, the difference will be distributed from the Fund's assets and will constitute a return of the shareholder's capital. You should not draw any conclusions about the Fund's investment performance from the amount of this distribution or from the terms of the Fund's Managed Distribution Plan.The Fund estimates that it has distributed more than its income and capital gains; therefore, a portion of your distribution may be a return of capital.  A return of capital may occur, for example, when some or all of the money that you invested in the Fund is paid back to you.  A return of capital distribution does not necessarily reflect the Fund's investment performance and should not be confused with 'yield' or 'income'.The Fund provided this estimate of the sources of the distributions:Distribution EstimatesJanuary 2023 (MTD)Fiscal Year-to-Date (YTD)(1)(Sources)Per ShareAmountPercentage of Current DistributionPer Share AmountPercentageof Current DistributionNet Investment Income$            -0.0 %$            -0.0 %Net Realized Short-Term Capital Gains-0.0 %0.49527.5 %Net Realized Long-Term Capital Gains-0.0 %0.88749.3 %Return of Capital (or other Capital Source)0.150100.0 %0.41823.2 %Total Distribution$     0.150100.0 %$     1.800100.0 %(1)Fiscal year started February 1, 2022Information regarding the Fund's performance and distribution rates is set forth below. Please note that all performance figures are based on the Fund's NAV and not the market price of the Fund's shares. Performance figures are not meant to represent individual shareholder performance.December 30, 2022Average Annual Total Return on NAV for the 5-year period (2)10.56 %Annualized Current Distribution Rate (3)9.42 %Fiscal YTD Cumulative Total Return on NAV (4)-14.35 %Fiscal YTD Cumulative Distribution Rate (5)8.63 %(2)Average Annual Total Return on NAV is the annual compound return for the five-year period. It reflects the change in the Fund's NAV and reinvestment of all distributions. AIO incepted October 31, 2019, and thus returns represent inception to date returns.(3)Annualized Current Distribution Rate is the current distribution rate annualized as a percentage of the Fund's NAV at month end.(4)Fiscal YTD Cumulative Total Return on NAV is the percentage change in the Fund's NAV from the first day of the fiscal year to this month end, including distributions paid and assuming reinvestment of those distributions.(5)Fiscal YTD Cumulative Distribution Rate is the dollar value of distributions from the first day of the fiscal year to this month end as a percentage of the Fund's NAV at month end.The amounts and sources of distributions reported in this notice are estimates only and are not being provided for tax reporting purposes. The actual amounts and sources of the distributions for tax purposes will depend on the Fund's investment experience during the remainder of its fiscal year and may be subject to changes based on tax regulations. The Fund or your broker will send you a Form 1099-DIV for the calendar year that will tell you what distributions to report for federal income tax purposes. About the FundVirtus Artificial Intelligence &amp; Technology Opportunities Fund is a diversified closed-end fund that seeks to provide total ...</td>\n",
       "      <td>https://www.kgns.tv/</td>\n",
       "    </tr>\n",
       "    <tr>\n",
       "      <th>1906</th>\n",
       "      <td>https://www.wiltonbulletin.com/news/politics/article/trump-arrested-putin-jailed-fake-ai-images-17856545.php</td>\n",
       "      <td>2023-03-23</td>\n",
       "      <td>en</td>\n",
       "      <td>Trump arrested? Putin jailed? Fake AI images spread online</td>\n",
       "      <td>\\nTrump arrested? Putin jailed? Fake AI images spread online\\n \\n\\n \\n \\n\\n \\n\\n \\n\\n \\n \\n\\n \\nSkip to main content\\nTurn off refresh\\n\\n\\n \\n\\nCurrently Reading\\nTrump arrested? Putin jailed? Fake AI images spread online\\n\\nSubscribe\\nSubscribe\\n\\ne-Edition\\nSign In\\n\\n  \\nPuzzleshomeSign Up for Newsletterse-EditionArchivesAdvertiseAbout UsPrint ArchivesContact The Wilton BulletinPrivacy NoticeTerms of UseNewsPolitics &amp; ElectionsConnecticutTown GovernmentEducationPolice &amp; FireCannabisOpinionBusinessReal EstateSportsHigh School SportsUConnEntertainmentLivingFoodHome and GardenObituariesShoppingAdvertising FeaturesEventsClassifieds\\n\\n  \\n \\n\\nRecommended\\n \\nProm dress sale benefits Wilton's production of 'Mary Poppins'\\n \\nWeir Farm to welcome six 'talented' artists-in-residence in 2023\\n \\nWilton Library putting a spotlight on The Brubeck Collection\\n \\nWilton Library Lines: Mr. Beethoven to drop in at kids' concert\\n \\nWilton Center housing proposal grows to 5 stories, 42 apartments\\n \\nWilton seeks volunteers to help out at Townwide Cleanup Day\\n \\nDevelopers appeal denial of sewer extension for Wilton housing\\n \\nWilton teens bring free science lessons to kids with Team STEAM\\n \\nWilton P&amp;Z seeks more details on day-care center's plan to move\\n \\nWilton students get shaved 'in solidarity' with kids with cancer\\n \\n  \\nNewsTrump arrested? Putin jailed? Fake AI images spread onlineARIJETA LAJKA and PHILIP MARCELOMarch 23, 2023Updated: March 23, 2023 2:16 p.m.\\n\\nFacebook\\nTwitter\\nEmail\\n\\nComments\\n\\n NEW YORK (AP) — Former President Donald Trump getting gang-tackled by riot-gear-clad New York City police officers. Russian President Vladimir Putin in prison grays behind the bars of a dimly lit concrete cell.\\nThe highly detailed, sensational images have inundated Twitter and other platforms in recent days, amid news that Trump faces possible criminal charges and the International Criminal Court has issued an arrest warrant for Putin.\\n But neither visual is remotely real. The images — and scores of variations littering social media — were produced using increasingly sophisticated and widely accessible image generators powered by artificial intelligence.\\n\\n Misinformation experts warn the images are harbingers of a new reality: waves of fake photos and videos flooding social media after major news events and further muddying fact and fiction at crucial times for society.\\n“It does add noise during crisis events. It also increases the cynicism level,” said Jevin West, a professor at the University of Washington in Seattle who focuses on the spread of misinformation. “You start to lose trust in the system and the information that you are getting.”\\nWhile the ability to manipulate photos and create fake images isn’t new, AI image generator tools by Midjourney, DALL-E and others are easier to use. They can quickly generate realistic images — complete with detailed backgrounds — on a mass scale with little more than a simple text prompt from users.\\nSome of the recent images have been driven by this month's release of a new version of Midjourney’s text-to-image synthesis model, which can, among other things, now produce convincing images mimicking the style of news agency photos.\\nIn one widely-circulating Twitter thread, Eliot Higgins, founder of Bellingcat, a Netherlands-based investigative journalism collective, used the latest version of the tool to conjure up scores of dramatic images of Trump’s fictional arrest.\\nThe visuals, which have been shared and liked tens of thousands of times, showed a crowd of uniformed officers grabbing the Republican billionaire and violently pulling him down onto the pavement.\\nHiggins, who was also behind a set of images of Putin being arrested, put on trial and then imprisoned, says he posted the images with no ill intent. He even stated clearly in his Twitter thread that the images were AI-generated.\\nStill, the images were enough to get him locked out of the Midjourney server, according to Higgins. The San Francisco-based independent research lab didn’t respond to emails seeking comment.\\n“The Trump arrest image was really just casually showing both how good and bad Midjourney was at rendering real scenes,” Higgins wrote in an email. “The images started to form a sort of narrative as I plugged in prompts to Midjourney, so I strung them along into a narrative, and decided to finish off the story.”\\nHe pointed out the images are far from perfect: in some, Trump is seen, oddly, wearing a police utility belt. In others, faces and hands are clearly distorted.\\nBut it’s not enough that users like Higgins clearly state in their posts that the images are AI-generated and solely for entertainment, says Shirin Anlen, media technologist at Witness, a New York-based human rights organization that focuses on visual evidence.\\nToo often, the visuals are quickly reshared by others without that crucial context, she said. Indeed, an Instagram post sharing some of Higgins' images o...</td>\n",
       "      <td>https://www.wiltonbulletin.com/</td>\n",
       "    </tr>\n",
       "    <tr>\n",
       "      <th>2554</th>\n",
       "      <td>https://www.kjct8.com/prnewswire/2022/01/18/virtus-allianzgi-artificial-intelligence-amp-technology-opportunities-fund-discloses-sources-distribution-section-19a-notice/</td>\n",
       "      <td>2022-01-18</td>\n",
       "      <td>en</td>\n",
       "      <td>Virtus AllianzGI Artificial Intelligence &amp;amp; Technology Opportunities Fund Discloses Sources of Distribution - Section 19(a) Notice</td>\n",
       "      <td>Virtus AllianzGI Artificial Intelligence &amp;amp; Technology Opportunities Fund Discloses Sources of Distribution - Section 19(a) Notice\\n\\nSkip to contentFirst Warn 8 WeatherSportsLIVECalendarSearchHomepageNewsRegionalStateNationalInternationalNational PoliticsFirst Warn 8 WeatherClosingsCO TripLive CamsSportsHigh SchoolCMUAthlete Of The WeekJUCO World SeriesElection ResultsNational Results MapContact UsMeet the TeamFind Our ChannelJUCO LiveContestsMovies Under the StarsCalendarTelemundoSign Up For E-NewsLIVECW13Job BoardStation JobsLivestream 2COVID-19 MapSubmit Photos &amp; VideoProgramming ScheduleGo to the ProProud to be LocalAuctionsFull Court Press with Greta Van SusterenCircle - Country Music &amp; LifestyleGray DC BureauInvestigate TVPowerNationLatest NewscastsPress ReleasesVirtus AllianzGI Artificial Intelligence &amp; Technology Opportunities Fund Discloses Sources of Distribution - Section 19(a) NoticePublished: Jan. 18, 2022 at 2:30 PM MST|Updated: 1 hour agoHARTFORD, Conn., Jan. 18, 2022 /PRNewswire/ -- Virtus AllianzGI Artificial Intelligence &amp; Technology Opportunities Fund (NYSE: AIO) previously announced on December 17, 2021 that it will institute a managed distribution plan and increase its monthly distribution rate to $0.15 per share effective with the following monthly distribution:Amount of DistributionEx-DateRecord DatePayable Date$0.15January 12, 2022January 13, 2022February 1, 2022Under the terms of its Managed Distribution Plan, the Fund will seek to maintain a consistent distribution level that may be paid in part or in full from net investment income and realized capital gains, or a combination thereof. Shareholders should note, however, that if the Fund's aggregate net investment income and net realized capital gains are less than the amount of the distribution level, the difference will be distributed from the Fund's assets and will constitute a return of the shareholder's capital. You should not draw any conclusions about the Fund's investment performance from the amount of this distribution or from the terms of the Fund's Managed Distribution Plan.The Fund provided this estimate of the sources of the distributions:Distribution EstimatesJanuary 2022 (MTD)Fiscal Year-to-Date (YTD)(1)  (Sources)Per ShareAmountPercentage of Current DistributionPer Share AmountPercentageof Current DistributionNet Investment Income$            -0.0%$            -0.0%Net Realized Short-Term Capital Gains0.150100.0%3.15965.1%Net Realized Long-Term Capital Gains-0.0%1.69134.9%Return of Capital (or other Capital Source)-0.0%-0.0%Total Distribution$     0.150100.0%$     4.850100.0%(1)Fiscal year started March 1, 2021 (fiscal year end will be changing to January 31, effective January 31, 2022).Fiscal YTD includes the special distribution of $3.4497 paid January 10, 2022.Information regarding the Fund's performance and distribution rates is set forth below. Please note that all performance figures are based on the Fund's NAV and not the market price of the Fund's shares. Performance figures are not meant to represent individual shareholder performance.December 31, 2021Average Annual Total Return on NAV for the 5-year period (2)29.74%Current Fiscal YTD Annualized Distribution Rate (3)6.75%Fiscal YTD Cumulative Total Return on NAV (4)7.64%Fiscal YTD Cumulative Distribution Rate (5)4.69%(2)Average Annual Total Return on NAV is the annual compound return for the five-year period. It reflects the change in the Fund's NAV and reinvestment of all distributions. AIO incepted October 31, 2019, and thus returns represent life to date returns.(3)Current Fiscal YTD Annualized Distribution Rate is the current distribution rate ($0.15 per share) annualized as a percentage of the Fund's NAV at month end.(4)Fiscal YTD Cumulative Total Return on NAV is the percentage change in the Fund's NAV from the first day of the fiscal year to this month end, including distributions paid and assuming reinvestment of those distributions.(5)Fiscal YTD Cumulative Distribution Rate is the dollar value of distributions from the first day of the fiscal year to this month end as a percentage of the Fund's NAV at month end, excluding the special distribution of $3.4497 announced in December 2021.  The Fiscal YTD Cumulative Distribution Rate would be 17.62% if the special distribution was included.The amounts and sources of distributions reported in this notice are estimates only and are not being provided for tax reporting purposes. The actual amounts and sources of the distributions for tax purposes will depend on the Fund's investment experience during the remainder of its fiscal year and may be subject to changes based on tax regulations. The Fund or your broker will send you a Form 1099-DIV for the calendar year that will tell you what distributions to report for federal income tax purposes.About the FundVirtus AllianzGI Artificial Intelligence &amp; Technology Opportunities Fund is a diversified closed-end fund that seeks to generate a stable income st...</td>\n",
       "      <td>https://www.kjct8.com/</td>\n",
       "    </tr>\n",
       "    <tr>\n",
       "      <th>...</th>\n",
       "      <td>...</td>\n",
       "      <td>...</td>\n",
       "      <td>...</td>\n",
       "      <td>...</td>\n",
       "      <td>...</td>\n",
       "      <td>...</td>\n",
       "    </tr>\n",
       "    <tr>\n",
       "      <th>196963</th>\n",
       "      <td>https://www.cleveland19.com/prnewswire/2022/05/16/virtus-allianzgi-artificial-intelligence-amp-technology-opportunities-fund-discloses-sources-distribution-section-19a-notice/</td>\n",
       "      <td>2022-05-16</td>\n",
       "      <td>en</td>\n",
       "      <td>Virtus AllianzGI Artificial Intelligence &amp;amp; Technology Opportunities Fund Discloses Sources of Distribution - Section 19(a) Notice</td>\n",
       "      <td>Virtus AllianzGI Artificial Intelligence &amp;amp; Technology Opportunities Fund Discloses Sources of Distribution - Section 19(a) Notice\\n\\nSkip to content2 Strong 4 BulliesCBS19 AdvertisingCLE WeekendCribbs in the CLEW82TXTDealsContestsNewsLiveFirst Alert WeatherNewsletterClosingsThe Next 400SportsSeen On TVTelemundo CLEDark Side of The LandSearchHomeWatch LiveVaccineBig Bad B MovieSeen OnContestsCMSD on CW43DealsSee It, Snap It, Send ItNews19 News Investigative UnitUnidentifiedScam SquadCrime400 Years: The Vestiges of Slavery in ClevelandCOVID &amp; The ClassroomCleveland ComebackDark Side of The LandFirst Alert WeatherRadarClosingsFirst Alert Science SchoolTrafficGas PricesSportsOvertimeCleveland BrownsOperation OrangeTailgate 19Cleveland CavaliersCleveland GuardiansHealthBridging the Great Health DivideVaccineHealth UpdatesGo RedBreast CancerSpot The Signs Opioid CrisisFoodCleveland CooksTaste BudsCommunityShare Your HolidaysCW 43 FocusSee It, Snap It, Send ItCleveland NowCLE WeekendProgramming ScheduleBig Bad B-Movie ShowCribbs in the CLECW43 ClevelandAbout UsMeet the TeamInternshipsCareersInvestigate TVGray DC BureauCircle - Country Music &amp; LifestyleLatest NewscastsPowerNationPress ReleasesVirtus AllianzGI Artificial Intelligence &amp; Technology Opportunities Fund Discloses Sources of Distribution - Section 19(a) NoticePublished: May. 16, 2022 at 4:30 PM EDT|Updated: 1 hour agoHARTFORD, Conn., May 16, 2022 /PRNewswire/ -- Virtus AllianzGI Artificial Intelligence &amp; Technology Opportunities Fund (NYSE: AIO) previously announced the following monthly distribution on March 7, 2022:Amount of DistributionEx-DateRecord DatePayable Date$0.15May 11, 2022May 12, 2022June 1, 2022Under the terms of its Managed Distribution Plan, the Fund will seek to maintain a consistent distribution level that may be paid in part, or in full, from net investment income and realized capital gains, or a combination thereof. Shareholders should note, however, that if the Fund's aggregate net investment income and net realized capital gains are less than the amount of the distribution level, the difference will be distributed from the Fund's assets and will constitute a return of the shareholder's capital. You should not draw any conclusions about the Fund's investment performance from the amount of this distribution or from the terms of the Fund's Managed Distribution Plan.The Fund provided this estimate of the sources of the distributions:Distribution EstimatesMay 2022 (MTD)Fiscal Year-to-Date (YTD)(1)  (Sources)Per ShareAmountPercentage of Current DistributionPer Share AmountPercentageof Current DistributionNet Investment Income$            -0.0%$            -0.0%Net Realized Short-Term Capital Gains0.04530.1%0.49582.5%Net Realized Long-Term Capital Gains0.10569.9%0.10517.5%Return of Capital (or other Capital Source)-0.0%-0.0%Total Distribution$     0.150100.0%$     0.600100.0%(1)    Fiscal year started February 1, 2022Information regarding the Fund's performance and distribution rates is set forth below. Please note that all performance figures are based on the Fund's NAV and not the market price of the Fund's shares. Performance figures are not meant to represent individual shareholder performance.April 29, 2022Average Annual Total Return on NAV for the 5-year period (2)15.97%Current Fiscal YTD Annualized Distribution Rate (3)8.41%Fiscal YTD Cumulative Total Return on NAV (4)-9.78%Fiscal YTD Cumulative Distribution Rate (5)2.10%(2)Average Annual Total Return on NAV is the annual compound return for the five-year period. It reflects the change in the Fund's NAV and reinvestment of all distributions. AIO incepted October 31, 2019, and thus returns represent life to date returns.(3)Current Fiscal YTD Annualized Distribution Rate is the current distribution rate annualized as a percentage of the Fund's NAV at month end.(4)Fiscal YTD Cumulative Total Return on NAV is the percentage change in the Fund's NAV from the first day of the fiscal year to this month end, including distributions paid and assuming reinvestment of those distributions.(5)Fiscal YTD Cumulative Distribution Rate is the dollar value of distributions from the first day of the fiscal year to this month end as a percentage of the Fund's NAV at month end.The amounts and sources of distributions reported in this notice are estimates only and are not being provided for tax reporting purposes. The actual amounts and sources of the distributions for tax purposes will depend on the Fund's investment experience during the remainder of its fiscal year and may be subject to changes based on tax regulations. The Fund or your broker will send you a Form 1099-DIV for the calendar year that will tell you what distributions to report for federal income tax purposes.About the FundVirtus AllianzGI Artificial Intelligence &amp; Technology Opportunities Fund is a diversified closed-end fund that seeks to generate a stable income stream and growth of capital by focusing on one of the most signif...</td>\n",
       "      <td>https://www.cleveland19.com/</td>\n",
       "    </tr>\n",
       "    <tr>\n",
       "      <th>198415</th>\n",
       "      <td>https://www.wlbt.com/prnewswire/2022/01/18/virtus-allianzgi-artificial-intelligence-amp-technology-opportunities-fund-discloses-sources-distribution-section-19a-notice/</td>\n",
       "      <td>2022-01-18</td>\n",
       "      <td>en</td>\n",
       "      <td>Virtus AllianzGI Artificial Intelligence &amp;amp; Technology Opportunities Fund Discloses Sources of Distribution - Section 19(a) Notice</td>\n",
       "      <td>Virtus AllianzGI Artificial Intelligence &amp;amp; Technology Opportunities Fund Discloses Sources of Distribution - Section 19(a) Notice\\n\\nSkip to contentConnect. Shop. Support Local.LawCallCareersAsk the ExpertsNewsWatch LiveTrafficWeatherSportsMississippi WeekendGreat Health DivideWhat's On TVAbout UsSearchHomeWatch LiveWLBT AppsSubmit Your PicsConnect. Shop. Support Local.ConversationsNewsNationalInvestigateCrimeMississippi StrongGood NewsInterviewsConsider This EditorialEducationJackson CrimeJackson HomicidesCitizen SolutionsWeatherSkycamsClosingsRequest a First Alert Weather School VisitCoronavirusCOVID-19 in Miss.SportsThe End ZoneHS Football ScoresMississippi StateOle MissSWACSaintsFinal Play AppHealthGreat Health Divide28 Days of HeartBaby FacesHealth NewsPower of PinkCommunityMississippi StrongBack to SchoolFlashback FridayCareersTrafficGas PricesAbout UsContact UsMeet the TeamProgrammingProgramming ScheduleRescan Your TV!Latest NewscastsGray DC BureauFull Court Press with Greta Van SusterenCircle - Country Music &amp; LifestyleInvestigate TVPowerNationPress ReleasesVirtus AllianzGI Artificial Intelligence &amp; Technology Opportunities Fund Discloses Sources of Distribution - Section 19(a) NoticePublished: Jan. 18, 2022 at 3:30 PM CST|Updated: 1 hour agoHARTFORD, Conn., Jan. 18, 2022 /PRNewswire/ -- Virtus AllianzGI Artificial Intelligence &amp; Technology Opportunities Fund (NYSE: AIO) previously announced on December 17, 2021 that it will institute a managed distribution plan and increase its monthly distribution rate to $0.15 per share effective with the following monthly distribution:Amount of DistributionEx-DateRecord DatePayable Date$0.15January 12, 2022January 13, 2022February 1, 2022Under the terms of its Managed Distribution Plan, the Fund will seek to maintain a consistent distribution level that may be paid in part or in full from net investment income and realized capital gains, or a combination thereof. Shareholders should note, however, that if the Fund's aggregate net investment income and net realized capital gains are less than the amount of the distribution level, the difference will be distributed from the Fund's assets and will constitute a return of the shareholder's capital. You should not draw any conclusions about the Fund's investment performance from the amount of this distribution or from the terms of the Fund's Managed Distribution Plan.The Fund provided this estimate of the sources of the distributions:Distribution EstimatesJanuary 2022 (MTD)Fiscal Year-to-Date (YTD)(1)  (Sources)Per ShareAmountPercentage of Current DistributionPer Share AmountPercentageof Current DistributionNet Investment Income$            -0.0%$            -0.0%Net Realized Short-Term Capital Gains0.150100.0%3.15965.1%Net Realized Long-Term Capital Gains-0.0%1.69134.9%Return of Capital (or other Capital Source)-0.0%-0.0%Total Distribution$     0.150100.0%$     4.850100.0%(1)Fiscal year started March 1, 2021 (fiscal year end will be changing to January 31, effective January 31, 2022).Fiscal YTD includes the special distribution of $3.4497 paid January 10, 2022.Information regarding the Fund's performance and distribution rates is set forth below. Please note that all performance figures are based on the Fund's NAV and not the market price of the Fund's shares. Performance figures are not meant to represent individual shareholder performance.December 31, 2021Average Annual Total Return on NAV for the 5-year period (2)29.74%Current Fiscal YTD Annualized Distribution Rate (3)6.75%Fiscal YTD Cumulative Total Return on NAV (4)7.64%Fiscal YTD Cumulative Distribution Rate (5)4.69%(2)Average Annual Total Return on NAV is the annual compound return for the five-year period. It reflects the change in the Fund's NAV and reinvestment of all distributions. AIO incepted October 31, 2019, and thus returns represent life to date returns.(3)Current Fiscal YTD Annualized Distribution Rate is the current distribution rate ($0.15 per share) annualized as a percentage of the Fund's NAV at month end.(4)Fiscal YTD Cumulative Total Return on NAV is the percentage change in the Fund's NAV from the first day of the fiscal year to this month end, including distributions paid and assuming reinvestment of those distributions.(5)Fiscal YTD Cumulative Distribution Rate is the dollar value of distributions from the first day of the fiscal year to this month end as a percentage of the Fund's NAV at month end, excluding the special distribution of $3.4497 announced in December 2021.  The Fiscal YTD Cumulative Distribution Rate would be 17.62% if the special distribution was included.The amounts and sources of distributions reported in this notice are estimates only and are not being provided for tax reporting purposes. The actual amounts and sources of the distributions for tax purposes will depend on the Fund's investment experience during the remainder of its fiscal year and may be subject to changes based on tax regulations. The Fund or yo...</td>\n",
       "      <td>https://www.wlbt.com/</td>\n",
       "    </tr>\n",
       "    <tr>\n",
       "      <th>198792</th>\n",
       "      <td>https://www.cleveland19.com/prnewswire/2022/08/18/virtus-artificial-intelligence-amp-technology-opportunities-fund-discloses-sources-distribution-section-19a-notice/</td>\n",
       "      <td>2022-08-18</td>\n",
       "      <td>en</td>\n",
       "      <td>Virtus Artificial Intelligence &amp;amp; Technology Opportunities Fund Discloses Sources of Distribution - Section 19(a) Notice</td>\n",
       "      <td>Virtus Artificial Intelligence &amp;amp; Technology Opportunities Fund Discloses Sources of Distribution - Section 19(a) Notice\\n\\nSkip to content2 Strong 4 BulliesCBS19 AdvertisingCLE WeekendCribbs in the CLEW82TXTDealsContestsNewsLiveFirst Alert WeatherNewsletterClosingsFriday Football FrenzySportsSeen On TVTelemundo CLEPodcastsHomeWatch LiveVaccineBig Bad B MovieSeen OnContestsCMSD on CW43DealsSee It, Snap It, Send ItNews19 Troubleshooters19 News Investigative UnitUnidentifiedScam SquadCrime400 Years: The Vestiges of Slavery in ClevelandCOVID &amp; The ClassroomCleveland ComebackPodcastsDark Side of the LandFirst Alert WeatherRadarClosingsFirst Alert Science SchoolTrafficGas PricesSportsOvertimeCleveland BrownsFriday Football FrenzyOperation OrangeTailgate 19Cleveland CavaliersCleveland GuardiansHealthBridging the Great Health DivideVaccineHealth UpdatesGo RedBreast CancerSpot The Signs Opioid CrisisFoodCleveland CooksTaste BudsCommunityShare Your HolidaysCW 43 FocusSee It, Snap It, Send ItCleveland NowCLE WeekendProgramming ScheduleBig Bad B-Movie ShowCribbs in the CLECW43 ClevelandAbout UsContact UsMeet the TeamInternshipsCareersInvestigate TVGray DC BureauCircle - Country Music &amp; LifestyleLatest NewscastsPowerNationPress ReleasesVirtus Artificial Intelligence &amp; Technology Opportunities Fund Discloses Sources of Distribution - Section 19(a) NoticePublished: Aug. 18, 2022 at 4:15 PM EDT|Updated: 57 minutes agoHARTFORD, Conn., Aug. 18, 2022 /PRNewswire/ -- Virtus Artificial Intelligence &amp; Technology Opportunities Fund (NYSE: AIO) previously announced the following monthly distribution on June 7, 2022:Amount of DistributionEx-DateRecord DatePayable Date$0.15August 10, 2022August 11, 2022September 1, 2022Under the terms of its Managed Distribution Plan, the Fund will seek to maintain a consistent distribution level that may be paid, in part or in full, from net investment income and realized capital gains, or a combination thereof. Shareholders should note, however, that if the Fund's aggregate net investment income and net realized capital gains are less than the amount of the distribution level, the difference will be distributed from the Fund's assets and will constitute a return of the shareholder's capital. You should not draw any conclusions about the Fund's investment performance from the amount of this distribution or from the terms of the Fund's Managed Distribution Plan.The Fund provided this estimate of the sources of the distributions:Distribution EstimatesAugust 2022 (MTD)Fiscal Year-to-Date (YTD)(1)  (Sources)Per ShareAmountPercentage of Current DistributionPer Share AmountPercentage of Current DistributionNet Investment Income$            -0.0 %$            -0.0 %Net Realized Short-Term Capital Gains-0.0 %0.49547.2 %Net Realized Long-Term Capital Gains0.150100.0 %0.55552.8 %Return of Capital (or other Capital Source)-0.0 %-0.0 %Total Distribution$     0.150100.0 %$     1.050100.0 %(1)    Fiscal year started February 1, 2022Information regarding the Fund's performance and distribution rates is set forth below. Please note that all performance figures are based on the Fund's NAV and not the market price of the Fund's shares. Performance figures are not meant to represent individual shareholder performance.July 29, 2022Average Annual Total Return on NAV for the 5-year period (2)13.35 %Current Fiscal YTD Annualized Distribution Rate (3)8.83 %Fiscal YTD Cumulative Total Return on NAV (4)-12.09 %Fiscal YTD Cumulative Distribution Rate (5)4.42 %(2)Average Annual Total Return on NAV is the annual compound return for the five-year period. It reflects the change in the Fund's NAV and reinvestment of all distributions. AIO incepted October 31, 2019, and thus returns represent life to date returns.(3)Current Fiscal YTD Annualized Distribution Rate is the current distribution rate annualized as a percentage of the Fund's NAV at month end.(4)Fiscal YTD Cumulative Total Return on NAV is the percentage change in the Fund's NAV from the first day of the fiscal year to this month end, including distributions paid and assuming reinvestment of those distributions.(5)Fiscal YTD Cumulative Distribution Rate is the dollar value of distributions from the first day of the fiscal year to this month end as a percentage of the Fund's NAV at month end.The amounts and sources of distributions reported in this notice are estimates only and are not being provided for tax reporting purposes. The actual amounts and sources of the distributions for tax purposes will depend on the Fund's investment experience during the remainder of its fiscal year and may be subject to changes based on tax regulations. The Fund or your broker will send you a Form 1099-DIV for the calendar year that will tell you what distributions to report for federal income tax purposes.About the FundVirtus Artificial Intelligence &amp; Technology Opportunities Fund is a diversified closed-end fund that seeks to provide total return through a combination of current...</td>\n",
       "      <td>https://www.cleveland19.com/</td>\n",
       "    </tr>\n",
       "    <tr>\n",
       "      <th>198964</th>\n",
       "      <td>https://www.kfvs12.com/prnewswire/2022/01/18/virtus-allianzgi-artificial-intelligence-amp-technology-opportunities-fund-discloses-sources-distribution-section-19a-notice/</td>\n",
       "      <td>2022-01-18</td>\n",
       "      <td>en</td>\n",
       "      <td>Virtus AllianzGI Artificial Intelligence &amp;amp; Technology Opportunities Fund Discloses Sources of Distribution - Section 19(a) Notice</td>\n",
       "      <td>Virtus AllianzGI Artificial Intelligence &amp;amp; Technology Opportunities Fund Discloses Sources of Distribution - Section 19(a) Notice\\n\\nSkip to contentHeartland VotesFirst Alert WeatherNewsHeartland SportsProgrammingContestsAbout UsHeartland's CWSearchHomeSubmit photos &amp; videosHeartland ExpertWatch NowLatest NewscastsClosingsNewsNews VideoLife Hacks with LauraBlack Friday HQMissouriIllinoisKentucky-TennesseeNationalCrimeInvestigationsFirst Alert WeatherFirst Alert Weather VideoSkycamsHeartland SportsSports VideoHeartland HoopsHeartland Football FridayNational SportsScoreboardHeartland VotesElection ResultsCommunityCalendarHeartland PetsHealthHealth VideoSoutheast HealthBusinessBusiness BreaksProgrammingComplete KFVS12, Heartland’s CW and Grit SchedulesHeartland's CWContestsAbout UsMeet The News TeamMeet The First Alert Weather TeamMeet The Sales TeamMeet The Management TeamContact UsStation HIstoryGray DC BureauInvestigate TVCircle - Country Music &amp; LifestyleFull Court Press with Greta Van SusterenPowerNationPress ReleasesClosings and DelaysDismiss Closings Alerts BarVirtus AllianzGI Artificial Intelligence &amp; Technology Opportunities Fund Discloses Sources of Distribution - Section 19(a) NoticePublished: Jan. 18, 2022 at 3:30 PM CST|Updated: 1 hour agoHARTFORD, Conn., Jan. 18, 2022 /PRNewswire/ -- Virtus AllianzGI Artificial Intelligence &amp; Technology Opportunities Fund (NYSE: AIO) previously announced on December 17, 2021 that it will institute a managed distribution plan and increase its monthly distribution rate to $0.15 per share effective with the following monthly distribution:Amount of DistributionEx-DateRecord DatePayable Date$0.15January 12, 2022January 13, 2022February 1, 2022Under the terms of its Managed Distribution Plan, the Fund will seek to maintain a consistent distribution level that may be paid in part or in full from net investment income and realized capital gains, or a combination thereof. Shareholders should note, however, that if the Fund's aggregate net investment income and net realized capital gains are less than the amount of the distribution level, the difference will be distributed from the Fund's assets and will constitute a return of the shareholder's capital. You should not draw any conclusions about the Fund's investment performance from the amount of this distribution or from the terms of the Fund's Managed Distribution Plan.The Fund provided this estimate of the sources of the distributions:Distribution EstimatesJanuary 2022 (MTD)Fiscal Year-to-Date (YTD)(1)  (Sources)Per ShareAmountPercentage of Current DistributionPer Share AmountPercentageof Current DistributionNet Investment Income$            -0.0%$            -0.0%Net Realized Short-Term Capital Gains0.150100.0%3.15965.1%Net Realized Long-Term Capital Gains-0.0%1.69134.9%Return of Capital (or other Capital Source)-0.0%-0.0%Total Distribution$     0.150100.0%$     4.850100.0%(1)Fiscal year started March 1, 2021 (fiscal year end will be changing to January 31, effective January 31, 2022).Fiscal YTD includes the special distribution of $3.4497 paid January 10, 2022.Information regarding the Fund's performance and distribution rates is set forth below. Please note that all performance figures are based on the Fund's NAV and not the market price of the Fund's shares. Performance figures are not meant to represent individual shareholder performance.December 31, 2021Average Annual Total Return on NAV for the 5-year period (2)29.74%Current Fiscal YTD Annualized Distribution Rate (3)6.75%Fiscal YTD Cumulative Total Return on NAV (4)7.64%Fiscal YTD Cumulative Distribution Rate (5)4.69%(2)Average Annual Total Return on NAV is the annual compound return for the five-year period. It reflects the change in the Fund's NAV and reinvestment of all distributions. AIO incepted October 31, 2019, and thus returns represent life to date returns.(3)Current Fiscal YTD Annualized Distribution Rate is the current distribution rate ($0.15 per share) annualized as a percentage of the Fund's NAV at month end.(4)Fiscal YTD Cumulative Total Return on NAV is the percentage change in the Fund's NAV from the first day of the fiscal year to this month end, including distributions paid and assuming reinvestment of those distributions.(5)Fiscal YTD Cumulative Distribution Rate is the dollar value of distributions from the first day of the fiscal year to this month end as a percentage of the Fund's NAV at month end, excluding the special distribution of $3.4497 announced in December 2021.  The Fiscal YTD Cumulative Distribution Rate would be 17.62% if the special distribution was included.The amounts and sources of distributions reported in this notice are estimates only and are not being provided for tax reporting purposes. The actual amounts and sources of the distributions for tax purposes will depend on the Fund's investment experience during the remainder of its fiscal year and may be subject to changes based on tax regulations. The Fund or you...</td>\n",
       "      <td>https://www.kfvs12.com/</td>\n",
       "    </tr>\n",
       "    <tr>\n",
       "      <th>199931</th>\n",
       "      <td>https://www.kltv.com/2023/03/23/trump-arrested-putin-jailed-fake-ai-images-spread-online/</td>\n",
       "      <td>2023-03-23</td>\n",
       "      <td>en</td>\n",
       "      <td>Trump arrested? Putin jailed? Fake AI images spread online</td>\n",
       "      <td>Trump arrested? Putin jailed? Fake AI images spread online\\n\\nSkip to contentCircle - Country Music &amp; LifestyleAdvertise With UsTeacher TributeHealth UpdateBuddy CheckWatch LiveNewsElectionsVideoWeatherSportsCommunityContestsAbout UsHomeWatch East Texas NowWatch Live/Watch NewscastsBig Red BoxSee it, Snap it, Send itNewsSpace Shuttle ColumbiaPoliticsNationalCrimeCoronavirusStateA Better East TexasEast Texas Ag NewsHeroes FlightEast Texas Now7 InvestigatesPet ProjectVideoWeatherLake LevelsPollen CountMeteorology MinuteProject TornadoThundercall - Sign Up TodaySportsCowboys CampLocalNationalScoreboardThe Red ZoneCOVID-19 UpdatesEast Texas KitchenFood NewsKitchen Pickin'Main DishSide DishDessertsRecallsEast Texas WeekendCommunityGift of LoveMark in Texas HistoryVolunteer CentralPower of PrayerIn FocusCalendarTrafficTraffic On The GoTxDOT Current Road ConditionsHealthContestsAbout UsSend Us A News TipJobsAdvertise With UsMeet the TeamDownload Our AppsContact UsProgrammingScheduleClosed CaptioningInvestigate TVCircle - Country Music &amp; LifestyleGray DC BureauPowerNationLatest NewscastsPress ReleasesTrump arrested? Putin jailed? Fake AI images spread onlineImages created by Eliot Higgins with the use of artificial intelligence show a fictitious skirmish with former President Donald Trump and New York City police officers posted on Higgins' Twitter account, as photographed on an iPhone in Arlington, Va., Thursday, Mar. 23, 2023. The highly detailed, sensational images, which are not real, were produced using a sophisticated and widely accessible image generator.(AP Photo/J. David Ake)By The Associated PressPublished: Mar. 23, 2023 at 1:25 PM CDT|Updated: 1 hour agoShare on FacebookEmail This LinkShare on TwitterShare on PinterestShare on LinkedInNEW YORK (AP) — Former President Donald Trump getting gang-tackled by riot-gear-clad New York City police officers. Russian President Vladimir Putin in prison grays behind the bars of a dimly lit concrete cell.The highly detailed, sensational images have inundated Twitter and other platforms in recent days, amid news that Trump faces possible criminal charges and the International Criminal Court has issued an arrest warrant for Putin.But neither visual is remotely real. The images — and scores of variations littering social media — were produced using increasingly sophisticated and widely accessible image generators powered by artificial intelligence.Misinformation experts warn the images are harbingers of a new reality: waves of fake photos and videos flooding social media after major news events and further muddying fact and fiction at crucial times for society.“It does add noise during crisis events. It also increases the cynicism level,” said Jevin West, a professor at the University of Washington in Seattle who focuses on the spread of misinformation. “You start to lose trust in the system and the information that you are getting.”As the drama surrounding Trump reaches a fever pitch, the waiting game continues for a possible indictment. (CNN, POOL, ABC, WCBS, MSNBC, STORMY DANIELS)While the ability to manipulate photos and create fake images isn’t new, AI image generator tools by Midjourney, DALL-E and others are easier to use. They can quickly generate realistic images — complete with detailed backgrounds — on a mass scale with little more than a simple text prompt from users.Some of the recent images have been driven by this month’s release of a new version of Midjourney’s text-to-image synthesis model, which can, among other things, now produce convincing images mimicking the style of news agency photos.In one widely-circulating Twitter thread, Eliot Higgins, founder of Bellingcat, a Netherlands-based investigative journalism collective, used the latest version of the tool to conjure up scores of dramatic images of Trump’s fictional arrest.The visuals, which have been shared and liked tens of thousands of times, showed a crowd of uniformed officers grabbing the Republican billionaire and violently pulling him down onto the pavement.Higgins, who was also behind a set of images of Putin being arrested, put on trial and then imprisoned, says he posted the images with no ill intent. He even stated clearly in his Twitter thread that the images were AI-generated.Still, the images were enough to get him locked out of the Midjourney server, according to Higgins. The San Francisco-based independent research lab didn’t respond to emails seeking comment.“The Trump arrest image was really just casually showing both how good and bad Midjourney was at rendering real scenes,” Higgins wrote in an email. “The images started to form a sort of narrative as I plugged in prompts to Midjourney, so I strung them along into a narrative, and decided to finish off the story.”He pointed out the images are far from perfect: in some, Trump is seen, oddly, wearing a police utility belt. In others, faces and hands are clearly distorted.But it’s not enough that users like Higgins clearly state...</td>\n",
       "      <td>https://www.kltv.com/</td>\n",
       "    </tr>\n",
       "  </tbody>\n",
       "</table>\n",
       "<p>455 rows × 6 columns</p>\n",
       "</div>"
      ],
      "text/plain": [
       "                                                                                                                                                                                    url   \n",
       "977                      https://www.wrdw.com/prnewswire/2022/07/15/virtus-artificial-intelligence-amp-technology-opportunities-fund-discloses-sources-distribution-section-19a-notice/  \\\n",
       "1469                    https://www.fox19.com/prnewswire/2023/01/19/virtus-artificial-intelligence-amp-technology-opportunities-fund-discloses-sources-distribution-section-19a-notice/   \n",
       "1538                      https://www.kgns.tv/prnewswire/2023/01/19/virtus-artificial-intelligence-amp-technology-opportunities-fund-discloses-sources-distribution-section-19a-notice/   \n",
       "1906                                                                       https://www.wiltonbulletin.com/news/politics/article/trump-arrested-putin-jailed-fake-ai-images-17856545.php   \n",
       "2554          https://www.kjct8.com/prnewswire/2022/01/18/virtus-allianzgi-artificial-intelligence-amp-technology-opportunities-fund-discloses-sources-distribution-section-19a-notice/   \n",
       "...                                                                                                                                                                                 ...   \n",
       "196963  https://www.cleveland19.com/prnewswire/2022/05/16/virtus-allianzgi-artificial-intelligence-amp-technology-opportunities-fund-discloses-sources-distribution-section-19a-notice/   \n",
       "198415         https://www.wlbt.com/prnewswire/2022/01/18/virtus-allianzgi-artificial-intelligence-amp-technology-opportunities-fund-discloses-sources-distribution-section-19a-notice/   \n",
       "198792            https://www.cleveland19.com/prnewswire/2022/08/18/virtus-artificial-intelligence-amp-technology-opportunities-fund-discloses-sources-distribution-section-19a-notice/   \n",
       "198964       https://www.kfvs12.com/prnewswire/2022/01/18/virtus-allianzgi-artificial-intelligence-amp-technology-opportunities-fund-discloses-sources-distribution-section-19a-notice/   \n",
       "199931                                                                                        https://www.kltv.com/2023/03/23/trump-arrested-putin-jailed-fake-ai-images-spread-online/   \n",
       "\n",
       "             date language   \n",
       "977    2022-07-15       en  \\\n",
       "1469   2023-01-19       en   \n",
       "1538   2023-01-19       en   \n",
       "1906   2023-03-23       en   \n",
       "2554   2022-01-18       en   \n",
       "...           ...      ...   \n",
       "196963 2022-05-16       en   \n",
       "198415 2022-01-18       en   \n",
       "198792 2022-08-18       en   \n",
       "198964 2022-01-18       en   \n",
       "199931 2023-03-23       en   \n",
       "\n",
       "                                                                                                                                        title   \n",
       "977               Virtus Artificial Intelligence &amp; Technology Opportunities Fund Discloses Sources of Distribution - Section 19(a) Notice  \\\n",
       "1469              Virtus Artificial Intelligence &amp; Technology Opportunities Fund Discloses Sources of Distribution - Section 19(a) Notice   \n",
       "1538              Virtus Artificial Intelligence &amp; Technology Opportunities Fund Discloses Sources of Distribution - Section 19(a) Notice   \n",
       "1906                                                                               Trump arrested? Putin jailed? Fake AI images spread online   \n",
       "2554    Virtus AllianzGI Artificial Intelligence &amp; Technology Opportunities Fund Discloses Sources of Distribution - Section 19(a) Notice   \n",
       "...                                                                                                                                       ...   \n",
       "196963  Virtus AllianzGI Artificial Intelligence &amp; Technology Opportunities Fund Discloses Sources of Distribution - Section 19(a) Notice   \n",
       "198415  Virtus AllianzGI Artificial Intelligence &amp; Technology Opportunities Fund Discloses Sources of Distribution - Section 19(a) Notice   \n",
       "198792            Virtus Artificial Intelligence &amp; Technology Opportunities Fund Discloses Sources of Distribution - Section 19(a) Notice   \n",
       "198964  Virtus AllianzGI Artificial Intelligence &amp; Technology Opportunities Fund Discloses Sources of Distribution - Section 19(a) Notice   \n",
       "199931                                                                             Trump arrested? Putin jailed? Fake AI images spread online   \n",
       "\n",
       "                                                                                                                                                                                                                                                                                                                                                                                                                                                                                                                                                                                                                                                                                                                                                                                                                                                                                                                                                                                                                                                                                                                                                                                                                                                                                                                                                                                                                                                                                                                                                                                                                                                                                                                                                                                                                                                                                                                                                                                                                                                                                                                                                                                                                                                                                                                                                                                                                                                                                                                                                                                                                                                                                                                                                                                                                                                                                                                                                                                                                                                                                                                                                                                                                                                                                                                                                                                                                                                                                                                                                                                                                                                                                                                                                                                                                                                                                                                                                                                                                                                                                                                                                                                                                                                                                                                                                                                                                                                                                                                                                                                                                                                                                                                                                                                                                                                                                                                                                                                                                                                                                                                                                                                                           text   \n",
       "977     Virtus Artificial Intelligence &amp; Technology Opportunities Fund Discloses Sources of Distribution - Section 19(a) Notice\\n\\nSkip to contentSubmit Photos/VideosCommunity CalendarAbout UsAdvertisingFather's Day GiveawayWatch LiveNewsFirst Alert WeatherI-Team InvestigatesLatest NewscastsSportsMorning MixSpecial Weather Statement is in effectDismiss Weather Alerts Alerts BarVirtus Artificial Intelligence & Technology Opportunities Fund Discloses Sources of Distribution - Section 19(a) NoticePublished: Jul. 15, 2022 at 4:15 PM EDT|Updated: 2 hours agoHARTFORD, Conn., July 15, 2022 /PRNewswire/ -- Virtus Artificial Intelligence & Technology Opportunities Fund (formerly known as Virtus AllianzGI Artificial Intelligence & Technology Opportunities Fund) (NYSE: AIO) previously announced the following monthly distribution on June 7, 2022:Amount of DistributionEx-DateRecord DatePayable Date$0.15July 8, 2022July 11, 2022August 1, 2022Under the terms of its Managed Distribution Plan, the Fund will seek to maintain a consistent distribution level that may be paid, in part or in full, from net investment income and realized capital gains, or a combination thereof. Shareholders should note, however, that if the Fund's aggregate net investment income and net realized capital gains are less than the amount of the distribution level, the difference will be distributed from the Fund's assets and will constitute a return of the shareholder's capital. You should not draw any conclusions about the Fund's investment performance from the amount of this distribution or from the terms of the Fund's Managed Distribution Plan.The Fund provided this estimate of the sources of the distributions:Distribution EstimatesJuly 2022 (MTD)Fiscal Year-to-Date (YTD)(1)(Sources)Per ShareAmountPercentage of Current DistributionPer Share AmountPercentageof Current DistributionNet Investment Income$            -0.0 %$            -0.0 %Net Realized Short-Term Capital Gains-0.0 %0.49555.0 %Net Realized Long-Term Capital Gains0.150100.0 %0.40545.0 %Return of Capital (or other Capital Source)-0.0 %-0.0 %Total Distribution$     0.150100.0 %$     0.900100.0 %(1)Fiscal year started February 1, 2022Information regarding the Fund's performance and distribution rates is set forth below. Please note that all performance figures are based on the Fund's NAV and not the market price of the Fund's shares. Performance figures are not meant to represent individual shareholder performance.June 30, 2022Average Annual Total Return on NAV for the 5-year period (2)9.92 %Current Fiscal YTD Annualized Distribution Rate (3)9.61 %Fiscal YTD Cumulative Total Return on NAV (4)-19.79 %Fiscal YTD Cumulative Distribution Rate (5)4.00 %(2)Average Annual Total Return on NAV is the annual compound return for the five-year period. It reflects the change in the Fund's NAV and reinvestment of all distributions. AIO incepted October 31, 2019, and thus returns represent life to date returns.(3)Current Fiscal YTD Annualized Distribution Rate is the current distribution rate annualized as a percentage of the Fund's NAV at month end.(4)Fiscal YTD Cumulative Total Return on NAV is the percentage change in the Fund's NAV from the first day of the fiscal year to this month end, including distributions paid and assuming reinvestment of those distributions.(5)Fiscal YTD Cumulative Distribution Rate is the dollar value of distributions from the first day of the fiscal year to this month end as a percentage of the Fund's NAV at month end.The amounts and sources of distributions reported in this notice are estimates only and are not being provided for tax reporting purposes. The actual amounts and sources of the distributions for tax purposes will depend on the Fund's investment experience during the remainder of its fiscal year and may be subject to changes based on tax regulations. The Fund or your broker will send you a Form 1099-DIV for the calendar year that will tell you what distributions to report for federal income tax purposes. About the FundVirtus Artificial Intelligence & Technology Opportunities Fund is a diversified closed-end fund that seeks to provide total return through a combination of current income, current gains, and long-term capital appreciation. A multi-asset approach based on fundamental research is employed, dynamically allocating to attractive segments of a company's debt and equity in order to offer an attractive risk/reward profile. Virtus Investment Advisers, Inc. is the investment adviser to the Fund and Allianz Global Investors is its subadviser.For more information on the Fund, contact shareholder services at (866) 270-7788, by email at closedendfunds@virtus.com, or through the Closed-End Funds section of virtus.com.Fund RisksAn investment in a fund is subject to risk, including the risk of possible loss of principal. A fund's shares may be worth less upon their sale than what an investor paid for them. Shares of closed-end funds may trade at a premium or disco...  \\\n",
       "1469    Virtus Artificial Intelligence &amp; Technology Opportunities Fund Discloses Sources of Distribution - Section 19(a) Notice\\n\\nSkip to contentContestsBusiness SpotlightTake Paws19 For A CureBreaking ThroughCoffee TalkNewsBengalsCincinnati’s Crime VaultPike County MassacreWatch LIVEWeatherSportsVideoAbout UsHomeSubmit photosNewsletter Sign UpProgramming ScheduleNewsBengalsPike County MassacreCincinnati's Crime VaultButler CountyClermont CountyWarren CountyStateNorthern KentuckyIndianaGas PricesWeatherFirst Alert 24/7 Weather7-Day ForecastSchool closings and delaysSportsBengalsHigh School SportsBaxla Tractor Athlete of the MonthOrthoCinsational Play of the WeekLatest NewscastsPodcastsCincinnati’s Crime VaultWeekend Countdown with Rob WilliamsMic’d Up MomsMorning ShowInterviewsSmile It's Your Birthday!TrafficAbout UsNEXTGEN TVMeet the FOX19 teamCalendarFox 19 AppsSmart Device CentralDigital Advertising SolutionsJob PostingsFeatured Business19 for a CureBreaking ThroughContestsBusiness AnnouncementsAllworth AdviceBusiness SpotlightSponsored ContentPowerNationCircle - Country Music & LifestyleGray DC BureauInvestigate TVPress ReleasesVirtus Artificial Intelligence & Technology Opportunities Fund Discloses Sources of Distribution - Section 19(a) NoticePublished: Jan. 19, 2023 at 4:35 PM EST|Updated: 1 hour agoHARTFORD, Conn., Jan. 19, 2023 /PRNewswire/ -- Virtus Artificial Intelligence & Technology Opportunities Fund (NYSE: AIO) previously announced the following monthly distribution on December 2, 2022:Amount of DistributionEx-DateRecord DatePayable Date$0.15January 19, 2023January 20, 2023February 1, 2023Under the terms of its Managed Distribution Plan, the Fund will seek to maintain a consistent distribution level that may be paid, in part or in full, from net investment income and realized capital gains, or a combination thereof. Shareholders should note, however, that if the Fund's aggregate net investment income and net realized capital gains are less than the amount of the distribution level, the difference will be distributed from the Fund's assets and will constitute a return of the shareholder's capital. You should not draw any conclusions about the Fund's investment performance from the amount of this distribution or from the terms of the Fund's Managed Distribution Plan.The Fund estimates that it has distributed more than its income and capital gains; therefore, a portion of your distribution may be a return of capital.  A return of capital may occur, for example, when some or all of the money that you invested in the Fund is paid back to you.  A return of capital distribution does not necessarily reflect the Fund's investment performance and should not be confused with 'yield' or 'income'.The Fund provided this estimate of the sources of the distributions:Distribution EstimatesJanuary 2023 (MTD)Fiscal Year-to-Date (YTD)(1)(Sources)Per ShareAmountPercentage of Current DistributionPer Share AmountPercentageof Current DistributionNet Investment Income$            -0.0 %$            -0.0 %Net Realized Short-Term Capital Gains-0.0 %0.49527.5 %Net Realized Long-Term Capital Gains-0.0 %0.88749.3 %Return of Capital (or other Capital Source)0.150100.0 %0.41823.2 %Total Distribution$     0.150100.0 %$     1.800100.0 %(1)Fiscal year started February 1, 2022Information regarding the Fund's performance and distribution rates is set forth below. Please note that all performance figures are based on the Fund's NAV and not the market price of the Fund's shares. Performance figures are not meant to represent individual shareholder performance.December 30, 2022Average Annual Total Return on NAV for the 5-year period (2)10.56 %Annualized Current Distribution Rate (3)9.42 %Fiscal YTD Cumulative Total Return on NAV (4)-14.35 %Fiscal YTD Cumulative Distribution Rate (5)8.63 %(2)Average Annual Total Return on NAV is the annual compound return for the five-year period. It reflects the change in the Fund's NAV and reinvestment of all distributions. AIO incepted October 31, 2019, and thus returns represent inception to date returns.(3)Annualized Current Distribution Rate is the current distribution rate annualized as a percentage of the Fund's NAV at month end.(4)Fiscal YTD Cumulative Total Return on NAV is the percentage change in the Fund's NAV from the first day of the fiscal year to this month end, including distributions paid and assuming reinvestment of those distributions.(5)Fiscal YTD Cumulative Distribution Rate is the dollar value of distributions from the first day of the fiscal year to this month end as a percentage of the Fund's NAV at month end.The amounts and sources of distributions reported in this notice are estimates only and are not being provided for tax reporting purposes. The actual amounts and sources of the distributions for tax purposes will depend on the Fund's investment experience during the remainder of its fiscal year and may be subject to changes based on tax regulations. The Fund or your b...   \n",
       "1538    Virtus Artificial Intelligence &amp; Technology Opportunities Fund Discloses Sources of Distribution - Section 19(a) Notice\\n\\nSkip to contentShop LocalEighth Grader of the MonthTeachers of the MonthNewsWeatherSportsW.B.C.A. EventsWatch Now!Digital ContentHomepageElections Guide: 2022NewsLocalStateNationalEntertainmentNews LivestreamTelemundoTelemundo at 5WeatherLocal RadarClosingsUpload Weather Pics HereSportsFriday Football FeverHigh School SportsFriday Football FeverScoreboardFriday Football Fever: TeamsFriday Football Fever: Player of the WeekDigital ContentPop Off The ClockContact UsMeet the TeamEmploymentAbout KGNSStation ToursSubmit a News TipJobs at KGNSKGNS E-NewsContestsCOVID-19 MapLotterySubmit Photos and VideoProgramming ScheduleCircle - Country Music & LifestyleGray DC BureauInvestigate TVPowerNationABCNBCCBSThe CWLatest NewscastsPress ReleasesVirtus Artificial Intelligence & Technology Opportunities Fund Discloses Sources of Distribution - Section 19(a) NoticePublished: Jan. 19, 2023 at 3:35 PM CST|Updated: 2 hours agoHARTFORD, Conn., Jan. 19, 2023 /PRNewswire/ -- Virtus Artificial Intelligence & Technology Opportunities Fund (NYSE: AIO) previously announced the following monthly distribution on December 2, 2022:Amount of DistributionEx-DateRecord DatePayable Date$0.15January 19, 2023January 20, 2023February 1, 2023Under the terms of its Managed Distribution Plan, the Fund will seek to maintain a consistent distribution level that may be paid, in part or in full, from net investment income and realized capital gains, or a combination thereof. Shareholders should note, however, that if the Fund's aggregate net investment income and net realized capital gains are less than the amount of the distribution level, the difference will be distributed from the Fund's assets and will constitute a return of the shareholder's capital. You should not draw any conclusions about the Fund's investment performance from the amount of this distribution or from the terms of the Fund's Managed Distribution Plan.The Fund estimates that it has distributed more than its income and capital gains; therefore, a portion of your distribution may be a return of capital.  A return of capital may occur, for example, when some or all of the money that you invested in the Fund is paid back to you.  A return of capital distribution does not necessarily reflect the Fund's investment performance and should not be confused with 'yield' or 'income'.The Fund provided this estimate of the sources of the distributions:Distribution EstimatesJanuary 2023 (MTD)Fiscal Year-to-Date (YTD)(1)(Sources)Per ShareAmountPercentage of Current DistributionPer Share AmountPercentageof Current DistributionNet Investment Income$            -0.0 %$            -0.0 %Net Realized Short-Term Capital Gains-0.0 %0.49527.5 %Net Realized Long-Term Capital Gains-0.0 %0.88749.3 %Return of Capital (or other Capital Source)0.150100.0 %0.41823.2 %Total Distribution$     0.150100.0 %$     1.800100.0 %(1)Fiscal year started February 1, 2022Information regarding the Fund's performance and distribution rates is set forth below. Please note that all performance figures are based on the Fund's NAV and not the market price of the Fund's shares. Performance figures are not meant to represent individual shareholder performance.December 30, 2022Average Annual Total Return on NAV for the 5-year period (2)10.56 %Annualized Current Distribution Rate (3)9.42 %Fiscal YTD Cumulative Total Return on NAV (4)-14.35 %Fiscal YTD Cumulative Distribution Rate (5)8.63 %(2)Average Annual Total Return on NAV is the annual compound return for the five-year period. It reflects the change in the Fund's NAV and reinvestment of all distributions. AIO incepted October 31, 2019, and thus returns represent inception to date returns.(3)Annualized Current Distribution Rate is the current distribution rate annualized as a percentage of the Fund's NAV at month end.(4)Fiscal YTD Cumulative Total Return on NAV is the percentage change in the Fund's NAV from the first day of the fiscal year to this month end, including distributions paid and assuming reinvestment of those distributions.(5)Fiscal YTD Cumulative Distribution Rate is the dollar value of distributions from the first day of the fiscal year to this month end as a percentage of the Fund's NAV at month end.The amounts and sources of distributions reported in this notice are estimates only and are not being provided for tax reporting purposes. The actual amounts and sources of the distributions for tax purposes will depend on the Fund's investment experience during the remainder of its fiscal year and may be subject to changes based on tax regulations. The Fund or your broker will send you a Form 1099-DIV for the calendar year that will tell you what distributions to report for federal income tax purposes. About the FundVirtus Artificial Intelligence & Technology Opportunities Fund is a diversified closed-end fund that seeks to provide total ...   \n",
       "1906    \\nTrump arrested? Putin jailed? Fake AI images spread online\\n \\n\\n \\n \\n\\n \\n\\n \\n\\n \\n \\n\\n \\nSkip to main content\\nTurn off refresh\\n\\n\\n \\n\\nCurrently Reading\\nTrump arrested? Putin jailed? Fake AI images spread online\\n\\nSubscribe\\nSubscribe\\n\\ne-Edition\\nSign In\\n\\n  \\nPuzzleshomeSign Up for Newsletterse-EditionArchivesAdvertiseAbout UsPrint ArchivesContact The Wilton BulletinPrivacy NoticeTerms of UseNewsPolitics & ElectionsConnecticutTown GovernmentEducationPolice & FireCannabisOpinionBusinessReal EstateSportsHigh School SportsUConnEntertainmentLivingFoodHome and GardenObituariesShoppingAdvertising FeaturesEventsClassifieds\\n\\n  \\n \\n\\nRecommended\\n \\nProm dress sale benefits Wilton's production of 'Mary Poppins'\\n \\nWeir Farm to welcome six 'talented' artists-in-residence in 2023\\n \\nWilton Library putting a spotlight on The Brubeck Collection\\n \\nWilton Library Lines: Mr. Beethoven to drop in at kids' concert\\n \\nWilton Center housing proposal grows to 5 stories, 42 apartments\\n \\nWilton seeks volunteers to help out at Townwide Cleanup Day\\n \\nDevelopers appeal denial of sewer extension for Wilton housing\\n \\nWilton teens bring free science lessons to kids with Team STEAM\\n \\nWilton P&Z seeks more details on day-care center's plan to move\\n \\nWilton students get shaved 'in solidarity' with kids with cancer\\n \\n  \\nNewsTrump arrested? Putin jailed? Fake AI images spread onlineARIJETA LAJKA and PHILIP MARCELOMarch 23, 2023Updated: March 23, 2023 2:16 p.m.\\n\\nFacebook\\nTwitter\\nEmail\\n\\nComments\\n\\n NEW YORK (AP) — Former President Donald Trump getting gang-tackled by riot-gear-clad New York City police officers. Russian President Vladimir Putin in prison grays behind the bars of a dimly lit concrete cell.\\nThe highly detailed, sensational images have inundated Twitter and other platforms in recent days, amid news that Trump faces possible criminal charges and the International Criminal Court has issued an arrest warrant for Putin.\\n But neither visual is remotely real. The images — and scores of variations littering social media — were produced using increasingly sophisticated and widely accessible image generators powered by artificial intelligence.\\n\\n Misinformation experts warn the images are harbingers of a new reality: waves of fake photos and videos flooding social media after major news events and further muddying fact and fiction at crucial times for society.\\n“It does add noise during crisis events. It also increases the cynicism level,” said Jevin West, a professor at the University of Washington in Seattle who focuses on the spread of misinformation. “You start to lose trust in the system and the information that you are getting.”\\nWhile the ability to manipulate photos and create fake images isn’t new, AI image generator tools by Midjourney, DALL-E and others are easier to use. They can quickly generate realistic images — complete with detailed backgrounds — on a mass scale with little more than a simple text prompt from users.\\nSome of the recent images have been driven by this month's release of a new version of Midjourney’s text-to-image synthesis model, which can, among other things, now produce convincing images mimicking the style of news agency photos.\\nIn one widely-circulating Twitter thread, Eliot Higgins, founder of Bellingcat, a Netherlands-based investigative journalism collective, used the latest version of the tool to conjure up scores of dramatic images of Trump’s fictional arrest.\\nThe visuals, which have been shared and liked tens of thousands of times, showed a crowd of uniformed officers grabbing the Republican billionaire and violently pulling him down onto the pavement.\\nHiggins, who was also behind a set of images of Putin being arrested, put on trial and then imprisoned, says he posted the images with no ill intent. He even stated clearly in his Twitter thread that the images were AI-generated.\\nStill, the images were enough to get him locked out of the Midjourney server, according to Higgins. The San Francisco-based independent research lab didn’t respond to emails seeking comment.\\n“The Trump arrest image was really just casually showing both how good and bad Midjourney was at rendering real scenes,” Higgins wrote in an email. “The images started to form a sort of narrative as I plugged in prompts to Midjourney, so I strung them along into a narrative, and decided to finish off the story.”\\nHe pointed out the images are far from perfect: in some, Trump is seen, oddly, wearing a police utility belt. In others, faces and hands are clearly distorted.\\nBut it’s not enough that users like Higgins clearly state in their posts that the images are AI-generated and solely for entertainment, says Shirin Anlen, media technologist at Witness, a New York-based human rights organization that focuses on visual evidence.\\nToo often, the visuals are quickly reshared by others without that crucial context, she said. Indeed, an Instagram post sharing some of Higgins' images o...   \n",
       "2554    Virtus AllianzGI Artificial Intelligence &amp; Technology Opportunities Fund Discloses Sources of Distribution - Section 19(a) Notice\\n\\nSkip to contentFirst Warn 8 WeatherSportsLIVECalendarSearchHomepageNewsRegionalStateNationalInternationalNational PoliticsFirst Warn 8 WeatherClosingsCO TripLive CamsSportsHigh SchoolCMUAthlete Of The WeekJUCO World SeriesElection ResultsNational Results MapContact UsMeet the TeamFind Our ChannelJUCO LiveContestsMovies Under the StarsCalendarTelemundoSign Up For E-NewsLIVECW13Job BoardStation JobsLivestream 2COVID-19 MapSubmit Photos & VideoProgramming ScheduleGo to the ProProud to be LocalAuctionsFull Court Press with Greta Van SusterenCircle - Country Music & LifestyleGray DC BureauInvestigate TVPowerNationLatest NewscastsPress ReleasesVirtus AllianzGI Artificial Intelligence & Technology Opportunities Fund Discloses Sources of Distribution - Section 19(a) NoticePublished: Jan. 18, 2022 at 2:30 PM MST|Updated: 1 hour agoHARTFORD, Conn., Jan. 18, 2022 /PRNewswire/ -- Virtus AllianzGI Artificial Intelligence & Technology Opportunities Fund (NYSE: AIO) previously announced on December 17, 2021 that it will institute a managed distribution plan and increase its monthly distribution rate to $0.15 per share effective with the following monthly distribution:Amount of DistributionEx-DateRecord DatePayable Date$0.15January 12, 2022January 13, 2022February 1, 2022Under the terms of its Managed Distribution Plan, the Fund will seek to maintain a consistent distribution level that may be paid in part or in full from net investment income and realized capital gains, or a combination thereof. Shareholders should note, however, that if the Fund's aggregate net investment income and net realized capital gains are less than the amount of the distribution level, the difference will be distributed from the Fund's assets and will constitute a return of the shareholder's capital. You should not draw any conclusions about the Fund's investment performance from the amount of this distribution or from the terms of the Fund's Managed Distribution Plan.The Fund provided this estimate of the sources of the distributions:Distribution EstimatesJanuary 2022 (MTD)Fiscal Year-to-Date (YTD)(1)  (Sources)Per ShareAmountPercentage of Current DistributionPer Share AmountPercentageof Current DistributionNet Investment Income$            -0.0%$            -0.0%Net Realized Short-Term Capital Gains0.150100.0%3.15965.1%Net Realized Long-Term Capital Gains-0.0%1.69134.9%Return of Capital (or other Capital Source)-0.0%-0.0%Total Distribution$     0.150100.0%$     4.850100.0%(1)Fiscal year started March 1, 2021 (fiscal year end will be changing to January 31, effective January 31, 2022).Fiscal YTD includes the special distribution of $3.4497 paid January 10, 2022.Information regarding the Fund's performance and distribution rates is set forth below. Please note that all performance figures are based on the Fund's NAV and not the market price of the Fund's shares. Performance figures are not meant to represent individual shareholder performance.December 31, 2021Average Annual Total Return on NAV for the 5-year period (2)29.74%Current Fiscal YTD Annualized Distribution Rate (3)6.75%Fiscal YTD Cumulative Total Return on NAV (4)7.64%Fiscal YTD Cumulative Distribution Rate (5)4.69%(2)Average Annual Total Return on NAV is the annual compound return for the five-year period. It reflects the change in the Fund's NAV and reinvestment of all distributions. AIO incepted October 31, 2019, and thus returns represent life to date returns.(3)Current Fiscal YTD Annualized Distribution Rate is the current distribution rate ($0.15 per share) annualized as a percentage of the Fund's NAV at month end.(4)Fiscal YTD Cumulative Total Return on NAV is the percentage change in the Fund's NAV from the first day of the fiscal year to this month end, including distributions paid and assuming reinvestment of those distributions.(5)Fiscal YTD Cumulative Distribution Rate is the dollar value of distributions from the first day of the fiscal year to this month end as a percentage of the Fund's NAV at month end, excluding the special distribution of $3.4497 announced in December 2021.  The Fiscal YTD Cumulative Distribution Rate would be 17.62% if the special distribution was included.The amounts and sources of distributions reported in this notice are estimates only and are not being provided for tax reporting purposes. The actual amounts and sources of the distributions for tax purposes will depend on the Fund's investment experience during the remainder of its fiscal year and may be subject to changes based on tax regulations. The Fund or your broker will send you a Form 1099-DIV for the calendar year that will tell you what distributions to report for federal income tax purposes.About the FundVirtus AllianzGI Artificial Intelligence & Technology Opportunities Fund is a diversified closed-end fund that seeks to generate a stable income st...   \n",
       "...                                                                                                                                                                                                                                                                                                                                                                                                                                                                                                                                                                                                                                                                                                                                                                                                                                                                                                                                                                                                                                                                                                                                                                                                                                                                                                                                                                                                                                                                                                                                                                                                                                                                                                                                                                                                                                                                                                                                                                                                                                                                                                                                                                                                                                                                                                                                                                                                                                                                                                                                                                                                                                                                                                                                                                                                                                                                                                                                                                                                                                                                                                                                                                                                                                                                                                                                                                                                                                                                                                                                                                                                                                                                                                                                                                                                                                                                                                                                                                                                                                                                                                                                                                                                                                                                                                                                                                                                                                                                                                                                                                                                                                                                                                                                                                                                                                                                                                                                                                                                                                                                                                                                                                                                         ...   \n",
       "196963  Virtus AllianzGI Artificial Intelligence &amp; Technology Opportunities Fund Discloses Sources of Distribution - Section 19(a) Notice\\n\\nSkip to content2 Strong 4 BulliesCBS19 AdvertisingCLE WeekendCribbs in the CLEW82TXTDealsContestsNewsLiveFirst Alert WeatherNewsletterClosingsThe Next 400SportsSeen On TVTelemundo CLEDark Side of The LandSearchHomeWatch LiveVaccineBig Bad B MovieSeen OnContestsCMSD on CW43DealsSee It, Snap It, Send ItNews19 News Investigative UnitUnidentifiedScam SquadCrime400 Years: The Vestiges of Slavery in ClevelandCOVID & The ClassroomCleveland ComebackDark Side of The LandFirst Alert WeatherRadarClosingsFirst Alert Science SchoolTrafficGas PricesSportsOvertimeCleveland BrownsOperation OrangeTailgate 19Cleveland CavaliersCleveland GuardiansHealthBridging the Great Health DivideVaccineHealth UpdatesGo RedBreast CancerSpot The Signs Opioid CrisisFoodCleveland CooksTaste BudsCommunityShare Your HolidaysCW 43 FocusSee It, Snap It, Send ItCleveland NowCLE WeekendProgramming ScheduleBig Bad B-Movie ShowCribbs in the CLECW43 ClevelandAbout UsMeet the TeamInternshipsCareersInvestigate TVGray DC BureauCircle - Country Music & LifestyleLatest NewscastsPowerNationPress ReleasesVirtus AllianzGI Artificial Intelligence & Technology Opportunities Fund Discloses Sources of Distribution - Section 19(a) NoticePublished: May. 16, 2022 at 4:30 PM EDT|Updated: 1 hour agoHARTFORD, Conn., May 16, 2022 /PRNewswire/ -- Virtus AllianzGI Artificial Intelligence & Technology Opportunities Fund (NYSE: AIO) previously announced the following monthly distribution on March 7, 2022:Amount of DistributionEx-DateRecord DatePayable Date$0.15May 11, 2022May 12, 2022June 1, 2022Under the terms of its Managed Distribution Plan, the Fund will seek to maintain a consistent distribution level that may be paid in part, or in full, from net investment income and realized capital gains, or a combination thereof. Shareholders should note, however, that if the Fund's aggregate net investment income and net realized capital gains are less than the amount of the distribution level, the difference will be distributed from the Fund's assets and will constitute a return of the shareholder's capital. You should not draw any conclusions about the Fund's investment performance from the amount of this distribution or from the terms of the Fund's Managed Distribution Plan.The Fund provided this estimate of the sources of the distributions:Distribution EstimatesMay 2022 (MTD)Fiscal Year-to-Date (YTD)(1)  (Sources)Per ShareAmountPercentage of Current DistributionPer Share AmountPercentageof Current DistributionNet Investment Income$            -0.0%$            -0.0%Net Realized Short-Term Capital Gains0.04530.1%0.49582.5%Net Realized Long-Term Capital Gains0.10569.9%0.10517.5%Return of Capital (or other Capital Source)-0.0%-0.0%Total Distribution$     0.150100.0%$     0.600100.0%(1)    Fiscal year started February 1, 2022Information regarding the Fund's performance and distribution rates is set forth below. Please note that all performance figures are based on the Fund's NAV and not the market price of the Fund's shares. Performance figures are not meant to represent individual shareholder performance.April 29, 2022Average Annual Total Return on NAV for the 5-year period (2)15.97%Current Fiscal YTD Annualized Distribution Rate (3)8.41%Fiscal YTD Cumulative Total Return on NAV (4)-9.78%Fiscal YTD Cumulative Distribution Rate (5)2.10%(2)Average Annual Total Return on NAV is the annual compound return for the five-year period. It reflects the change in the Fund's NAV and reinvestment of all distributions. AIO incepted October 31, 2019, and thus returns represent life to date returns.(3)Current Fiscal YTD Annualized Distribution Rate is the current distribution rate annualized as a percentage of the Fund's NAV at month end.(4)Fiscal YTD Cumulative Total Return on NAV is the percentage change in the Fund's NAV from the first day of the fiscal year to this month end, including distributions paid and assuming reinvestment of those distributions.(5)Fiscal YTD Cumulative Distribution Rate is the dollar value of distributions from the first day of the fiscal year to this month end as a percentage of the Fund's NAV at month end.The amounts and sources of distributions reported in this notice are estimates only and are not being provided for tax reporting purposes. The actual amounts and sources of the distributions for tax purposes will depend on the Fund's investment experience during the remainder of its fiscal year and may be subject to changes based on tax regulations. The Fund or your broker will send you a Form 1099-DIV for the calendar year that will tell you what distributions to report for federal income tax purposes.About the FundVirtus AllianzGI Artificial Intelligence & Technology Opportunities Fund is a diversified closed-end fund that seeks to generate a stable income stream and growth of capital by focusing on one of the most signif...   \n",
       "198415  Virtus AllianzGI Artificial Intelligence &amp; Technology Opportunities Fund Discloses Sources of Distribution - Section 19(a) Notice\\n\\nSkip to contentConnect. Shop. Support Local.LawCallCareersAsk the ExpertsNewsWatch LiveTrafficWeatherSportsMississippi WeekendGreat Health DivideWhat's On TVAbout UsSearchHomeWatch LiveWLBT AppsSubmit Your PicsConnect. Shop. Support Local.ConversationsNewsNationalInvestigateCrimeMississippi StrongGood NewsInterviewsConsider This EditorialEducationJackson CrimeJackson HomicidesCitizen SolutionsWeatherSkycamsClosingsRequest a First Alert Weather School VisitCoronavirusCOVID-19 in Miss.SportsThe End ZoneHS Football ScoresMississippi StateOle MissSWACSaintsFinal Play AppHealthGreat Health Divide28 Days of HeartBaby FacesHealth NewsPower of PinkCommunityMississippi StrongBack to SchoolFlashback FridayCareersTrafficGas PricesAbout UsContact UsMeet the TeamProgrammingProgramming ScheduleRescan Your TV!Latest NewscastsGray DC BureauFull Court Press with Greta Van SusterenCircle - Country Music & LifestyleInvestigate TVPowerNationPress ReleasesVirtus AllianzGI Artificial Intelligence & Technology Opportunities Fund Discloses Sources of Distribution - Section 19(a) NoticePublished: Jan. 18, 2022 at 3:30 PM CST|Updated: 1 hour agoHARTFORD, Conn., Jan. 18, 2022 /PRNewswire/ -- Virtus AllianzGI Artificial Intelligence & Technology Opportunities Fund (NYSE: AIO) previously announced on December 17, 2021 that it will institute a managed distribution plan and increase its monthly distribution rate to $0.15 per share effective with the following monthly distribution:Amount of DistributionEx-DateRecord DatePayable Date$0.15January 12, 2022January 13, 2022February 1, 2022Under the terms of its Managed Distribution Plan, the Fund will seek to maintain a consistent distribution level that may be paid in part or in full from net investment income and realized capital gains, or a combination thereof. Shareholders should note, however, that if the Fund's aggregate net investment income and net realized capital gains are less than the amount of the distribution level, the difference will be distributed from the Fund's assets and will constitute a return of the shareholder's capital. You should not draw any conclusions about the Fund's investment performance from the amount of this distribution or from the terms of the Fund's Managed Distribution Plan.The Fund provided this estimate of the sources of the distributions:Distribution EstimatesJanuary 2022 (MTD)Fiscal Year-to-Date (YTD)(1)  (Sources)Per ShareAmountPercentage of Current DistributionPer Share AmountPercentageof Current DistributionNet Investment Income$            -0.0%$            -0.0%Net Realized Short-Term Capital Gains0.150100.0%3.15965.1%Net Realized Long-Term Capital Gains-0.0%1.69134.9%Return of Capital (or other Capital Source)-0.0%-0.0%Total Distribution$     0.150100.0%$     4.850100.0%(1)Fiscal year started March 1, 2021 (fiscal year end will be changing to January 31, effective January 31, 2022).Fiscal YTD includes the special distribution of $3.4497 paid January 10, 2022.Information regarding the Fund's performance and distribution rates is set forth below. Please note that all performance figures are based on the Fund's NAV and not the market price of the Fund's shares. Performance figures are not meant to represent individual shareholder performance.December 31, 2021Average Annual Total Return on NAV for the 5-year period (2)29.74%Current Fiscal YTD Annualized Distribution Rate (3)6.75%Fiscal YTD Cumulative Total Return on NAV (4)7.64%Fiscal YTD Cumulative Distribution Rate (5)4.69%(2)Average Annual Total Return on NAV is the annual compound return for the five-year period. It reflects the change in the Fund's NAV and reinvestment of all distributions. AIO incepted October 31, 2019, and thus returns represent life to date returns.(3)Current Fiscal YTD Annualized Distribution Rate is the current distribution rate ($0.15 per share) annualized as a percentage of the Fund's NAV at month end.(4)Fiscal YTD Cumulative Total Return on NAV is the percentage change in the Fund's NAV from the first day of the fiscal year to this month end, including distributions paid and assuming reinvestment of those distributions.(5)Fiscal YTD Cumulative Distribution Rate is the dollar value of distributions from the first day of the fiscal year to this month end as a percentage of the Fund's NAV at month end, excluding the special distribution of $3.4497 announced in December 2021.  The Fiscal YTD Cumulative Distribution Rate would be 17.62% if the special distribution was included.The amounts and sources of distributions reported in this notice are estimates only and are not being provided for tax reporting purposes. The actual amounts and sources of the distributions for tax purposes will depend on the Fund's investment experience during the remainder of its fiscal year and may be subject to changes based on tax regulations. The Fund or yo...   \n",
       "198792  Virtus Artificial Intelligence &amp; Technology Opportunities Fund Discloses Sources of Distribution - Section 19(a) Notice\\n\\nSkip to content2 Strong 4 BulliesCBS19 AdvertisingCLE WeekendCribbs in the CLEW82TXTDealsContestsNewsLiveFirst Alert WeatherNewsletterClosingsFriday Football FrenzySportsSeen On TVTelemundo CLEPodcastsHomeWatch LiveVaccineBig Bad B MovieSeen OnContestsCMSD on CW43DealsSee It, Snap It, Send ItNews19 Troubleshooters19 News Investigative UnitUnidentifiedScam SquadCrime400 Years: The Vestiges of Slavery in ClevelandCOVID & The ClassroomCleveland ComebackPodcastsDark Side of the LandFirst Alert WeatherRadarClosingsFirst Alert Science SchoolTrafficGas PricesSportsOvertimeCleveland BrownsFriday Football FrenzyOperation OrangeTailgate 19Cleveland CavaliersCleveland GuardiansHealthBridging the Great Health DivideVaccineHealth UpdatesGo RedBreast CancerSpot The Signs Opioid CrisisFoodCleveland CooksTaste BudsCommunityShare Your HolidaysCW 43 FocusSee It, Snap It, Send ItCleveland NowCLE WeekendProgramming ScheduleBig Bad B-Movie ShowCribbs in the CLECW43 ClevelandAbout UsContact UsMeet the TeamInternshipsCareersInvestigate TVGray DC BureauCircle - Country Music & LifestyleLatest NewscastsPowerNationPress ReleasesVirtus Artificial Intelligence & Technology Opportunities Fund Discloses Sources of Distribution - Section 19(a) NoticePublished: Aug. 18, 2022 at 4:15 PM EDT|Updated: 57 minutes agoHARTFORD, Conn., Aug. 18, 2022 /PRNewswire/ -- Virtus Artificial Intelligence & Technology Opportunities Fund (NYSE: AIO) previously announced the following monthly distribution on June 7, 2022:Amount of DistributionEx-DateRecord DatePayable Date$0.15August 10, 2022August 11, 2022September 1, 2022Under the terms of its Managed Distribution Plan, the Fund will seek to maintain a consistent distribution level that may be paid, in part or in full, from net investment income and realized capital gains, or a combination thereof. Shareholders should note, however, that if the Fund's aggregate net investment income and net realized capital gains are less than the amount of the distribution level, the difference will be distributed from the Fund's assets and will constitute a return of the shareholder's capital. You should not draw any conclusions about the Fund's investment performance from the amount of this distribution or from the terms of the Fund's Managed Distribution Plan.The Fund provided this estimate of the sources of the distributions:Distribution EstimatesAugust 2022 (MTD)Fiscal Year-to-Date (YTD)(1)  (Sources)Per ShareAmountPercentage of Current DistributionPer Share AmountPercentage of Current DistributionNet Investment Income$            -0.0 %$            -0.0 %Net Realized Short-Term Capital Gains-0.0 %0.49547.2 %Net Realized Long-Term Capital Gains0.150100.0 %0.55552.8 %Return of Capital (or other Capital Source)-0.0 %-0.0 %Total Distribution$     0.150100.0 %$     1.050100.0 %(1)    Fiscal year started February 1, 2022Information regarding the Fund's performance and distribution rates is set forth below. Please note that all performance figures are based on the Fund's NAV and not the market price of the Fund's shares. Performance figures are not meant to represent individual shareholder performance.July 29, 2022Average Annual Total Return on NAV for the 5-year period (2)13.35 %Current Fiscal YTD Annualized Distribution Rate (3)8.83 %Fiscal YTD Cumulative Total Return on NAV (4)-12.09 %Fiscal YTD Cumulative Distribution Rate (5)4.42 %(2)Average Annual Total Return on NAV is the annual compound return for the five-year period. It reflects the change in the Fund's NAV and reinvestment of all distributions. AIO incepted October 31, 2019, and thus returns represent life to date returns.(3)Current Fiscal YTD Annualized Distribution Rate is the current distribution rate annualized as a percentage of the Fund's NAV at month end.(4)Fiscal YTD Cumulative Total Return on NAV is the percentage change in the Fund's NAV from the first day of the fiscal year to this month end, including distributions paid and assuming reinvestment of those distributions.(5)Fiscal YTD Cumulative Distribution Rate is the dollar value of distributions from the first day of the fiscal year to this month end as a percentage of the Fund's NAV at month end.The amounts and sources of distributions reported in this notice are estimates only and are not being provided for tax reporting purposes. The actual amounts and sources of the distributions for tax purposes will depend on the Fund's investment experience during the remainder of its fiscal year and may be subject to changes based on tax regulations. The Fund or your broker will send you a Form 1099-DIV for the calendar year that will tell you what distributions to report for federal income tax purposes.About the FundVirtus Artificial Intelligence & Technology Opportunities Fund is a diversified closed-end fund that seeks to provide total return through a combination of current...   \n",
       "198964  Virtus AllianzGI Artificial Intelligence &amp; Technology Opportunities Fund Discloses Sources of Distribution - Section 19(a) Notice\\n\\nSkip to contentHeartland VotesFirst Alert WeatherNewsHeartland SportsProgrammingContestsAbout UsHeartland's CWSearchHomeSubmit photos & videosHeartland ExpertWatch NowLatest NewscastsClosingsNewsNews VideoLife Hacks with LauraBlack Friday HQMissouriIllinoisKentucky-TennesseeNationalCrimeInvestigationsFirst Alert WeatherFirst Alert Weather VideoSkycamsHeartland SportsSports VideoHeartland HoopsHeartland Football FridayNational SportsScoreboardHeartland VotesElection ResultsCommunityCalendarHeartland PetsHealthHealth VideoSoutheast HealthBusinessBusiness BreaksProgrammingComplete KFVS12, Heartland’s CW and Grit SchedulesHeartland's CWContestsAbout UsMeet The News TeamMeet The First Alert Weather TeamMeet The Sales TeamMeet The Management TeamContact UsStation HIstoryGray DC BureauInvestigate TVCircle - Country Music & LifestyleFull Court Press with Greta Van SusterenPowerNationPress ReleasesClosings and DelaysDismiss Closings Alerts BarVirtus AllianzGI Artificial Intelligence & Technology Opportunities Fund Discloses Sources of Distribution - Section 19(a) NoticePublished: Jan. 18, 2022 at 3:30 PM CST|Updated: 1 hour agoHARTFORD, Conn., Jan. 18, 2022 /PRNewswire/ -- Virtus AllianzGI Artificial Intelligence & Technology Opportunities Fund (NYSE: AIO) previously announced on December 17, 2021 that it will institute a managed distribution plan and increase its monthly distribution rate to $0.15 per share effective with the following monthly distribution:Amount of DistributionEx-DateRecord DatePayable Date$0.15January 12, 2022January 13, 2022February 1, 2022Under the terms of its Managed Distribution Plan, the Fund will seek to maintain a consistent distribution level that may be paid in part or in full from net investment income and realized capital gains, or a combination thereof. Shareholders should note, however, that if the Fund's aggregate net investment income and net realized capital gains are less than the amount of the distribution level, the difference will be distributed from the Fund's assets and will constitute a return of the shareholder's capital. You should not draw any conclusions about the Fund's investment performance from the amount of this distribution or from the terms of the Fund's Managed Distribution Plan.The Fund provided this estimate of the sources of the distributions:Distribution EstimatesJanuary 2022 (MTD)Fiscal Year-to-Date (YTD)(1)  (Sources)Per ShareAmountPercentage of Current DistributionPer Share AmountPercentageof Current DistributionNet Investment Income$            -0.0%$            -0.0%Net Realized Short-Term Capital Gains0.150100.0%3.15965.1%Net Realized Long-Term Capital Gains-0.0%1.69134.9%Return of Capital (or other Capital Source)-0.0%-0.0%Total Distribution$     0.150100.0%$     4.850100.0%(1)Fiscal year started March 1, 2021 (fiscal year end will be changing to January 31, effective January 31, 2022).Fiscal YTD includes the special distribution of $3.4497 paid January 10, 2022.Information regarding the Fund's performance and distribution rates is set forth below. Please note that all performance figures are based on the Fund's NAV and not the market price of the Fund's shares. Performance figures are not meant to represent individual shareholder performance.December 31, 2021Average Annual Total Return on NAV for the 5-year period (2)29.74%Current Fiscal YTD Annualized Distribution Rate (3)6.75%Fiscal YTD Cumulative Total Return on NAV (4)7.64%Fiscal YTD Cumulative Distribution Rate (5)4.69%(2)Average Annual Total Return on NAV is the annual compound return for the five-year period. It reflects the change in the Fund's NAV and reinvestment of all distributions. AIO incepted October 31, 2019, and thus returns represent life to date returns.(3)Current Fiscal YTD Annualized Distribution Rate is the current distribution rate ($0.15 per share) annualized as a percentage of the Fund's NAV at month end.(4)Fiscal YTD Cumulative Total Return on NAV is the percentage change in the Fund's NAV from the first day of the fiscal year to this month end, including distributions paid and assuming reinvestment of those distributions.(5)Fiscal YTD Cumulative Distribution Rate is the dollar value of distributions from the first day of the fiscal year to this month end as a percentage of the Fund's NAV at month end, excluding the special distribution of $3.4497 announced in December 2021.  The Fiscal YTD Cumulative Distribution Rate would be 17.62% if the special distribution was included.The amounts and sources of distributions reported in this notice are estimates only and are not being provided for tax reporting purposes. The actual amounts and sources of the distributions for tax purposes will depend on the Fund's investment experience during the remainder of its fiscal year and may be subject to changes based on tax regulations. The Fund or you...   \n",
       "199931  Trump arrested? Putin jailed? Fake AI images spread online\\n\\nSkip to contentCircle - Country Music & LifestyleAdvertise With UsTeacher TributeHealth UpdateBuddy CheckWatch LiveNewsElectionsVideoWeatherSportsCommunityContestsAbout UsHomeWatch East Texas NowWatch Live/Watch NewscastsBig Red BoxSee it, Snap it, Send itNewsSpace Shuttle ColumbiaPoliticsNationalCrimeCoronavirusStateA Better East TexasEast Texas Ag NewsHeroes FlightEast Texas Now7 InvestigatesPet ProjectVideoWeatherLake LevelsPollen CountMeteorology MinuteProject TornadoThundercall - Sign Up TodaySportsCowboys CampLocalNationalScoreboardThe Red ZoneCOVID-19 UpdatesEast Texas KitchenFood NewsKitchen Pickin'Main DishSide DishDessertsRecallsEast Texas WeekendCommunityGift of LoveMark in Texas HistoryVolunteer CentralPower of PrayerIn FocusCalendarTrafficTraffic On The GoTxDOT Current Road ConditionsHealthContestsAbout UsSend Us A News TipJobsAdvertise With UsMeet the TeamDownload Our AppsContact UsProgrammingScheduleClosed CaptioningInvestigate TVCircle - Country Music & LifestyleGray DC BureauPowerNationLatest NewscastsPress ReleasesTrump arrested? Putin jailed? Fake AI images spread onlineImages created by Eliot Higgins with the use of artificial intelligence show a fictitious skirmish with former President Donald Trump and New York City police officers posted on Higgins' Twitter account, as photographed on an iPhone in Arlington, Va., Thursday, Mar. 23, 2023. The highly detailed, sensational images, which are not real, were produced using a sophisticated and widely accessible image generator.(AP Photo/J. David Ake)By The Associated PressPublished: Mar. 23, 2023 at 1:25 PM CDT|Updated: 1 hour agoShare on FacebookEmail This LinkShare on TwitterShare on PinterestShare on LinkedInNEW YORK (AP) — Former President Donald Trump getting gang-tackled by riot-gear-clad New York City police officers. Russian President Vladimir Putin in prison grays behind the bars of a dimly lit concrete cell.The highly detailed, sensational images have inundated Twitter and other platforms in recent days, amid news that Trump faces possible criminal charges and the International Criminal Court has issued an arrest warrant for Putin.But neither visual is remotely real. The images — and scores of variations littering social media — were produced using increasingly sophisticated and widely accessible image generators powered by artificial intelligence.Misinformation experts warn the images are harbingers of a new reality: waves of fake photos and videos flooding social media after major news events and further muddying fact and fiction at crucial times for society.“It does add noise during crisis events. It also increases the cynicism level,” said Jevin West, a professor at the University of Washington in Seattle who focuses on the spread of misinformation. “You start to lose trust in the system and the information that you are getting.”As the drama surrounding Trump reaches a fever pitch, the waiting game continues for a possible indictment. (CNN, POOL, ABC, WCBS, MSNBC, STORMY DANIELS)While the ability to manipulate photos and create fake images isn’t new, AI image generator tools by Midjourney, DALL-E and others are easier to use. They can quickly generate realistic images — complete with detailed backgrounds — on a mass scale with little more than a simple text prompt from users.Some of the recent images have been driven by this month’s release of a new version of Midjourney’s text-to-image synthesis model, which can, among other things, now produce convincing images mimicking the style of news agency photos.In one widely-circulating Twitter thread, Eliot Higgins, founder of Bellingcat, a Netherlands-based investigative journalism collective, used the latest version of the tool to conjure up scores of dramatic images of Trump’s fictional arrest.The visuals, which have been shared and liked tens of thousands of times, showed a crowd of uniformed officers grabbing the Republican billionaire and violently pulling him down onto the pavement.Higgins, who was also behind a set of images of Putin being arrested, put on trial and then imprisoned, says he posted the images with no ill intent. He even stated clearly in his Twitter thread that the images were AI-generated.Still, the images were enough to get him locked out of the Midjourney server, according to Higgins. The San Francisco-based independent research lab didn’t respond to emails seeking comment.“The Trump arrest image was really just casually showing both how good and bad Midjourney was at rendering real scenes,” Higgins wrote in an email. “The images started to form a sort of narrative as I plugged in prompts to Midjourney, so I strung them along into a narrative, and decided to finish off the story.”He pointed out the images are far from perfect: in some, Trump is seen, oddly, wearing a police utility belt. In others, faces and hands are clearly distorted.But it’s not enough that users like Higgins clearly state...   \n",
       "\n",
       "                                website  \n",
       "977               https://www.wrdw.com/  \n",
       "1469             https://www.fox19.com/  \n",
       "1538               https://www.kgns.tv/  \n",
       "1906    https://www.wiltonbulletin.com/  \n",
       "2554             https://www.kjct8.com/  \n",
       "...                                 ...  \n",
       "196963     https://www.cleveland19.com/  \n",
       "198415            https://www.wlbt.com/  \n",
       "198792     https://www.cleveland19.com/  \n",
       "198964          https://www.kfvs12.com/  \n",
       "199931            https://www.kltv.com/  \n",
       "\n",
       "[455 rows x 6 columns]"
      ]
     },
     "execution_count": 17,
     "metadata": {},
     "output_type": "execute_result"
    }
   ],
   "source": [
    "top_3_titles = df_news_final_project['title'].value_counts().nlargest(3).index\n",
    "df_news_final_project[df_news_final_project['title'].isin(top_3_titles)]"
   ]
  },
  {
   "cell_type": "code",
   "execution_count": 18,
   "id": "9869f204-dcbd-4196-9e48-b8f3fe840a1a",
   "metadata": {
    "tags": []
   },
   "outputs": [
    {
     "data": {
      "text/html": [
       "<div>\n",
       "<style scoped>\n",
       "    .dataframe tbody tr th:only-of-type {\n",
       "        vertical-align: middle;\n",
       "    }\n",
       "\n",
       "    .dataframe tbody tr th {\n",
       "        vertical-align: top;\n",
       "    }\n",
       "\n",
       "    .dataframe thead th {\n",
       "        text-align: right;\n",
       "    }\n",
       "</style>\n",
       "<table border=\"1\" class=\"dataframe\">\n",
       "  <thead>\n",
       "    <tr style=\"text-align: right;\">\n",
       "      <th></th>\n",
       "      <th>url</th>\n",
       "      <th>date</th>\n",
       "      <th>language</th>\n",
       "      <th>title</th>\n",
       "      <th>text</th>\n",
       "      <th>website</th>\n",
       "    </tr>\n",
       "  </thead>\n",
       "  <tbody>\n",
       "    <tr>\n",
       "      <th>1906</th>\n",
       "      <td>https://www.wiltonbulletin.com/news/politics/article/trump-arrested-putin-jailed-fake-ai-images-17856545.php</td>\n",
       "      <td>2023-03-23</td>\n",
       "      <td>en</td>\n",
       "      <td>Trump arrested? Putin jailed? Fake AI images spread online</td>\n",
       "      <td>\\nTrump arrested? Putin jailed? Fake AI images spread online\\n \\n\\n \\n \\n\\n \\n\\n \\n\\n \\n \\n\\n \\nSkip to main content\\nTurn off refresh\\n\\n\\n \\n\\nCurrently Reading\\nTrump arrested? Putin jailed? Fake AI images spread online\\n\\nSubscribe\\nSubscribe\\n\\ne-Edition\\nSign In\\n\\n  \\nPuzzleshomeSign Up for Newsletterse-EditionArchivesAdvertiseAbout UsPrint ArchivesContact The Wilton BulletinPrivacy NoticeTerms of UseNewsPolitics &amp; ElectionsConnecticutTown GovernmentEducationPolice &amp; FireCannabisOpinionBusinessReal EstateSportsHigh School SportsUConnEntertainmentLivingFoodHome and GardenObituariesShoppingAdvertising FeaturesEventsClassifieds\\n\\n  \\n \\n\\nRecommended\\n \\nProm dress sale benefits Wilton's production of 'Mary Poppins'\\n \\nWeir Farm to welcome six 'talented' artists-in-residence in 2023\\n \\nWilton Library putting a spotlight on The Brubeck Collection\\n \\nWilton Library Lines: Mr. Beethoven to drop in at kids' concert\\n \\nWilton Center housing proposal grows to 5 stories, 42 apartments\\n \\nWilton seeks volunteers to help out at Townwide Cleanup Day\\n \\nDevelopers appeal denial of sewer extension for Wilton housing\\n \\nWilton teens bring free science lessons to kids with Team STEAM\\n \\nWilton P&amp;Z seeks more details on day-care center's plan to move\\n \\nWilton students get shaved 'in solidarity' with kids with cancer\\n \\n  \\nNewsTrump arrested? Putin jailed? Fake AI images spread onlineARIJETA LAJKA and PHILIP MARCELOMarch 23, 2023Updated: March 23, 2023 2:16 p.m.\\n\\nFacebook\\nTwitter\\nEmail\\n\\nComments\\n\\n NEW YORK (AP) — Former President Donald Trump getting gang-tackled by riot-gear-clad New York City police officers. Russian President Vladimir Putin in prison grays behind the bars of a dimly lit concrete cell.\\nThe highly detailed, sensational images have inundated Twitter and other platforms in recent days, amid news that Trump faces possible criminal charges and the International Criminal Court has issued an arrest warrant for Putin.\\n But neither visual is remotely real. The images — and scores of variations littering social media — were produced using increasingly sophisticated and widely accessible image generators powered by artificial intelligence.\\n\\n Misinformation experts warn the images are harbingers of a new reality: waves of fake photos and videos flooding social media after major news events and further muddying fact and fiction at crucial times for society.\\n“It does add noise during crisis events. It also increases the cynicism level,” said Jevin West, a professor at the University of Washington in Seattle who focuses on the spread of misinformation. “You start to lose trust in the system and the information that you are getting.”\\nWhile the ability to manipulate photos and create fake images isn’t new, AI image generator tools by Midjourney, DALL-E and others are easier to use. They can quickly generate realistic images — complete with detailed backgrounds — on a mass scale with little more than a simple text prompt from users.\\nSome of the recent images have been driven by this month's release of a new version of Midjourney’s text-to-image synthesis model, which can, among other things, now produce convincing images mimicking the style of news agency photos.\\nIn one widely-circulating Twitter thread, Eliot Higgins, founder of Bellingcat, a Netherlands-based investigative journalism collective, used the latest version of the tool to conjure up scores of dramatic images of Trump’s fictional arrest.\\nThe visuals, which have been shared and liked tens of thousands of times, showed a crowd of uniformed officers grabbing the Republican billionaire and violently pulling him down onto the pavement.\\nHiggins, who was also behind a set of images of Putin being arrested, put on trial and then imprisoned, says he posted the images with no ill intent. He even stated clearly in his Twitter thread that the images were AI-generated.\\nStill, the images were enough to get him locked out of the Midjourney server, according to Higgins. The San Francisco-based independent research lab didn’t respond to emails seeking comment.\\n“The Trump arrest image was really just casually showing both how good and bad Midjourney was at rendering real scenes,” Higgins wrote in an email. “The images started to form a sort of narrative as I plugged in prompts to Midjourney, so I strung them along into a narrative, and decided to finish off the story.”\\nHe pointed out the images are far from perfect: in some, Trump is seen, oddly, wearing a police utility belt. In others, faces and hands are clearly distorted.\\nBut it’s not enough that users like Higgins clearly state in their posts that the images are AI-generated and solely for entertainment, says Shirin Anlen, media technologist at Witness, a New York-based human rights organization that focuses on visual evidence.\\nToo often, the visuals are quickly reshared by others without that crucial context, she said. Indeed, an Instagram post sharing some of Higgins' images o...</td>\n",
       "      <td>https://www.wiltonbulletin.com/</td>\n",
       "    </tr>\n",
       "    <tr>\n",
       "      <th>10118</th>\n",
       "      <td>https://www.wmar2news.com/news/national/trump-arrested-putin-jailed-fake-ai-images-spread-online</td>\n",
       "      <td>2023-03-24</td>\n",
       "      <td>en</td>\n",
       "      <td>Trump arrested? Putin jailed? Fake AI images spread online</td>\n",
       "      <td>\\nTrump arrested? Putin jailed? Fake AI images spread online\\n\\n1 weather alerts\\n1 closings/delays\\n Watch Now\\n\\n Watch Now\\n\\n1 weather alerts\\n1 closings/delays\\n\\nMenu\\n\\nSearch site\\n\\n Watch Now\\n\\n Watch Now\\n\\nClose x\\n\\n\\nLive\\nWatch\\n\\n\\n Alerts\\n\\nSearch site\\n\\nGo\\n\\nLocal News\\nAround Town\\n\\nLocal Eats\\n\\nBridging the Gap\\n\\nShop Small with Stevie\\n\\nNews\\nLocal News\\n\\nState\\n\\nIn Focus\\n\\nHidden Treasures\\n\\nNational\\n\\nTwo Americas\\n\\nWorld\\n\\nEducation\\n\\nNews Photo Gallery\\n\\nGood to Know\\n\\nThe Race \\n\\nConsumer\\n\\nWeather &amp; Traffic\\n7 Day Forecast\\n\\nSchool Closings\\n\\nWeather Alerts\\n\\nWeather Blogs\\n\\nHurricane\\n\\nInteractive Radar\\n\\nTraffic\\n\\nLive Traffic Cams\\n\\nIn Focus\\nMatter for Mallory\\n\\nVacants \\n\\nContaminated Water\\n\\nVoice for Veterans\\nVeteran Spotlight\\n\\nInvestigations\\nMatter for Mallory\\n\\nMaryland Mysteries \\n\\nHealthy Holly Controversy\\n\\nContact WMAR-2 News Investigators\\n\\nMidday Maryland\\n\\nSports\\nOrioles\\n\\nRavens\\n\\nLacrosse\\n\\nTurkey Bowl\\n\\nStudent Athlete\\n\\nHigh School\\n\\nYour Health Matters\\nConquering Addiction \\n\\nMen's Health\\n\\nEntertainment\\nTV Listings\\n\\nGrit TV\\n\\nBounce TV\\n\\nCourt TV\\n\\nNewsy\\n\\nThe List\\n\\nWMAR Podcast\\n\\nBlogs\\nWeather Blogs\\n\\nDay in the Life\\n\\nTaste Buds\\n\\nWMAR -2 Videos\\nWMAR-2 On YouTube\\n\\nWMAR Originals\\n\\nGrace &amp; Glory\\n\\nMarketplace\\nContests\\n\\nSteering Change\\n\\nBrand Spotlight\\n\\nEveryday Heroes\\n\\nWorkers Wanted\\n\\nWMAR-2 On the Go\\n\\nPower of Age \\n\\nHome Pros\\n\\nAbout WMAR\\nAdvertise with WMAR\\n\\nWMAR-2 News Team\\n\\nContact Us\\n\\nStation Jobs\\n\\nSign InNewsletters\\nSign OutManage Emails\\nApps\\nCareers Search\\nIn Focus\\n\\nWeather\\n\\nMatter for Mallory\\n\\n    Voice for Veterans\\nVeteran Resources\\n\\nVeteran Spotlight\\nWMAR on YouTube\\n\\nContests\\nWMAR on Facebook\\n\\nBridging the Gap\\n\\nQuick links...\\nIn Focus\\nWeather\\nMatter for Mallory\\n    Voice for Veterans\\nContests\\nBridging the Gap\\n\\n1 weather alerts\\n1 closings/delays\\nOvernight mass shooting leaves one dead, five wounded in West Baltimore \\nNewsNational\\n\\n\\nActions\\nFacebook\\nTweet\\n\\n\\nEmail\\nTrump arrested? Putin jailed? Fake AI images spread online\\nExperts warn that AI-generated images can and will contribute to misinformation, especially online.\\n\\n  \\n  \\n\\nSue Ogrocki / AP\\n  \\n\\n  \\nBy:\\n                The Associated Press\\n                \\n              \\n\\n\\nPosted at 8:33 PM, Mar 23, 2023 \\nand last updated 2023-03-23 20:33:04-04\\n\\nFormer President Donald Trump getting gang-tackled by riot-gear-clad New York City police officers. Russian President Vladimir Putin in prison grays behind the bars of a dimly lit concrete cell.The highly detailed, sensational images have inundated Twitter and other platforms in recent days, amid news that Trump faces possible criminal charges and the International Criminal Court has issued an arrest warrant for Putin.But neither visual is remotely real. The images — and scores of variations littering social media — were produced using increasingly sophisticated and widely accessible image generators powered by artificial intelligence.Misinformation experts warn the images are harbingers of a new reality: waves of fake photos and videos flooding social media after major news events and further muddying fact and fiction at crucial times for society.“It does add noise during crisis events. It also increases the cynicism level,” said Jevin West, a professor at the University of Washington in Seattle who focuses on the spread of misinformation. “You start to lose trust in the system and the information that you are getting.”While the ability to manipulate photos and create fake images isn’t new, AI image generator tools by Midjourney, DALL-E and others are easier to use. They can quickly generate realistic images — complete with detailed backgrounds — on a mass scale with little more than a simple text prompt from users.Some of the recent images have been driven by this month’s release of a new version of Midjourney’s text-to-image synthesis model, which can, among other things, now produce convincing images mimicking the style of news agency photos.SEE MORE: NY grand jury reportedly won't meet about Trump this weekIn one widely-circulating Twitter thread, Eliot Higgins, founder of Bellingcat, a Netherlands-based investigative journalism collective, used the latest version of the tool to conjure up scores of dramatic images of Trump’s fictional arrest.The visuals, which have been shared and liked tens of thousands of times, showed a crowd of uniformed officers grabbing the Republican billionaire and violently pulling him down onto the pavement.Higgins, who was also behind a set of images of Putin being arrested, put on trial and then imprisoned, says he posted the images with no ill intent. He even stated clearly in his Twitter thread that the images were AI-generated.Still, the images were enough to get him locked out of the Midjourney server, according to Higgins. The San Francisco-based independent resea...</td>\n",
       "      <td>https://www.wmar2news.com/</td>\n",
       "    </tr>\n",
       "    <tr>\n",
       "      <th>10829</th>\n",
       "      <td>https://www.ncadvertiser.com/news/politics/article/trump-arrested-putin-jailed-fake-ai-images-17856545.php</td>\n",
       "      <td>2023-03-23</td>\n",
       "      <td>en</td>\n",
       "      <td>Trump arrested? Putin jailed? Fake AI images spread online</td>\n",
       "      <td>\\nTrump arrested? Putin jailed? Fake AI images spread online\\n \\n\\n \\n \\n\\n \\n\\n \\n\\n \\n \\n\\n \\nSkip to main content\\nTurn off refresh\\n\\n\\n \\n\\nCurrently Reading\\nTrump arrested? Putin jailed? Fake AI images spread online\\n\\nSubscribe\\nSubscribe\\n\\ne-Edition\\nSign In\\n\\n  \\nHomeSign Up for NewslettersContact UsHelpAdvertise With UsSubmissionsFAQ'sPrivacy NoticeTerms of UseSubscribeNewsPolice &amp; FireTown GovernmentPolitics &amp; ElectionsConnecticutCannabisEducationOpinionCommunityLivingFoodHome and GardenSportsHigh School SportsUConnObituariesEntertainmentTV79 ScheduleLapham Community CenterComicsPuzzlesBusinessPress releasesShoppingAdvertising FeaturesEventsClassifieds\\n\\n  \\n \\n\\nRecommended\\n \\nNew Canaan to raise meter fees, parking violation fines\\n \\nNew Canaan Gridiron Club honors Murphy and other events\\n \\nA local garden tour and other New Canaan events\\n \\nIn Photos: A sweet syrupy treat at New Canaan's Nature Center\\n \\nFinance board OKs $166M budget, asks for info on stadium upgrade\\n \\nIn Photos: New Canaan after-school art class tackles Kandinsky\\n \\nThird annual color drop, classes at Lapham Center and more\\n \\nPolice: Pedestrian struck in New Canaan hit-and-run\\n \\nIn Photos: African-based food tasting event held in New Canaan\\n \\nNew Canaan Advertiser Friday virtual coffee returns March 31\\n \\n  \\nNewsTrump arrested? Putin jailed? Fake AI images spread onlineARIJETA LAJKA and PHILIP MARCELOMarch 23, 2023Updated: March 23, 2023 2:16 p.m.\\n\\nFacebook\\nTwitter\\nEmail\\n\\nComments\\n\\n NEW YORK (AP) — Former President Donald Trump getting gang-tackled by riot-gear-clad New York City police officers. Russian President Vladimir Putin in prison grays behind the bars of a dimly lit concrete cell.\\nThe highly detailed, sensational images have inundated Twitter and other platforms in recent days, amid news that Trump faces possible criminal charges and the International Criminal Court has issued an arrest warrant for Putin.\\n But neither visual is remotely real. The images — and scores of variations littering social media — were produced using increasingly sophisticated and widely accessible image generators powered by artificial intelligence.\\n\\n Misinformation experts warn the images are harbingers of a new reality: waves of fake photos and videos flooding social media after major news events and further muddying fact and fiction at crucial times for society.\\n“It does add noise during crisis events. It also increases the cynicism level,” said Jevin West, a professor at the University of Washington in Seattle who focuses on the spread of misinformation. “You start to lose trust in the system and the information that you are getting.”\\nWhile the ability to manipulate photos and create fake images isn’t new, AI image generator tools by Midjourney, DALL-E and others are easier to use. They can quickly generate realistic images — complete with detailed backgrounds — on a mass scale with little more than a simple text prompt from users.\\nSome of the recent images have been driven by this month's release of a new version of Midjourney’s text-to-image synthesis model, which can, among other things, now produce convincing images mimicking the style of news agency photos.\\nIn one widely-circulating Twitter thread, Eliot Higgins, founder of Bellingcat, a Netherlands-based investigative journalism collective, used the latest version of the tool to conjure up scores of dramatic images of Trump’s fictional arrest.\\nThe visuals, which have been shared and liked tens of thousands of times, showed a crowd of uniformed officers grabbing the Republican billionaire and violently pulling him down onto the pavement.\\nHiggins, who was also behind a set of images of Putin being arrested, put on trial and then imprisoned, says he posted the images with no ill intent. He even stated clearly in his Twitter thread that the images were AI-generated.\\nStill, the images were enough to get him locked out of the Midjourney server, according to Higgins. The San Francisco-based independent research lab didn’t respond to emails seeking comment.\\n“The Trump arrest image was really just casually showing both how good and bad Midjourney was at rendering real scenes,” Higgins wrote in an email. “The images started to form a sort of narrative as I plugged in prompts to Midjourney, so I strung them along into a narrative, and decided to finish off the story.”\\nHe pointed out the images are far from perfect: in some, Trump is seen, oddly, wearing a police utility belt. In others, faces and hands are clearly distorted.\\nBut it’s not enough that users like Higgins clearly state in their posts that the images are AI-generated and solely for entertainment, says Shirin Anlen, media technologist at Witness, a New York-based human rights organization that focuses on visual evidence.\\nToo often, the visuals are quickly reshared by others without that crucial context, she said. Indeed, an Instagram post sharing some of Higgins' images of Trump as if ...</td>\n",
       "      <td>https://www.ncadvertiser.com/</td>\n",
       "    </tr>\n",
       "    <tr>\n",
       "      <th>12993</th>\n",
       "      <td>https://www.waff.com/2023/03/23/trump-arrested-putin-jailed-fake-ai-images-spread-online/</td>\n",
       "      <td>2023-03-23</td>\n",
       "      <td>en</td>\n",
       "      <td>Trump arrested? Putin jailed? Fake AI images spread online</td>\n",
       "      <td>Trump arrested? Putin jailed? Fake AI images spread online\\n\\nSkip to contentDealsFinancial MinuteJoin the TVL Birthday ClubTravel TVLNominate an Extraordinary Veteran48 Now LivestreamLatest VideosPrevious NewscastDigital ShowsNewsWeatherSportsTVTN Valley LivingAbout UsHomeContestsWake Up with WAFF 48Send Us Your PhotosWeatherFirst Alert Doppler RadarTrack StormsWeather CamsStorm SheltersProgram your Weather RadioRadio Station PartnersFirst Alert Weather AppNominate an Extraordinary VeteranTrafficLive Newscasts on 48 NowOn Demand Newscasts on VUitLatest VideosNewsHuntsville - MadisonLimestone - MorganSand MountainShoals48 InvestigatesCrime StoppersSportsDigital Shows48 BlitzFootball ScoresRocket City Trash PandasNCAAHigh SchoolLocalNationalSend Us Your PhotosMeet the TeamContestsCalendarRoku, FireTV and moreProgramming ScheduleKid's ProgrammingContact NBCBounce TVWhere to find 48.2 and 48.3 on cableAbout UsMeet the TeamJob OpeningsTennessee Valley LivingTravel TVLJoin the TVL Birthday ClubClient LoginDeal of the WeekFinancial MinutePowerNationCircle - County MusicGray DC BureauInvestigate TVPress ReleasesTrump arrested? Putin jailed? Fake AI images spread onlineImages created by Eliot Higgins with the use of artificial intelligence show a fictitious skirmish with former President Donald Trump and New York City police officers posted on Higgins' Twitter account, as photographed on an iPhone in Arlington, Va., Thursday, Mar. 23, 2023. The highly detailed, sensational images, which are not real, were produced using a sophisticated and widely accessible image generator.(AP Photo/J. David Ake)By The Associated PressPublished: Mar. 23, 2023 at 1:25 PM CDT|Updated: 49 minutes agoShare on FacebookEmail This LinkShare on TwitterShare on PinterestShare on LinkedInNEW YORK (AP) — Former President Donald Trump getting gang-tackled by riot-gear-clad New York City police officers. Russian President Vladimir Putin in prison grays behind the bars of a dimly lit concrete cell.The highly detailed, sensational images have inundated Twitter and other platforms in recent days, amid news that Trump faces possible criminal charges and the International Criminal Court has issued an arrest warrant for Putin.But neither visual is remotely real. The images — and scores of variations littering social media — were produced using increasingly sophisticated and widely accessible image generators powered by artificial intelligence.Misinformation experts warn the images are harbingers of a new reality: waves of fake photos and videos flooding social media after major news events and further muddying fact and fiction at crucial times for society.“It does add noise during crisis events. It also increases the cynicism level,” said Jevin West, a professor at the University of Washington in Seattle who focuses on the spread of misinformation. “You start to lose trust in the system and the information that you are getting.”As the drama surrounding Trump reaches a fever pitch, the waiting game continues for a possible indictment. (CNN, POOL, ABC, WCBS, MSNBC, STORMY DANIELS)While the ability to manipulate photos and create fake images isn’t new, AI image generator tools by Midjourney, DALL-E and others are easier to use. They can quickly generate realistic images — complete with detailed backgrounds — on a mass scale with little more than a simple text prompt from users.Some of the recent images have been driven by this month’s release of a new version of Midjourney’s text-to-image synthesis model, which can, among other things, now produce convincing images mimicking the style of news agency photos.In one widely-circulating Twitter thread, Eliot Higgins, founder of Bellingcat, a Netherlands-based investigative journalism collective, used the latest version of the tool to conjure up scores of dramatic images of Trump’s fictional arrest.The visuals, which have been shared and liked tens of thousands of times, showed a crowd of uniformed officers grabbing the Republican billionaire and violently pulling him down onto the pavement.Higgins, who was also behind a set of images of Putin being arrested, put on trial and then imprisoned, says he posted the images with no ill intent. He even stated clearly in his Twitter thread that the images were AI-generated.Still, the images were enough to get him locked out of the Midjourney server, according to Higgins. The San Francisco-based independent research lab didn’t respond to emails seeking comment.“The Trump arrest image was really just casually showing both how good and bad Midjourney was at rendering real scenes,” Higgins wrote in an email. “The images started to form a sort of narrative as I plugged in prompts to Midjourney, so I strung them along into a narrative, and decided to finish off the story.”He pointed out the images are far from perfect: in some, Trump is seen, oddly, wearing a police utility belt. In others, faces and hands are clearly distorted.But it’s not enough that users like Higgi...</td>\n",
       "      <td>https://www.waff.com/</td>\n",
       "    </tr>\n",
       "    <tr>\n",
       "      <th>18830</th>\n",
       "      <td>https://www.kgun9.com/news/national/trump-arrested-putin-jailed-fake-ai-images-spread-online</td>\n",
       "      <td>2023-03-24</td>\n",
       "      <td>en</td>\n",
       "      <td>Trump arrested? Putin jailed? Fake AI images spread online</td>\n",
       "      <td>\\nTrump arrested? Putin jailed? Fake AI images spread online\\n\\n1 weather alerts\\n1 closings/delays\\n Watch Now\\n\\n Watch Now\\n\\n1 weather alerts\\n1 closings/delays\\n\\nMenu\\n\\nSearch site\\n\\n Watch Now\\n\\n Watch Now\\n\\nClose x\\n\\n\\nLive\\nWatch\\n\\n\\n Alerts\\n\\nSearch site\\n\\nGo\\n\\nAdvertise With Us\\n\\nMy Vote: Live Poll Question\\n\\nSubmit your photos and videos\\n\\nNews\\nLocal News\\n\\nCochise County\\n\\nStatewide News\\n\\nNational News\\n\\nTraffic\\n\\nWeather\\nHourly Forecast\\n\\n7 Day\\n\\nRadar Maps\\n\\nMonsoon 2022\\n\\nWildfire Watch\\n\\nAZ Drought\\n\\nSevere Weather Alerts\\n\\nSports\\n\\nAbsolutely Arizona\\n\\nBorder Watch\\n\\nSpirit of Southern Arizona\\n\\nThe Giving Project\\n\\nThings to Do\\n\\nOperation Safe Roads\\n\\nPhoto Galleries\\n\\nVideo\\nLive Video\\n\\nKGUN 9 on Roku\\n\\nKGUN 9 on Amazon Fire TV\\n\\nKGUN 9 on YouTube\\n\\nMeet the KGUN 9 Team\\n\\nAbout Us\\nMeet the KGUN 9 Team\\n\\nYou Ask. We Investigate.®\\n\\nSubmit News Tips\\n\\nArticle Edits and Removal Requests\\n\\nMug Shot Policy\\n\\nSensitive Footage Policy\\nJobs\\n\\nSupport\\n\\nContests\\n\\nTV Listings\\n\\nThe Morning Blend\\nBe on the Show\\n\\nOur Hosts\\n\\nHomePros\\n\\nFacebook\\n\\nTwitter\\n\\nInstagram\\n\\nContests\\n\\nMorning Blend Newsletters\\n\\nSign InNewsletters\\nSign OutManage Emails\\nApps\\nCareers Search\\nLocal News\\n\\nCochise County News\\n\\nStatewide News\\n\\nNational News\\n\\nQuick links...\\nLocal News\\nCochise County News\\nStatewide News\\nNational News\\n\\n1 weather alerts\\n1 closings/delays\\n\\nKGUN 9 On Your SideNewsNational News\\n\\n\\nActions\\nFacebook\\nTweet\\n\\n\\nEmail\\nTrump arrested? Putin jailed? Fake AI images spread online\\nExperts warn that AI-generated images can and will contribute to misinformation, especially online.\\n\\n  \\n  \\n\\nSue Ogrocki / AP\\n  \\n\\n  \\nBy:\\n                The Associated Press\\n                \\n              \\n\\n\\nPosted at 5:33 PM, Mar 23, 2023 \\nand last updated 2023-03-23 20:33:04-04\\n\\nFormer President Donald Trump getting gang-tackled by riot-gear-clad New York City police officers. Russian President Vladimir Putin in prison grays behind the bars of a dimly lit concrete cell.The highly detailed, sensational images have inundated Twitter and other platforms in recent days, amid news that Trump faces possible criminal charges and the International Criminal Court has issued an arrest warrant for Putin.But neither visual is remotely real. The images — and scores of variations littering social media — were produced using increasingly sophisticated and widely accessible image generators powered by artificial intelligence.Misinformation experts warn the images are harbingers of a new reality: waves of fake photos and videos flooding social media after major news events and further muddying fact and fiction at crucial times for society.“It does add noise during crisis events. It also increases the cynicism level,” said Jevin West, a professor at the University of Washington in Seattle who focuses on the spread of misinformation. “You start to lose trust in the system and the information that you are getting.”While the ability to manipulate photos and create fake images isn’t new, AI image generator tools by Midjourney, DALL-E and others are easier to use. They can quickly generate realistic images — complete with detailed backgrounds — on a mass scale with little more than a simple text prompt from users.Some of the recent images have been driven by this month’s release of a new version of Midjourney’s text-to-image synthesis model, which can, among other things, now produce convincing images mimicking the style of news agency photos.SEE MORE: NY grand jury reportedly won't meet about Trump this weekIn one widely-circulating Twitter thread, Eliot Higgins, founder of Bellingcat, a Netherlands-based investigative journalism collective, used the latest version of the tool to conjure up scores of dramatic images of Trump’s fictional arrest.The visuals, which have been shared and liked tens of thousands of times, showed a crowd of uniformed officers grabbing the Republican billionaire and violently pulling him down onto the pavement.Higgins, who was also behind a set of images of Putin being arrested, put on trial and then imprisoned, says he posted the images with no ill intent. He even stated clearly in his Twitter thread that the images were AI-generated.Still, the images were enough to get him locked out of the Midjourney server, according to Higgins. The San Francisco-based independent research lab didn’t respond to emails seeking comment.SEE MORE: Fake people, real threat: How AI is being used to spread propaganda“The Trump arrest image was really just casually showing both how good and bad Midjourney was at rendering real scenes,” Higgins wrote in an email. “The images started to form a sort of narrative as I plugged in prompts to Midjourney, so I strung them along into a narrative, and decided to finish off the story.”He pointed out the images are far from perfect: in some, Trump is seen, oddly, wearing a police utility belt. In othe...</td>\n",
       "      <td>https://www.kgun9.com/</td>\n",
       "    </tr>\n",
       "    <tr>\n",
       "      <th>...</th>\n",
       "      <td>...</td>\n",
       "      <td>...</td>\n",
       "      <td>...</td>\n",
       "      <td>...</td>\n",
       "      <td>...</td>\n",
       "      <td>...</td>\n",
       "    </tr>\n",
       "    <tr>\n",
       "      <th>190327</th>\n",
       "      <td>https://www.lakecountystar.com/news/politics/article/trump-arrested-putin-jailed-fake-ai-images-17856545.php</td>\n",
       "      <td>2023-03-23</td>\n",
       "      <td>en</td>\n",
       "      <td>Trump arrested? Putin jailed? Fake AI images spread online</td>\n",
       "      <td>\\nTrump arrested? Putin jailed? Fake AI images spread online\\n \\n\\n \\n \\n\\n \\n\\n \\n\\n \\n\\n \\n\\n \\nSkip to main content\\nTurn off refresh\\n\\n\\n \\n\\nCurrently Reading\\nTrump arrested? Putin jailed? Fake AI images spread online\\n\\nSubscribe\\nSubscribe\\n\\ne-Edition\\nSign In\\n\\n  \\nHomeFormsAdvertiseNewsSportsObituariesSubmit an ObituaryOutdoorsClassifiedsOpinionE-EditionPublic NoticesSubscriber Services\\n\\n  \\n \\n\\nMost Popular\\n \\nSHERIFF'S CORNER: 'Don't tell me I can't film in public, cop-er!!\"\\n \\nEads ends district title drought with Baldwin championship\\n \\nSHERIFF'S CORNER: A look at gun laws\\n \\nSHERIFF'S CORNER: Clarifying laws on shooting firearms\\n \\nLongtime Baldwin barber gets dedicated parking sign\\n \\nSHERIFF'S CORNER: A repost of little-known laws in Michigan\\n \\nBaldwin schools honors February students of the month\\n \\nBaldwin DDA seeks funding for community gathering space\\n \\n  \\nNewsTrump arrested? Putin jailed? Fake AI images spread onlineARIJETA LAJKA and PHILIP MARCELOMarch 23, 2023Updated: March 23, 2023 2:09 p.m.\\n\\nFacebook\\nTwitter\\nEmail\\n\\nComments\\n\\n NEW YORK (AP) — Former President Donald Trump getting gang-tackled by riot-gear-clad New York City police officers. Russian President Vladimir Putin in prison grays behind the bars of a dimly lit concrete cell.\\nThe highly detailed, sensational images have inundated Twitter and other platforms in recent days, amid news that Trump faces possible criminal charges and the International Criminal Court has issued an arrest warrant for Putin.\\n But neither visual is remotely real. The images — and scores of variations littering social media — were produced using increasingly sophisticated and widely accessible image generators powered by artificial intelligence.\\n\\n Misinformation experts warn the images are harbingers of a new reality: waves of fake photos and videos flooding social media after major news events and further muddying fact and fiction at crucial times for society.\\n“It does add noise during crisis events. It also increases the cynicism level,” said Jevin West, a professor at the University of Washington in Seattle who focuses on the spread of misinformation. “You start to lose trust in the system and the information that you are getting.”\\nWhile the ability to manipulate photos and create fake images isn’t new, AI image generator tools by Midjourney, DALL-E and others are easier to use. They can quickly generate realistic images — complete with detailed backgrounds — on a mass scale with little more than a simple text prompt from users.\\nSome of the recent images have been driven by this month's release of a new version of Midjourney’s text-to-image synthesis model, which can, among other things, now produce convincing images mimicking the style of news agency photos.\\nIn one widely-circulating Twitter thread, Eliot Higgins, founder of Bellingcat, a Netherlands-based investigative journalism collective, used the latest version of the tool to conjure up scores of dramatic images of Trump’s fictional arrest.\\nThe visuals, which have been shared and liked tens of thousands of times, showed a crowd of uniformed officers grabbing the Republican billionaire and violently pulling him down onto the pavement.\\nHiggins, who was also behind a set of images of Putin being arrested, put on trial and then imprisoned, says he posted the images with no ill intent. He even stated clearly in his Twitter thread that the images were AI-generated.\\nStill, the images were enough to get him locked out of the Midjourney server, according to Higgins. The San Francisco-based independent research lab didn’t respond to emails seeking comment.\\n“The Trump arrest image was really just casually showing both how good and bad Midjourney was at rendering real scenes,” Higgins wrote in an email. “The images started to form a sort of narrative as I plugged in prompts to Midjourney, so I strung them along into a narrative, and decided to finish off the story.”\\nHe pointed out the images are far from perfect: in some, Trump is seen, oddly, wearing a police utility belt. In others, faces and hands are clearly distorted.\\nBut it’s not enough that users like Higgins clearly state in their posts that the images are AI-generated and solely for entertainment, says Shirin Anlen, media technologist at Witness, a New York-based human rights organization that focuses on visual evidence.\\nToo often, the visuals are quickly reshared by others without that crucial context, she said. Indeed, an Instagram post sharing some of Higgins' images of Trump as if they were genuine garnered more than 79,000 likes.\\n“You’re just seeing an image, and once you see something, you cannot unsee it,” Anlen said.\\nIn another recent example, social media users shared a synthetic image supposedly capturing Putin kneeling and kissing the hand of Chinese leader Xi Jinping. The image, which circulated as the Russian president welcomed Xi to the Kremlin this week, quickly became a crude meme.\\n...</td>\n",
       "      <td>https://www.lakecountystar.com/</td>\n",
       "    </tr>\n",
       "    <tr>\n",
       "      <th>192282</th>\n",
       "      <td>https://www.fox10tv.com/2023/03/23/trump-arrested-putin-jailed-fake-ai-images-spread-online/</td>\n",
       "      <td>2023-03-23</td>\n",
       "      <td>en</td>\n",
       "      <td>Trump arrested? Putin jailed? Fake AI images spread online</td>\n",
       "      <td>Trump arrested? Putin jailed? Fake AI images spread online\\n\\nSkip to contentAdvertise With UsLocal Steals and DealsNewsWatch LiveWeatherSportsOur AppsStudio 10HomepageWatch LiveOur AppsSubmit Photos or VideosSubmit your photos and videos to FOX10 in Mobile, AlabamaNewsMobile CountyBaldwin CountyAlabama NewsFlorida NewsMississippi NewsNationalInvestigatesCaught in the ActFugitive FilesPoliticsDaily Dot ComGulf Coast SpotlightWeatherRadarWeather CamsHurricane CenterTrafficStudio 10Committed to Our CommunityAbout the HouseLegal MattersDoing GoodIn the KitchenMusic SceneBeauty and StyleHealthy LivingDollars and SensePet of the WeekQueen of CleanHappening HereSportsAthlete of the WeekGame of the WeekFirst &amp; 10SaintsAlabamaAuburnSouth AlabamaAbout UsOur AppsMeet the TeamContact UsProgramming ScheduleWhat's on FOXAdvertise with FOX10CareersCaptioningSpeaker Request FormNews EmailsPerspectivesPlayground ProjectLiving It Up with LeniseThe PledgeHope for a HomeCircle - Country Music &amp; LifestyleGray DC BureauPowerNationInvestigate TVPress ReleasesLatest NewscastsTrump arrested? Putin jailed? Fake AI images spread onlineImages created by Eliot Higgins with the use of artificial intelligence show a fictitious skirmish with former President Donald Trump and New York City police officers posted on Higgins' Twitter account, as photographed on an iPhone in Arlington, Va., Thursday, Mar. 23, 2023. The highly detailed, sensational images, which are not real, were produced using a sophisticated and widely accessible image generator.(AP Photo/J. David Ake)By The Associated PressPublished: Mar. 23, 2023 at 1:25 PM CDT|Updated: 32 minutes agoShare on FacebookEmail This LinkShare on TwitterShare on PinterestShare on LinkedInNEW YORK (AP) — Former President Donald Trump getting gang-tackled by riot-gear-clad New York City police officers. Russian President Vladimir Putin in prison grays behind the bars of a dimly lit concrete cell.The highly detailed, sensational images have inundated Twitter and other platforms in recent days, amid news that Trump faces possible criminal charges and the International Criminal Court has issued an arrest warrant for Putin.But neither visual is remotely real. The images — and scores of variations littering social media — were produced using increasingly sophisticated and widely accessible image generators powered by artificial intelligence.Misinformation experts warn the images are harbingers of a new reality: waves of fake photos and videos flooding social media after major news events and further muddying fact and fiction at crucial times for society.“It does add noise during crisis events. It also increases the cynicism level,” said Jevin West, a professor at the University of Washington in Seattle who focuses on the spread of misinformation. “You start to lose trust in the system and the information that you are getting.”As the drama surrounding Trump reaches a fever pitch, the waiting game continues for a possible indictment. (CNN, POOL, ABC, WCBS, MSNBC, STORMY DANIELS)While the ability to manipulate photos and create fake images isn’t new, AI image generator tools by Midjourney, DALL-E and others are easier to use. They can quickly generate realistic images — complete with detailed backgrounds — on a mass scale with little more than a simple text prompt from users.Some of the recent images have been driven by this month’s release of a new version of Midjourney’s text-to-image synthesis model, which can, among other things, now produce convincing images mimicking the style of news agency photos.In one widely-circulating Twitter thread, Eliot Higgins, founder of Bellingcat, a Netherlands-based investigative journalism collective, used the latest version of the tool to conjure up scores of dramatic images of Trump’s fictional arrest.The visuals, which have been shared and liked tens of thousands of times, showed a crowd of uniformed officers grabbing the Republican billionaire and violently pulling him down onto the pavement.Higgins, who was also behind a set of images of Putin being arrested, put on trial and then imprisoned, says he posted the images with no ill intent. He even stated clearly in his Twitter thread that the images were AI-generated.Still, the images were enough to get him locked out of the Midjourney server, according to Higgins. The San Francisco-based independent research lab didn’t respond to emails seeking comment.“The Trump arrest image was really just casually showing both how good and bad Midjourney was at rendering real scenes,” Higgins wrote in an email. “The images started to form a sort of narrative as I plugged in prompts to Midjourney, so I strung them along into a narrative, and decided to finish off the story.”He pointed out the images are far from perfect: in some, Trump is seen, oddly, wearing a police utility belt. In others, faces and hands are clearly distorted.But it’s not enough that users like Higgins clearly state in their posts that the images are A...</td>\n",
       "      <td>https://www.fox10tv.com/</td>\n",
       "    </tr>\n",
       "    <tr>\n",
       "      <th>196613</th>\n",
       "      <td>https://www.wwnytv.com/2023/03/23/trump-arrested-putin-jailed-fake-ai-images-spread-online/</td>\n",
       "      <td>2023-03-23</td>\n",
       "      <td>en</td>\n",
       "      <td>Trump arrested? Putin jailed? Fake AI images spread online</td>\n",
       "      <td>Trump arrested? Putin jailed? Fake AI images spread online\\n\\nSkip to contentSend It To 7NewsHealthWeatherSportsCommunityLIVE and Latest NewscastsContestsAbout UsPick a PetHomeWatch LiveNewsSend It To 7InterviewsObituariesYour TurnCraig's To-Do ListMilitary MattersBlast from the PastNationalMeet The TeamWeatherRe-Openings, Closings and CancellationsSportsAthlete of the WeekBraggin' RightsHealthYour Morning CheckupAsk the PharmacistCommunityNorth Country All StarsEmily in the A.M.7NEWS Community CalendarChris Manning's TV DinnersMr. FoodPick-a-PetContestsTV ScheduleAbout UsMeet The TeamContact UsJob OpeningsCircle - Country Music &amp; LifestylePrevious NewscastsGray DC BureauInvestigate TVPowerNationPress ReleasesTrump arrested? Putin jailed? Fake AI images spread onlineImages created by Eliot Higgins with the use of artificial intelligence show a fictitious skirmish with former President Donald Trump and New York City police officers posted on Higgins' Twitter account, as photographed on an iPhone in Arlington, Va., Thursday, Mar. 23, 2023. The highly detailed, sensational images, which are not real, were produced using a sophisticated and widely accessible image generator.(AP Photo/J. David Ake)By The Associated PressPublished: Mar. 23, 2023 at 2:25 PM EDT|Updated: 10 minutes agoShare on FacebookEmail This LinkShare on TwitterShare on PinterestShare on LinkedInNEW YORK (AP) — Former President Donald Trump getting gang-tackled by riot-gear-clad New York City police officers. Russian President Vladimir Putin in prison grays behind the bars of a dimly lit concrete cell.The highly detailed, sensational images have inundated Twitter and other platforms in recent days, amid news that Trump faces possible criminal charges and the International Criminal Court has issued an arrest warrant for Putin.But neither visual is remotely real. The images — and scores of variations littering social media — were produced using increasingly sophisticated and widely accessible image generators powered by artificial intelligence.Misinformation experts warn the images are harbingers of a new reality: waves of fake photos and videos flooding social media after major news events and further muddying fact and fiction at crucial times for society.“It does add noise during crisis events. It also increases the cynicism level,” said Jevin West, a professor at the University of Washington in Seattle who focuses on the spread of misinformation. “You start to lose trust in the system and the information that you are getting.”As the drama surrounding Trump reaches a fever pitch, the waiting game continues for a possible indictment. (CNN, POOL, ABC, WCBS, MSNBC, STORMY DANIELS)While the ability to manipulate photos and create fake images isn’t new, AI image generator tools by Midjourney, DALL-E and others are easier to use. They can quickly generate realistic images — complete with detailed backgrounds — on a mass scale with little more than a simple text prompt from users.Some of the recent images have been driven by this month’s release of a new version of Midjourney’s text-to-image synthesis model, which can, among other things, now produce convincing images mimicking the style of news agency photos.In one widely-circulating Twitter thread, Eliot Higgins, founder of Bellingcat, a Netherlands-based investigative journalism collective, used the latest version of the tool to conjure up scores of dramatic images of Trump’s fictional arrest.The visuals, which have been shared and liked tens of thousands of times, showed a crowd of uniformed officers grabbing the Republican billionaire and violently pulling him down onto the pavement.Higgins, who was also behind a set of images of Putin being arrested, put on trial and then imprisoned, says he posted the images with no ill intent. He even stated clearly in his Twitter thread that the images were AI-generated.Still, the images were enough to get him locked out of the Midjourney server, according to Higgins. The San Francisco-based independent research lab didn’t respond to emails seeking comment.“The Trump arrest image was really just casually showing both how good and bad Midjourney was at rendering real scenes,” Higgins wrote in an email. “The images started to form a sort of narrative as I plugged in prompts to Midjourney, so I strung them along into a narrative, and decided to finish off the story.”He pointed out the images are far from perfect: in some, Trump is seen, oddly, wearing a police utility belt. In others, faces and hands are clearly distorted.But it’s not enough that users like Higgins clearly state in their posts that the images are AI-generated and solely for entertainment, says Shirin Anlen, media technologist at Witness, a New York-based human rights organization that focuses on visual evidence.Too often, the visuals are quickly reshared by others without that crucial context, she said. Indeed, an Instagram post sharing some of Higgins’ images of Trump as if they were genuin...</td>\n",
       "      <td>https://www.wwnytv.com/</td>\n",
       "    </tr>\n",
       "    <tr>\n",
       "      <th>196784</th>\n",
       "      <td>https://news.yahoo.com/trump-arrested-putin-jailed-fake-180305096.html</td>\n",
       "      <td>2023-03-23</td>\n",
       "      <td>en</td>\n",
       "      <td>Trump arrested? Putin jailed? Fake AI images spread online</td>\n",
       "      <td>Trump arrested? Putin jailed? Fake AI images spread online         HOME    MAIL    NEWS    FINANCE    SPORTS    ENTERTAINMENT    LIFE    SEARCH    SHOPPING    YAHOO PLUS    MORE...     Download the Yahoo News app    Yahoo News              Yahoo News    Search query            Sign in   Mail  Sign in to view your mail       News          US          Politics          World          COVID-19          Climate Change          Health          Science         Originals       The 360 Skullduggery Podcast Conspiracyland       Contact Us       …  \\n\\nClose this contentAP FinanceTrump arrested? Putin jailed? Fake AI images spread onlineRead full articleImages created by Eliot Higgins with the use of artificial intelligence show a fictitious skirmish with Donald Trump and New York City police officers posted on Higgins' Twitter account, as photographed on an iPhone in Arlington, Va., Thursday, Mar. 23, 2023. The highly detailed, sensational images, which are not real, were produced using a sophisticated and widely accessible image generator. (AP Photo/J. David Ake) (ASSOCIATED PRESS)1ARIJETA LAJKA and PHILIP MARCELOMarch 23, 2023, 11:03 AM·5 min readNEW YORK (AP) — Former President Donald Trump getting gang-tackled by riot-gear-clad New York City police officers. Russian President Vladimir Putin in prison grays behind the bars of a dimly lit concrete cell.The highly detailed, sensational images have inundated Twitter and other platforms in recent days, amid news that Trump faces possible criminal charges and the International Criminal Court has issued an arrest warrant for Putin.But neither visual is remotely real. The images — and scores of variations littering social media — were produced using increasingly sophisticated and widely accessible image generators powered by artificial intelligence.Misinformation experts warn the images are harbingers of a new reality: waves of fake photos and videos flooding social media after major news events and further muddying fact and fiction at crucial times for society.“It does add noise during crisis events. It also increases the cynicism level,” said Jevin West, a professor at the University of Washington in Seattle who focuses on the spread of misinformation. “You start to lose trust in the system and the information that you are getting.”While the ability to manipulate photos and create fake images isn’t new, AI image generator tools by Midjourney, DALL-E and others are easier to use. They can quickly generate realistic images — complete with detailed backgrounds — on a mass scale with little more than a simple text prompt from users.Some of the recent images have been driven by this month's release of a new version of Midjourney’s text-to-image synthesis model, which can, among other things, now produce convincing images mimicking the style of news agency photos.In one widely-circulating Twitter thread, Eliot Higgins, founder of Bellingcat, a Netherlands-based investigative journalism collective, used the latest version of the tool to conjure up scores of dramatic images of Trump’s fictional arrest.The visuals, which have been shared and liked tens of thousands of times, showed a crowd of uniformed officers grabbing the Republican billionaire and violently pulling him down onto the pavement.Story continuesHiggins, who was also behind a set of images of Putin being arrested, put on trial and then imprisoned, says he posted the images with no ill intent. He even stated clearly in his Twitter thread that the images were AI-generated.Still, the images were enough to get him locked out of the Midjourney server, according to Higgins. The San Francisco-based independent research lab didn’t respond to emails seeking comment.“The Trump arrest image was really just casually showing both how good and bad Midjourney was at rendering real scenes,” Higgins wrote in an email. “The images started to form a sort of narrative as I plugged in prompts to Midjourney, so I strung them along into a narrative, and decided to finish off the story.”He pointed out the images are far from perfect: in some, Trump is seen, oddly, wearing a police utility belt. In others, faces and hands are clearly distorted.But it’s not enough that users like Higgins clearly state in their posts that the images are AI-generated and solely for entertainment, says Shirin Anlen, media technologist at Witness, a New York-based human rights organization that focuses on visual evidence.Too often, the visuals are quickly reshared by others without that crucial context, she said. Indeed, an Instagram post sharing some of Higgins' images of Trump as if they were genuine garnered more than 79,000 likes.“You’re just seeing an image, and once you see something, you cannot unsee it,” Anlen said.In another recent example, social media users shared a synthetic image supposedly capturing Putin kneeling and kissing the hand of Chinese leader Xi Jinping. The image, which circulated as the Russian president welcomed Xi to the Kremli...</td>\n",
       "      <td>https://news.yahoo.com/</td>\n",
       "    </tr>\n",
       "    <tr>\n",
       "      <th>199931</th>\n",
       "      <td>https://www.kltv.com/2023/03/23/trump-arrested-putin-jailed-fake-ai-images-spread-online/</td>\n",
       "      <td>2023-03-23</td>\n",
       "      <td>en</td>\n",
       "      <td>Trump arrested? Putin jailed? Fake AI images spread online</td>\n",
       "      <td>Trump arrested? Putin jailed? Fake AI images spread online\\n\\nSkip to contentCircle - Country Music &amp; LifestyleAdvertise With UsTeacher TributeHealth UpdateBuddy CheckWatch LiveNewsElectionsVideoWeatherSportsCommunityContestsAbout UsHomeWatch East Texas NowWatch Live/Watch NewscastsBig Red BoxSee it, Snap it, Send itNewsSpace Shuttle ColumbiaPoliticsNationalCrimeCoronavirusStateA Better East TexasEast Texas Ag NewsHeroes FlightEast Texas Now7 InvestigatesPet ProjectVideoWeatherLake LevelsPollen CountMeteorology MinuteProject TornadoThundercall - Sign Up TodaySportsCowboys CampLocalNationalScoreboardThe Red ZoneCOVID-19 UpdatesEast Texas KitchenFood NewsKitchen Pickin'Main DishSide DishDessertsRecallsEast Texas WeekendCommunityGift of LoveMark in Texas HistoryVolunteer CentralPower of PrayerIn FocusCalendarTrafficTraffic On The GoTxDOT Current Road ConditionsHealthContestsAbout UsSend Us A News TipJobsAdvertise With UsMeet the TeamDownload Our AppsContact UsProgrammingScheduleClosed CaptioningInvestigate TVCircle - Country Music &amp; LifestyleGray DC BureauPowerNationLatest NewscastsPress ReleasesTrump arrested? Putin jailed? Fake AI images spread onlineImages created by Eliot Higgins with the use of artificial intelligence show a fictitious skirmish with former President Donald Trump and New York City police officers posted on Higgins' Twitter account, as photographed on an iPhone in Arlington, Va., Thursday, Mar. 23, 2023. The highly detailed, sensational images, which are not real, were produced using a sophisticated and widely accessible image generator.(AP Photo/J. David Ake)By The Associated PressPublished: Mar. 23, 2023 at 1:25 PM CDT|Updated: 1 hour agoShare on FacebookEmail This LinkShare on TwitterShare on PinterestShare on LinkedInNEW YORK (AP) — Former President Donald Trump getting gang-tackled by riot-gear-clad New York City police officers. Russian President Vladimir Putin in prison grays behind the bars of a dimly lit concrete cell.The highly detailed, sensational images have inundated Twitter and other platforms in recent days, amid news that Trump faces possible criminal charges and the International Criminal Court has issued an arrest warrant for Putin.But neither visual is remotely real. The images — and scores of variations littering social media — were produced using increasingly sophisticated and widely accessible image generators powered by artificial intelligence.Misinformation experts warn the images are harbingers of a new reality: waves of fake photos and videos flooding social media after major news events and further muddying fact and fiction at crucial times for society.“It does add noise during crisis events. It also increases the cynicism level,” said Jevin West, a professor at the University of Washington in Seattle who focuses on the spread of misinformation. “You start to lose trust in the system and the information that you are getting.”As the drama surrounding Trump reaches a fever pitch, the waiting game continues for a possible indictment. (CNN, POOL, ABC, WCBS, MSNBC, STORMY DANIELS)While the ability to manipulate photos and create fake images isn’t new, AI image generator tools by Midjourney, DALL-E and others are easier to use. They can quickly generate realistic images — complete with detailed backgrounds — on a mass scale with little more than a simple text prompt from users.Some of the recent images have been driven by this month’s release of a new version of Midjourney’s text-to-image synthesis model, which can, among other things, now produce convincing images mimicking the style of news agency photos.In one widely-circulating Twitter thread, Eliot Higgins, founder of Bellingcat, a Netherlands-based investigative journalism collective, used the latest version of the tool to conjure up scores of dramatic images of Trump’s fictional arrest.The visuals, which have been shared and liked tens of thousands of times, showed a crowd of uniformed officers grabbing the Republican billionaire and violently pulling him down onto the pavement.Higgins, who was also behind a set of images of Putin being arrested, put on trial and then imprisoned, says he posted the images with no ill intent. He even stated clearly in his Twitter thread that the images were AI-generated.Still, the images were enough to get him locked out of the Midjourney server, according to Higgins. The San Francisco-based independent research lab didn’t respond to emails seeking comment.“The Trump arrest image was really just casually showing both how good and bad Midjourney was at rendering real scenes,” Higgins wrote in an email. “The images started to form a sort of narrative as I plugged in prompts to Midjourney, so I strung them along into a narrative, and decided to finish off the story.”He pointed out the images are far from perfect: in some, Trump is seen, oddly, wearing a police utility belt. In others, faces and hands are clearly distorted.But it’s not enough that users like Higgins clearly state...</td>\n",
       "      <td>https://www.kltv.com/</td>\n",
       "    </tr>\n",
       "  </tbody>\n",
       "</table>\n",
       "<p>99 rows × 6 columns</p>\n",
       "</div>"
      ],
      "text/plain": [
       "                                                                                                                 url   \n",
       "1906    https://www.wiltonbulletin.com/news/politics/article/trump-arrested-putin-jailed-fake-ai-images-17856545.php  \\\n",
       "10118               https://www.wmar2news.com/news/national/trump-arrested-putin-jailed-fake-ai-images-spread-online   \n",
       "10829     https://www.ncadvertiser.com/news/politics/article/trump-arrested-putin-jailed-fake-ai-images-17856545.php   \n",
       "12993                      https://www.waff.com/2023/03/23/trump-arrested-putin-jailed-fake-ai-images-spread-online/   \n",
       "18830                   https://www.kgun9.com/news/national/trump-arrested-putin-jailed-fake-ai-images-spread-online   \n",
       "...                                                                                                              ...   \n",
       "190327  https://www.lakecountystar.com/news/politics/article/trump-arrested-putin-jailed-fake-ai-images-17856545.php   \n",
       "192282                  https://www.fox10tv.com/2023/03/23/trump-arrested-putin-jailed-fake-ai-images-spread-online/   \n",
       "196613                   https://www.wwnytv.com/2023/03/23/trump-arrested-putin-jailed-fake-ai-images-spread-online/   \n",
       "196784                                        https://news.yahoo.com/trump-arrested-putin-jailed-fake-180305096.html   \n",
       "199931                     https://www.kltv.com/2023/03/23/trump-arrested-putin-jailed-fake-ai-images-spread-online/   \n",
       "\n",
       "             date language   \n",
       "1906   2023-03-23       en  \\\n",
       "10118  2023-03-24       en   \n",
       "10829  2023-03-23       en   \n",
       "12993  2023-03-23       en   \n",
       "18830  2023-03-24       en   \n",
       "...           ...      ...   \n",
       "190327 2023-03-23       en   \n",
       "192282 2023-03-23       en   \n",
       "196613 2023-03-23       en   \n",
       "196784 2023-03-23       en   \n",
       "199931 2023-03-23       en   \n",
       "\n",
       "                                                             title   \n",
       "1906    Trump arrested? Putin jailed? Fake AI images spread online  \\\n",
       "10118   Trump arrested? Putin jailed? Fake AI images spread online   \n",
       "10829   Trump arrested? Putin jailed? Fake AI images spread online   \n",
       "12993   Trump arrested? Putin jailed? Fake AI images spread online   \n",
       "18830   Trump arrested? Putin jailed? Fake AI images spread online   \n",
       "...                                                            ...   \n",
       "190327  Trump arrested? Putin jailed? Fake AI images spread online   \n",
       "192282  Trump arrested? Putin jailed? Fake AI images spread online   \n",
       "196613  Trump arrested? Putin jailed? Fake AI images spread online   \n",
       "196784  Trump arrested? Putin jailed? Fake AI images spread online   \n",
       "199931  Trump arrested? Putin jailed? Fake AI images spread online   \n",
       "\n",
       "                                                                                                                                                                                                                                                                                                                                                                                                                                                                                                                                                                                                                                                                                                                                                                                                                                                                                                                                                                                                                                                                                                                                                                                                                                                                                                                                                                                                                                                                                                                                                                                                                                                                                                                                                                                                                                                                                                                                                                                                                                                                                                                                                                                                                                                                                                                                                                                                                                                                                                                                                                                                                                                                                                                                                                                                                                                                                                                                                                                                                                                                                                                                                                                                                                                                                                                                                                                                                                                                                                                                                                                                                                                                                                                                                                                                                                                                                                                                                                                                                                                                                                                                                                                                                                                                                                                                                                                                                                                                                                                                                                                                                                                                                                                                                                                                                                                                                                                                                                                                                                                                                                                                                                                                           text   \n",
       "1906    \\nTrump arrested? Putin jailed? Fake AI images spread online\\n \\n\\n \\n \\n\\n \\n\\n \\n\\n \\n \\n\\n \\nSkip to main content\\nTurn off refresh\\n\\n\\n \\n\\nCurrently Reading\\nTrump arrested? Putin jailed? Fake AI images spread online\\n\\nSubscribe\\nSubscribe\\n\\ne-Edition\\nSign In\\n\\n  \\nPuzzleshomeSign Up for Newsletterse-EditionArchivesAdvertiseAbout UsPrint ArchivesContact The Wilton BulletinPrivacy NoticeTerms of UseNewsPolitics & ElectionsConnecticutTown GovernmentEducationPolice & FireCannabisOpinionBusinessReal EstateSportsHigh School SportsUConnEntertainmentLivingFoodHome and GardenObituariesShoppingAdvertising FeaturesEventsClassifieds\\n\\n  \\n \\n\\nRecommended\\n \\nProm dress sale benefits Wilton's production of 'Mary Poppins'\\n \\nWeir Farm to welcome six 'talented' artists-in-residence in 2023\\n \\nWilton Library putting a spotlight on The Brubeck Collection\\n \\nWilton Library Lines: Mr. Beethoven to drop in at kids' concert\\n \\nWilton Center housing proposal grows to 5 stories, 42 apartments\\n \\nWilton seeks volunteers to help out at Townwide Cleanup Day\\n \\nDevelopers appeal denial of sewer extension for Wilton housing\\n \\nWilton teens bring free science lessons to kids with Team STEAM\\n \\nWilton P&Z seeks more details on day-care center's plan to move\\n \\nWilton students get shaved 'in solidarity' with kids with cancer\\n \\n  \\nNewsTrump arrested? Putin jailed? Fake AI images spread onlineARIJETA LAJKA and PHILIP MARCELOMarch 23, 2023Updated: March 23, 2023 2:16 p.m.\\n\\nFacebook\\nTwitter\\nEmail\\n\\nComments\\n\\n NEW YORK (AP) — Former President Donald Trump getting gang-tackled by riot-gear-clad New York City police officers. Russian President Vladimir Putin in prison grays behind the bars of a dimly lit concrete cell.\\nThe highly detailed, sensational images have inundated Twitter and other platforms in recent days, amid news that Trump faces possible criminal charges and the International Criminal Court has issued an arrest warrant for Putin.\\n But neither visual is remotely real. The images — and scores of variations littering social media — were produced using increasingly sophisticated and widely accessible image generators powered by artificial intelligence.\\n\\n Misinformation experts warn the images are harbingers of a new reality: waves of fake photos and videos flooding social media after major news events and further muddying fact and fiction at crucial times for society.\\n“It does add noise during crisis events. It also increases the cynicism level,” said Jevin West, a professor at the University of Washington in Seattle who focuses on the spread of misinformation. “You start to lose trust in the system and the information that you are getting.”\\nWhile the ability to manipulate photos and create fake images isn’t new, AI image generator tools by Midjourney, DALL-E and others are easier to use. They can quickly generate realistic images — complete with detailed backgrounds — on a mass scale with little more than a simple text prompt from users.\\nSome of the recent images have been driven by this month's release of a new version of Midjourney’s text-to-image synthesis model, which can, among other things, now produce convincing images mimicking the style of news agency photos.\\nIn one widely-circulating Twitter thread, Eliot Higgins, founder of Bellingcat, a Netherlands-based investigative journalism collective, used the latest version of the tool to conjure up scores of dramatic images of Trump’s fictional arrest.\\nThe visuals, which have been shared and liked tens of thousands of times, showed a crowd of uniformed officers grabbing the Republican billionaire and violently pulling him down onto the pavement.\\nHiggins, who was also behind a set of images of Putin being arrested, put on trial and then imprisoned, says he posted the images with no ill intent. He even stated clearly in his Twitter thread that the images were AI-generated.\\nStill, the images were enough to get him locked out of the Midjourney server, according to Higgins. The San Francisco-based independent research lab didn’t respond to emails seeking comment.\\n“The Trump arrest image was really just casually showing both how good and bad Midjourney was at rendering real scenes,” Higgins wrote in an email. “The images started to form a sort of narrative as I plugged in prompts to Midjourney, so I strung them along into a narrative, and decided to finish off the story.”\\nHe pointed out the images are far from perfect: in some, Trump is seen, oddly, wearing a police utility belt. In others, faces and hands are clearly distorted.\\nBut it’s not enough that users like Higgins clearly state in their posts that the images are AI-generated and solely for entertainment, says Shirin Anlen, media technologist at Witness, a New York-based human rights organization that focuses on visual evidence.\\nToo often, the visuals are quickly reshared by others without that crucial context, she said. Indeed, an Instagram post sharing some of Higgins' images o...  \\\n",
       "10118   \\nTrump arrested? Putin jailed? Fake AI images spread online\\n\\n1 weather alerts\\n1 closings/delays\\n Watch Now\\n\\n Watch Now\\n\\n1 weather alerts\\n1 closings/delays\\n\\nMenu\\n\\nSearch site\\n\\n Watch Now\\n\\n Watch Now\\n\\nClose x\\n\\n\\nLive\\nWatch\\n\\n\\n Alerts\\n\\nSearch site\\n\\nGo\\n\\nLocal News\\nAround Town\\n\\nLocal Eats\\n\\nBridging the Gap\\n\\nShop Small with Stevie\\n\\nNews\\nLocal News\\n\\nState\\n\\nIn Focus\\n\\nHidden Treasures\\n\\nNational\\n\\nTwo Americas\\n\\nWorld\\n\\nEducation\\n\\nNews Photo Gallery\\n\\nGood to Know\\n\\nThe Race \\n\\nConsumer\\n\\nWeather & Traffic\\n7 Day Forecast\\n\\nSchool Closings\\n\\nWeather Alerts\\n\\nWeather Blogs\\n\\nHurricane\\n\\nInteractive Radar\\n\\nTraffic\\n\\nLive Traffic Cams\\n\\nIn Focus\\nMatter for Mallory\\n\\nVacants \\n\\nContaminated Water\\n\\nVoice for Veterans\\nVeteran Spotlight\\n\\nInvestigations\\nMatter for Mallory\\n\\nMaryland Mysteries \\n\\nHealthy Holly Controversy\\n\\nContact WMAR-2 News Investigators\\n\\nMidday Maryland\\n\\nSports\\nOrioles\\n\\nRavens\\n\\nLacrosse\\n\\nTurkey Bowl\\n\\nStudent Athlete\\n\\nHigh School\\n\\nYour Health Matters\\nConquering Addiction \\n\\nMen's Health\\n\\nEntertainment\\nTV Listings\\n\\nGrit TV\\n\\nBounce TV\\n\\nCourt TV\\n\\nNewsy\\n\\nThe List\\n\\nWMAR Podcast\\n\\nBlogs\\nWeather Blogs\\n\\nDay in the Life\\n\\nTaste Buds\\n\\nWMAR -2 Videos\\nWMAR-2 On YouTube\\n\\nWMAR Originals\\n\\nGrace & Glory\\n\\nMarketplace\\nContests\\n\\nSteering Change\\n\\nBrand Spotlight\\n\\nEveryday Heroes\\n\\nWorkers Wanted\\n\\nWMAR-2 On the Go\\n\\nPower of Age \\n\\nHome Pros\\n\\nAbout WMAR\\nAdvertise with WMAR\\n\\nWMAR-2 News Team\\n\\nContact Us\\n\\nStation Jobs\\n\\nSign InNewsletters\\nSign OutManage Emails\\nApps\\nCareers Search\\nIn Focus\\n\\nWeather\\n\\nMatter for Mallory\\n\\n    Voice for Veterans\\nVeteran Resources\\n\\nVeteran Spotlight\\nWMAR on YouTube\\n\\nContests\\nWMAR on Facebook\\n\\nBridging the Gap\\n\\nQuick links...\\nIn Focus\\nWeather\\nMatter for Mallory\\n    Voice for Veterans\\nContests\\nBridging the Gap\\n\\n1 weather alerts\\n1 closings/delays\\nOvernight mass shooting leaves one dead, five wounded in West Baltimore \\nNewsNational\\n\\n\\nActions\\nFacebook\\nTweet\\n\\n\\nEmail\\nTrump arrested? Putin jailed? Fake AI images spread online\\nExperts warn that AI-generated images can and will contribute to misinformation, especially online.\\n\\n  \\n  \\n\\nSue Ogrocki / AP\\n  \\n\\n  \\nBy:\\n                The Associated Press\\n                \\n              \\n\\n\\nPosted at 8:33 PM, Mar 23, 2023 \\nand last updated 2023-03-23 20:33:04-04\\n\\nFormer President Donald Trump getting gang-tackled by riot-gear-clad New York City police officers. Russian President Vladimir Putin in prison grays behind the bars of a dimly lit concrete cell.The highly detailed, sensational images have inundated Twitter and other platforms in recent days, amid news that Trump faces possible criminal charges and the International Criminal Court has issued an arrest warrant for Putin.But neither visual is remotely real. The images — and scores of variations littering social media — were produced using increasingly sophisticated and widely accessible image generators powered by artificial intelligence.Misinformation experts warn the images are harbingers of a new reality: waves of fake photos and videos flooding social media after major news events and further muddying fact and fiction at crucial times for society.“It does add noise during crisis events. It also increases the cynicism level,” said Jevin West, a professor at the University of Washington in Seattle who focuses on the spread of misinformation. “You start to lose trust in the system and the information that you are getting.”While the ability to manipulate photos and create fake images isn’t new, AI image generator tools by Midjourney, DALL-E and others are easier to use. They can quickly generate realistic images — complete with detailed backgrounds — on a mass scale with little more than a simple text prompt from users.Some of the recent images have been driven by this month’s release of a new version of Midjourney’s text-to-image synthesis model, which can, among other things, now produce convincing images mimicking the style of news agency photos.SEE MORE: NY grand jury reportedly won't meet about Trump this weekIn one widely-circulating Twitter thread, Eliot Higgins, founder of Bellingcat, a Netherlands-based investigative journalism collective, used the latest version of the tool to conjure up scores of dramatic images of Trump’s fictional arrest.The visuals, which have been shared and liked tens of thousands of times, showed a crowd of uniformed officers grabbing the Republican billionaire and violently pulling him down onto the pavement.Higgins, who was also behind a set of images of Putin being arrested, put on trial and then imprisoned, says he posted the images with no ill intent. He even stated clearly in his Twitter thread that the images were AI-generated.Still, the images were enough to get him locked out of the Midjourney server, according to Higgins. The San Francisco-based independent resea...   \n",
       "10829   \\nTrump arrested? Putin jailed? Fake AI images spread online\\n \\n\\n \\n \\n\\n \\n\\n \\n\\n \\n \\n\\n \\nSkip to main content\\nTurn off refresh\\n\\n\\n \\n\\nCurrently Reading\\nTrump arrested? Putin jailed? Fake AI images spread online\\n\\nSubscribe\\nSubscribe\\n\\ne-Edition\\nSign In\\n\\n  \\nHomeSign Up for NewslettersContact UsHelpAdvertise With UsSubmissionsFAQ'sPrivacy NoticeTerms of UseSubscribeNewsPolice & FireTown GovernmentPolitics & ElectionsConnecticutCannabisEducationOpinionCommunityLivingFoodHome and GardenSportsHigh School SportsUConnObituariesEntertainmentTV79 ScheduleLapham Community CenterComicsPuzzlesBusinessPress releasesShoppingAdvertising FeaturesEventsClassifieds\\n\\n  \\n \\n\\nRecommended\\n \\nNew Canaan to raise meter fees, parking violation fines\\n \\nNew Canaan Gridiron Club honors Murphy and other events\\n \\nA local garden tour and other New Canaan events\\n \\nIn Photos: A sweet syrupy treat at New Canaan's Nature Center\\n \\nFinance board OKs $166M budget, asks for info on stadium upgrade\\n \\nIn Photos: New Canaan after-school art class tackles Kandinsky\\n \\nThird annual color drop, classes at Lapham Center and more\\n \\nPolice: Pedestrian struck in New Canaan hit-and-run\\n \\nIn Photos: African-based food tasting event held in New Canaan\\n \\nNew Canaan Advertiser Friday virtual coffee returns March 31\\n \\n  \\nNewsTrump arrested? Putin jailed? Fake AI images spread onlineARIJETA LAJKA and PHILIP MARCELOMarch 23, 2023Updated: March 23, 2023 2:16 p.m.\\n\\nFacebook\\nTwitter\\nEmail\\n\\nComments\\n\\n NEW YORK (AP) — Former President Donald Trump getting gang-tackled by riot-gear-clad New York City police officers. Russian President Vladimir Putin in prison grays behind the bars of a dimly lit concrete cell.\\nThe highly detailed, sensational images have inundated Twitter and other platforms in recent days, amid news that Trump faces possible criminal charges and the International Criminal Court has issued an arrest warrant for Putin.\\n But neither visual is remotely real. The images — and scores of variations littering social media — were produced using increasingly sophisticated and widely accessible image generators powered by artificial intelligence.\\n\\n Misinformation experts warn the images are harbingers of a new reality: waves of fake photos and videos flooding social media after major news events and further muddying fact and fiction at crucial times for society.\\n“It does add noise during crisis events. It also increases the cynicism level,” said Jevin West, a professor at the University of Washington in Seattle who focuses on the spread of misinformation. “You start to lose trust in the system and the information that you are getting.”\\nWhile the ability to manipulate photos and create fake images isn’t new, AI image generator tools by Midjourney, DALL-E and others are easier to use. They can quickly generate realistic images — complete with detailed backgrounds — on a mass scale with little more than a simple text prompt from users.\\nSome of the recent images have been driven by this month's release of a new version of Midjourney’s text-to-image synthesis model, which can, among other things, now produce convincing images mimicking the style of news agency photos.\\nIn one widely-circulating Twitter thread, Eliot Higgins, founder of Bellingcat, a Netherlands-based investigative journalism collective, used the latest version of the tool to conjure up scores of dramatic images of Trump’s fictional arrest.\\nThe visuals, which have been shared and liked tens of thousands of times, showed a crowd of uniformed officers grabbing the Republican billionaire and violently pulling him down onto the pavement.\\nHiggins, who was also behind a set of images of Putin being arrested, put on trial and then imprisoned, says he posted the images with no ill intent. He even stated clearly in his Twitter thread that the images were AI-generated.\\nStill, the images were enough to get him locked out of the Midjourney server, according to Higgins. The San Francisco-based independent research lab didn’t respond to emails seeking comment.\\n“The Trump arrest image was really just casually showing both how good and bad Midjourney was at rendering real scenes,” Higgins wrote in an email. “The images started to form a sort of narrative as I plugged in prompts to Midjourney, so I strung them along into a narrative, and decided to finish off the story.”\\nHe pointed out the images are far from perfect: in some, Trump is seen, oddly, wearing a police utility belt. In others, faces and hands are clearly distorted.\\nBut it’s not enough that users like Higgins clearly state in their posts that the images are AI-generated and solely for entertainment, says Shirin Anlen, media technologist at Witness, a New York-based human rights organization that focuses on visual evidence.\\nToo often, the visuals are quickly reshared by others without that crucial context, she said. Indeed, an Instagram post sharing some of Higgins' images of Trump as if ...   \n",
       "12993   Trump arrested? Putin jailed? Fake AI images spread online\\n\\nSkip to contentDealsFinancial MinuteJoin the TVL Birthday ClubTravel TVLNominate an Extraordinary Veteran48 Now LivestreamLatest VideosPrevious NewscastDigital ShowsNewsWeatherSportsTVTN Valley LivingAbout UsHomeContestsWake Up with WAFF 48Send Us Your PhotosWeatherFirst Alert Doppler RadarTrack StormsWeather CamsStorm SheltersProgram your Weather RadioRadio Station PartnersFirst Alert Weather AppNominate an Extraordinary VeteranTrafficLive Newscasts on 48 NowOn Demand Newscasts on VUitLatest VideosNewsHuntsville - MadisonLimestone - MorganSand MountainShoals48 InvestigatesCrime StoppersSportsDigital Shows48 BlitzFootball ScoresRocket City Trash PandasNCAAHigh SchoolLocalNationalSend Us Your PhotosMeet the TeamContestsCalendarRoku, FireTV and moreProgramming ScheduleKid's ProgrammingContact NBCBounce TVWhere to find 48.2 and 48.3 on cableAbout UsMeet the TeamJob OpeningsTennessee Valley LivingTravel TVLJoin the TVL Birthday ClubClient LoginDeal of the WeekFinancial MinutePowerNationCircle - County MusicGray DC BureauInvestigate TVPress ReleasesTrump arrested? Putin jailed? Fake AI images spread onlineImages created by Eliot Higgins with the use of artificial intelligence show a fictitious skirmish with former President Donald Trump and New York City police officers posted on Higgins' Twitter account, as photographed on an iPhone in Arlington, Va., Thursday, Mar. 23, 2023. The highly detailed, sensational images, which are not real, were produced using a sophisticated and widely accessible image generator.(AP Photo/J. David Ake)By The Associated PressPublished: Mar. 23, 2023 at 1:25 PM CDT|Updated: 49 minutes agoShare on FacebookEmail This LinkShare on TwitterShare on PinterestShare on LinkedInNEW YORK (AP) — Former President Donald Trump getting gang-tackled by riot-gear-clad New York City police officers. Russian President Vladimir Putin in prison grays behind the bars of a dimly lit concrete cell.The highly detailed, sensational images have inundated Twitter and other platforms in recent days, amid news that Trump faces possible criminal charges and the International Criminal Court has issued an arrest warrant for Putin.But neither visual is remotely real. The images — and scores of variations littering social media — were produced using increasingly sophisticated and widely accessible image generators powered by artificial intelligence.Misinformation experts warn the images are harbingers of a new reality: waves of fake photos and videos flooding social media after major news events and further muddying fact and fiction at crucial times for society.“It does add noise during crisis events. It also increases the cynicism level,” said Jevin West, a professor at the University of Washington in Seattle who focuses on the spread of misinformation. “You start to lose trust in the system and the information that you are getting.”As the drama surrounding Trump reaches a fever pitch, the waiting game continues for a possible indictment. (CNN, POOL, ABC, WCBS, MSNBC, STORMY DANIELS)While the ability to manipulate photos and create fake images isn’t new, AI image generator tools by Midjourney, DALL-E and others are easier to use. They can quickly generate realistic images — complete with detailed backgrounds — on a mass scale with little more than a simple text prompt from users.Some of the recent images have been driven by this month’s release of a new version of Midjourney’s text-to-image synthesis model, which can, among other things, now produce convincing images mimicking the style of news agency photos.In one widely-circulating Twitter thread, Eliot Higgins, founder of Bellingcat, a Netherlands-based investigative journalism collective, used the latest version of the tool to conjure up scores of dramatic images of Trump’s fictional arrest.The visuals, which have been shared and liked tens of thousands of times, showed a crowd of uniformed officers grabbing the Republican billionaire and violently pulling him down onto the pavement.Higgins, who was also behind a set of images of Putin being arrested, put on trial and then imprisoned, says he posted the images with no ill intent. He even stated clearly in his Twitter thread that the images were AI-generated.Still, the images were enough to get him locked out of the Midjourney server, according to Higgins. The San Francisco-based independent research lab didn’t respond to emails seeking comment.“The Trump arrest image was really just casually showing both how good and bad Midjourney was at rendering real scenes,” Higgins wrote in an email. “The images started to form a sort of narrative as I plugged in prompts to Midjourney, so I strung them along into a narrative, and decided to finish off the story.”He pointed out the images are far from perfect: in some, Trump is seen, oddly, wearing a police utility belt. In others, faces and hands are clearly distorted.But it’s not enough that users like Higgi...   \n",
       "18830   \\nTrump arrested? Putin jailed? Fake AI images spread online\\n\\n1 weather alerts\\n1 closings/delays\\n Watch Now\\n\\n Watch Now\\n\\n1 weather alerts\\n1 closings/delays\\n\\nMenu\\n\\nSearch site\\n\\n Watch Now\\n\\n Watch Now\\n\\nClose x\\n\\n\\nLive\\nWatch\\n\\n\\n Alerts\\n\\nSearch site\\n\\nGo\\n\\nAdvertise With Us\\n\\nMy Vote: Live Poll Question\\n\\nSubmit your photos and videos\\n\\nNews\\nLocal News\\n\\nCochise County\\n\\nStatewide News\\n\\nNational News\\n\\nTraffic\\n\\nWeather\\nHourly Forecast\\n\\n7 Day\\n\\nRadar Maps\\n\\nMonsoon 2022\\n\\nWildfire Watch\\n\\nAZ Drought\\n\\nSevere Weather Alerts\\n\\nSports\\n\\nAbsolutely Arizona\\n\\nBorder Watch\\n\\nSpirit of Southern Arizona\\n\\nThe Giving Project\\n\\nThings to Do\\n\\nOperation Safe Roads\\n\\nPhoto Galleries\\n\\nVideo\\nLive Video\\n\\nKGUN 9 on Roku\\n\\nKGUN 9 on Amazon Fire TV\\n\\nKGUN 9 on YouTube\\n\\nMeet the KGUN 9 Team\\n\\nAbout Us\\nMeet the KGUN 9 Team\\n\\nYou Ask. We Investigate.®\\n\\nSubmit News Tips\\n\\nArticle Edits and Removal Requests\\n\\nMug Shot Policy\\n\\nSensitive Footage Policy\\nJobs\\n\\nSupport\\n\\nContests\\n\\nTV Listings\\n\\nThe Morning Blend\\nBe on the Show\\n\\nOur Hosts\\n\\nHomePros\\n\\nFacebook\\n\\nTwitter\\n\\nInstagram\\n\\nContests\\n\\nMorning Blend Newsletters\\n\\nSign InNewsletters\\nSign OutManage Emails\\nApps\\nCareers Search\\nLocal News\\n\\nCochise County News\\n\\nStatewide News\\n\\nNational News\\n\\nQuick links...\\nLocal News\\nCochise County News\\nStatewide News\\nNational News\\n\\n1 weather alerts\\n1 closings/delays\\n\\nKGUN 9 On Your SideNewsNational News\\n\\n\\nActions\\nFacebook\\nTweet\\n\\n\\nEmail\\nTrump arrested? Putin jailed? Fake AI images spread online\\nExperts warn that AI-generated images can and will contribute to misinformation, especially online.\\n\\n  \\n  \\n\\nSue Ogrocki / AP\\n  \\n\\n  \\nBy:\\n                The Associated Press\\n                \\n              \\n\\n\\nPosted at 5:33 PM, Mar 23, 2023 \\nand last updated 2023-03-23 20:33:04-04\\n\\nFormer President Donald Trump getting gang-tackled by riot-gear-clad New York City police officers. Russian President Vladimir Putin in prison grays behind the bars of a dimly lit concrete cell.The highly detailed, sensational images have inundated Twitter and other platforms in recent days, amid news that Trump faces possible criminal charges and the International Criminal Court has issued an arrest warrant for Putin.But neither visual is remotely real. The images — and scores of variations littering social media — were produced using increasingly sophisticated and widely accessible image generators powered by artificial intelligence.Misinformation experts warn the images are harbingers of a new reality: waves of fake photos and videos flooding social media after major news events and further muddying fact and fiction at crucial times for society.“It does add noise during crisis events. It also increases the cynicism level,” said Jevin West, a professor at the University of Washington in Seattle who focuses on the spread of misinformation. “You start to lose trust in the system and the information that you are getting.”While the ability to manipulate photos and create fake images isn’t new, AI image generator tools by Midjourney, DALL-E and others are easier to use. They can quickly generate realistic images — complete with detailed backgrounds — on a mass scale with little more than a simple text prompt from users.Some of the recent images have been driven by this month’s release of a new version of Midjourney’s text-to-image synthesis model, which can, among other things, now produce convincing images mimicking the style of news agency photos.SEE MORE: NY grand jury reportedly won't meet about Trump this weekIn one widely-circulating Twitter thread, Eliot Higgins, founder of Bellingcat, a Netherlands-based investigative journalism collective, used the latest version of the tool to conjure up scores of dramatic images of Trump’s fictional arrest.The visuals, which have been shared and liked tens of thousands of times, showed a crowd of uniformed officers grabbing the Republican billionaire and violently pulling him down onto the pavement.Higgins, who was also behind a set of images of Putin being arrested, put on trial and then imprisoned, says he posted the images with no ill intent. He even stated clearly in his Twitter thread that the images were AI-generated.Still, the images were enough to get him locked out of the Midjourney server, according to Higgins. The San Francisco-based independent research lab didn’t respond to emails seeking comment.SEE MORE: Fake people, real threat: How AI is being used to spread propaganda“The Trump arrest image was really just casually showing both how good and bad Midjourney was at rendering real scenes,” Higgins wrote in an email. “The images started to form a sort of narrative as I plugged in prompts to Midjourney, so I strung them along into a narrative, and decided to finish off the story.”He pointed out the images are far from perfect: in some, Trump is seen, oddly, wearing a police utility belt. In othe...   \n",
       "...                                                                                                                                                                                                                                                                                                                                                                                                                                                                                                                                                                                                                                                                                                                                                                                                                                                                                                                                                                                                                                                                                                                                                                                                                                                                                                                                                                                                                                                                                                                                                                                                                                                                                                                                                                                                                                                                                                                                                                                                                                                                                                                                                                                                                                                                                                                                                                                                                                                                                                                                                                                                                                                                                                                                                                                                                                                                                                                                                                                                                                                                                                                                                                                                                                                                                                                                                                                                                                                                                                                                                                                                                                                                                                                                                                                                                                                                                                                                                                                                                                                                                                                                                                                                                                                                                                                                                                                                                                                                                                                                                                                                                                                                                                                                                                                                                                                                                                                                                                                                                                                                                                                                                                                                         ...   \n",
       "190327  \\nTrump arrested? Putin jailed? Fake AI images spread online\\n \\n\\n \\n \\n\\n \\n\\n \\n\\n \\n\\n \\n\\n \\nSkip to main content\\nTurn off refresh\\n\\n\\n \\n\\nCurrently Reading\\nTrump arrested? Putin jailed? Fake AI images spread online\\n\\nSubscribe\\nSubscribe\\n\\ne-Edition\\nSign In\\n\\n  \\nHomeFormsAdvertiseNewsSportsObituariesSubmit an ObituaryOutdoorsClassifiedsOpinionE-EditionPublic NoticesSubscriber Services\\n\\n  \\n \\n\\nMost Popular\\n \\nSHERIFF'S CORNER: 'Don't tell me I can't film in public, cop-er!!\"\\n \\nEads ends district title drought with Baldwin championship\\n \\nSHERIFF'S CORNER: A look at gun laws\\n \\nSHERIFF'S CORNER: Clarifying laws on shooting firearms\\n \\nLongtime Baldwin barber gets dedicated parking sign\\n \\nSHERIFF'S CORNER: A repost of little-known laws in Michigan\\n \\nBaldwin schools honors February students of the month\\n \\nBaldwin DDA seeks funding for community gathering space\\n \\n  \\nNewsTrump arrested? Putin jailed? Fake AI images spread onlineARIJETA LAJKA and PHILIP MARCELOMarch 23, 2023Updated: March 23, 2023 2:09 p.m.\\n\\nFacebook\\nTwitter\\nEmail\\n\\nComments\\n\\n NEW YORK (AP) — Former President Donald Trump getting gang-tackled by riot-gear-clad New York City police officers. Russian President Vladimir Putin in prison grays behind the bars of a dimly lit concrete cell.\\nThe highly detailed, sensational images have inundated Twitter and other platforms in recent days, amid news that Trump faces possible criminal charges and the International Criminal Court has issued an arrest warrant for Putin.\\n But neither visual is remotely real. The images — and scores of variations littering social media — were produced using increasingly sophisticated and widely accessible image generators powered by artificial intelligence.\\n\\n Misinformation experts warn the images are harbingers of a new reality: waves of fake photos and videos flooding social media after major news events and further muddying fact and fiction at crucial times for society.\\n“It does add noise during crisis events. It also increases the cynicism level,” said Jevin West, a professor at the University of Washington in Seattle who focuses on the spread of misinformation. “You start to lose trust in the system and the information that you are getting.”\\nWhile the ability to manipulate photos and create fake images isn’t new, AI image generator tools by Midjourney, DALL-E and others are easier to use. They can quickly generate realistic images — complete with detailed backgrounds — on a mass scale with little more than a simple text prompt from users.\\nSome of the recent images have been driven by this month's release of a new version of Midjourney’s text-to-image synthesis model, which can, among other things, now produce convincing images mimicking the style of news agency photos.\\nIn one widely-circulating Twitter thread, Eliot Higgins, founder of Bellingcat, a Netherlands-based investigative journalism collective, used the latest version of the tool to conjure up scores of dramatic images of Trump’s fictional arrest.\\nThe visuals, which have been shared and liked tens of thousands of times, showed a crowd of uniformed officers grabbing the Republican billionaire and violently pulling him down onto the pavement.\\nHiggins, who was also behind a set of images of Putin being arrested, put on trial and then imprisoned, says he posted the images with no ill intent. He even stated clearly in his Twitter thread that the images were AI-generated.\\nStill, the images were enough to get him locked out of the Midjourney server, according to Higgins. The San Francisco-based independent research lab didn’t respond to emails seeking comment.\\n“The Trump arrest image was really just casually showing both how good and bad Midjourney was at rendering real scenes,” Higgins wrote in an email. “The images started to form a sort of narrative as I plugged in prompts to Midjourney, so I strung them along into a narrative, and decided to finish off the story.”\\nHe pointed out the images are far from perfect: in some, Trump is seen, oddly, wearing a police utility belt. In others, faces and hands are clearly distorted.\\nBut it’s not enough that users like Higgins clearly state in their posts that the images are AI-generated and solely for entertainment, says Shirin Anlen, media technologist at Witness, a New York-based human rights organization that focuses on visual evidence.\\nToo often, the visuals are quickly reshared by others without that crucial context, she said. Indeed, an Instagram post sharing some of Higgins' images of Trump as if they were genuine garnered more than 79,000 likes.\\n“You’re just seeing an image, and once you see something, you cannot unsee it,” Anlen said.\\nIn another recent example, social media users shared a synthetic image supposedly capturing Putin kneeling and kissing the hand of Chinese leader Xi Jinping. The image, which circulated as the Russian president welcomed Xi to the Kremlin this week, quickly became a crude meme.\\n...   \n",
       "192282  Trump arrested? Putin jailed? Fake AI images spread online\\n\\nSkip to contentAdvertise With UsLocal Steals and DealsNewsWatch LiveWeatherSportsOur AppsStudio 10HomepageWatch LiveOur AppsSubmit Photos or VideosSubmit your photos and videos to FOX10 in Mobile, AlabamaNewsMobile CountyBaldwin CountyAlabama NewsFlorida NewsMississippi NewsNationalInvestigatesCaught in the ActFugitive FilesPoliticsDaily Dot ComGulf Coast SpotlightWeatherRadarWeather CamsHurricane CenterTrafficStudio 10Committed to Our CommunityAbout the HouseLegal MattersDoing GoodIn the KitchenMusic SceneBeauty and StyleHealthy LivingDollars and SensePet of the WeekQueen of CleanHappening HereSportsAthlete of the WeekGame of the WeekFirst & 10SaintsAlabamaAuburnSouth AlabamaAbout UsOur AppsMeet the TeamContact UsProgramming ScheduleWhat's on FOXAdvertise with FOX10CareersCaptioningSpeaker Request FormNews EmailsPerspectivesPlayground ProjectLiving It Up with LeniseThe PledgeHope for a HomeCircle - Country Music & LifestyleGray DC BureauPowerNationInvestigate TVPress ReleasesLatest NewscastsTrump arrested? Putin jailed? Fake AI images spread onlineImages created by Eliot Higgins with the use of artificial intelligence show a fictitious skirmish with former President Donald Trump and New York City police officers posted on Higgins' Twitter account, as photographed on an iPhone in Arlington, Va., Thursday, Mar. 23, 2023. The highly detailed, sensational images, which are not real, were produced using a sophisticated and widely accessible image generator.(AP Photo/J. David Ake)By The Associated PressPublished: Mar. 23, 2023 at 1:25 PM CDT|Updated: 32 minutes agoShare on FacebookEmail This LinkShare on TwitterShare on PinterestShare on LinkedInNEW YORK (AP) — Former President Donald Trump getting gang-tackled by riot-gear-clad New York City police officers. Russian President Vladimir Putin in prison grays behind the bars of a dimly lit concrete cell.The highly detailed, sensational images have inundated Twitter and other platforms in recent days, amid news that Trump faces possible criminal charges and the International Criminal Court has issued an arrest warrant for Putin.But neither visual is remotely real. The images — and scores of variations littering social media — were produced using increasingly sophisticated and widely accessible image generators powered by artificial intelligence.Misinformation experts warn the images are harbingers of a new reality: waves of fake photos and videos flooding social media after major news events and further muddying fact and fiction at crucial times for society.“It does add noise during crisis events. It also increases the cynicism level,” said Jevin West, a professor at the University of Washington in Seattle who focuses on the spread of misinformation. “You start to lose trust in the system and the information that you are getting.”As the drama surrounding Trump reaches a fever pitch, the waiting game continues for a possible indictment. (CNN, POOL, ABC, WCBS, MSNBC, STORMY DANIELS)While the ability to manipulate photos and create fake images isn’t new, AI image generator tools by Midjourney, DALL-E and others are easier to use. They can quickly generate realistic images — complete with detailed backgrounds — on a mass scale with little more than a simple text prompt from users.Some of the recent images have been driven by this month’s release of a new version of Midjourney’s text-to-image synthesis model, which can, among other things, now produce convincing images mimicking the style of news agency photos.In one widely-circulating Twitter thread, Eliot Higgins, founder of Bellingcat, a Netherlands-based investigative journalism collective, used the latest version of the tool to conjure up scores of dramatic images of Trump’s fictional arrest.The visuals, which have been shared and liked tens of thousands of times, showed a crowd of uniformed officers grabbing the Republican billionaire and violently pulling him down onto the pavement.Higgins, who was also behind a set of images of Putin being arrested, put on trial and then imprisoned, says he posted the images with no ill intent. He even stated clearly in his Twitter thread that the images were AI-generated.Still, the images were enough to get him locked out of the Midjourney server, according to Higgins. The San Francisco-based independent research lab didn’t respond to emails seeking comment.“The Trump arrest image was really just casually showing both how good and bad Midjourney was at rendering real scenes,” Higgins wrote in an email. “The images started to form a sort of narrative as I plugged in prompts to Midjourney, so I strung them along into a narrative, and decided to finish off the story.”He pointed out the images are far from perfect: in some, Trump is seen, oddly, wearing a police utility belt. In others, faces and hands are clearly distorted.But it’s not enough that users like Higgins clearly state in their posts that the images are A...   \n",
       "196613  Trump arrested? Putin jailed? Fake AI images spread online\\n\\nSkip to contentSend It To 7NewsHealthWeatherSportsCommunityLIVE and Latest NewscastsContestsAbout UsPick a PetHomeWatch LiveNewsSend It To 7InterviewsObituariesYour TurnCraig's To-Do ListMilitary MattersBlast from the PastNationalMeet The TeamWeatherRe-Openings, Closings and CancellationsSportsAthlete of the WeekBraggin' RightsHealthYour Morning CheckupAsk the PharmacistCommunityNorth Country All StarsEmily in the A.M.7NEWS Community CalendarChris Manning's TV DinnersMr. FoodPick-a-PetContestsTV ScheduleAbout UsMeet The TeamContact UsJob OpeningsCircle - Country Music & LifestylePrevious NewscastsGray DC BureauInvestigate TVPowerNationPress ReleasesTrump arrested? Putin jailed? Fake AI images spread onlineImages created by Eliot Higgins with the use of artificial intelligence show a fictitious skirmish with former President Donald Trump and New York City police officers posted on Higgins' Twitter account, as photographed on an iPhone in Arlington, Va., Thursday, Mar. 23, 2023. The highly detailed, sensational images, which are not real, were produced using a sophisticated and widely accessible image generator.(AP Photo/J. David Ake)By The Associated PressPublished: Mar. 23, 2023 at 2:25 PM EDT|Updated: 10 minutes agoShare on FacebookEmail This LinkShare on TwitterShare on PinterestShare on LinkedInNEW YORK (AP) — Former President Donald Trump getting gang-tackled by riot-gear-clad New York City police officers. Russian President Vladimir Putin in prison grays behind the bars of a dimly lit concrete cell.The highly detailed, sensational images have inundated Twitter and other platforms in recent days, amid news that Trump faces possible criminal charges and the International Criminal Court has issued an arrest warrant for Putin.But neither visual is remotely real. The images — and scores of variations littering social media — were produced using increasingly sophisticated and widely accessible image generators powered by artificial intelligence.Misinformation experts warn the images are harbingers of a new reality: waves of fake photos and videos flooding social media after major news events and further muddying fact and fiction at crucial times for society.“It does add noise during crisis events. It also increases the cynicism level,” said Jevin West, a professor at the University of Washington in Seattle who focuses on the spread of misinformation. “You start to lose trust in the system and the information that you are getting.”As the drama surrounding Trump reaches a fever pitch, the waiting game continues for a possible indictment. (CNN, POOL, ABC, WCBS, MSNBC, STORMY DANIELS)While the ability to manipulate photos and create fake images isn’t new, AI image generator tools by Midjourney, DALL-E and others are easier to use. They can quickly generate realistic images — complete with detailed backgrounds — on a mass scale with little more than a simple text prompt from users.Some of the recent images have been driven by this month’s release of a new version of Midjourney’s text-to-image synthesis model, which can, among other things, now produce convincing images mimicking the style of news agency photos.In one widely-circulating Twitter thread, Eliot Higgins, founder of Bellingcat, a Netherlands-based investigative journalism collective, used the latest version of the tool to conjure up scores of dramatic images of Trump’s fictional arrest.The visuals, which have been shared and liked tens of thousands of times, showed a crowd of uniformed officers grabbing the Republican billionaire and violently pulling him down onto the pavement.Higgins, who was also behind a set of images of Putin being arrested, put on trial and then imprisoned, says he posted the images with no ill intent. He even stated clearly in his Twitter thread that the images were AI-generated.Still, the images were enough to get him locked out of the Midjourney server, according to Higgins. The San Francisco-based independent research lab didn’t respond to emails seeking comment.“The Trump arrest image was really just casually showing both how good and bad Midjourney was at rendering real scenes,” Higgins wrote in an email. “The images started to form a sort of narrative as I plugged in prompts to Midjourney, so I strung them along into a narrative, and decided to finish off the story.”He pointed out the images are far from perfect: in some, Trump is seen, oddly, wearing a police utility belt. In others, faces and hands are clearly distorted.But it’s not enough that users like Higgins clearly state in their posts that the images are AI-generated and solely for entertainment, says Shirin Anlen, media technologist at Witness, a New York-based human rights organization that focuses on visual evidence.Too often, the visuals are quickly reshared by others without that crucial context, she said. Indeed, an Instagram post sharing some of Higgins’ images of Trump as if they were genuin...   \n",
       "196784  Trump arrested? Putin jailed? Fake AI images spread online         HOME    MAIL    NEWS    FINANCE    SPORTS    ENTERTAINMENT    LIFE    SEARCH    SHOPPING    YAHOO PLUS    MORE...     Download the Yahoo News app    Yahoo News              Yahoo News    Search query            Sign in   Mail  Sign in to view your mail       News          US          Politics          World          COVID-19          Climate Change          Health          Science         Originals       The 360 Skullduggery Podcast Conspiracyland       Contact Us       …  \\n\\nClose this contentAP FinanceTrump arrested? Putin jailed? Fake AI images spread onlineRead full articleImages created by Eliot Higgins with the use of artificial intelligence show a fictitious skirmish with Donald Trump and New York City police officers posted on Higgins' Twitter account, as photographed on an iPhone in Arlington, Va., Thursday, Mar. 23, 2023. The highly detailed, sensational images, which are not real, were produced using a sophisticated and widely accessible image generator. (AP Photo/J. David Ake) (ASSOCIATED PRESS)1ARIJETA LAJKA and PHILIP MARCELOMarch 23, 2023, 11:03 AM·5 min readNEW YORK (AP) — Former President Donald Trump getting gang-tackled by riot-gear-clad New York City police officers. Russian President Vladimir Putin in prison grays behind the bars of a dimly lit concrete cell.The highly detailed, sensational images have inundated Twitter and other platforms in recent days, amid news that Trump faces possible criminal charges and the International Criminal Court has issued an arrest warrant for Putin.But neither visual is remotely real. The images — and scores of variations littering social media — were produced using increasingly sophisticated and widely accessible image generators powered by artificial intelligence.Misinformation experts warn the images are harbingers of a new reality: waves of fake photos and videos flooding social media after major news events and further muddying fact and fiction at crucial times for society.“It does add noise during crisis events. It also increases the cynicism level,” said Jevin West, a professor at the University of Washington in Seattle who focuses on the spread of misinformation. “You start to lose trust in the system and the information that you are getting.”While the ability to manipulate photos and create fake images isn’t new, AI image generator tools by Midjourney, DALL-E and others are easier to use. They can quickly generate realistic images — complete with detailed backgrounds — on a mass scale with little more than a simple text prompt from users.Some of the recent images have been driven by this month's release of a new version of Midjourney’s text-to-image synthesis model, which can, among other things, now produce convincing images mimicking the style of news agency photos.In one widely-circulating Twitter thread, Eliot Higgins, founder of Bellingcat, a Netherlands-based investigative journalism collective, used the latest version of the tool to conjure up scores of dramatic images of Trump’s fictional arrest.The visuals, which have been shared and liked tens of thousands of times, showed a crowd of uniformed officers grabbing the Republican billionaire and violently pulling him down onto the pavement.Story continuesHiggins, who was also behind a set of images of Putin being arrested, put on trial and then imprisoned, says he posted the images with no ill intent. He even stated clearly in his Twitter thread that the images were AI-generated.Still, the images were enough to get him locked out of the Midjourney server, according to Higgins. The San Francisco-based independent research lab didn’t respond to emails seeking comment.“The Trump arrest image was really just casually showing both how good and bad Midjourney was at rendering real scenes,” Higgins wrote in an email. “The images started to form a sort of narrative as I plugged in prompts to Midjourney, so I strung them along into a narrative, and decided to finish off the story.”He pointed out the images are far from perfect: in some, Trump is seen, oddly, wearing a police utility belt. In others, faces and hands are clearly distorted.But it’s not enough that users like Higgins clearly state in their posts that the images are AI-generated and solely for entertainment, says Shirin Anlen, media technologist at Witness, a New York-based human rights organization that focuses on visual evidence.Too often, the visuals are quickly reshared by others without that crucial context, she said. Indeed, an Instagram post sharing some of Higgins' images of Trump as if they were genuine garnered more than 79,000 likes.“You’re just seeing an image, and once you see something, you cannot unsee it,” Anlen said.In another recent example, social media users shared a synthetic image supposedly capturing Putin kneeling and kissing the hand of Chinese leader Xi Jinping. The image, which circulated as the Russian president welcomed Xi to the Kremli...   \n",
       "199931  Trump arrested? Putin jailed? Fake AI images spread online\\n\\nSkip to contentCircle - Country Music & LifestyleAdvertise With UsTeacher TributeHealth UpdateBuddy CheckWatch LiveNewsElectionsVideoWeatherSportsCommunityContestsAbout UsHomeWatch East Texas NowWatch Live/Watch NewscastsBig Red BoxSee it, Snap it, Send itNewsSpace Shuttle ColumbiaPoliticsNationalCrimeCoronavirusStateA Better East TexasEast Texas Ag NewsHeroes FlightEast Texas Now7 InvestigatesPet ProjectVideoWeatherLake LevelsPollen CountMeteorology MinuteProject TornadoThundercall - Sign Up TodaySportsCowboys CampLocalNationalScoreboardThe Red ZoneCOVID-19 UpdatesEast Texas KitchenFood NewsKitchen Pickin'Main DishSide DishDessertsRecallsEast Texas WeekendCommunityGift of LoveMark in Texas HistoryVolunteer CentralPower of PrayerIn FocusCalendarTrafficTraffic On The GoTxDOT Current Road ConditionsHealthContestsAbout UsSend Us A News TipJobsAdvertise With UsMeet the TeamDownload Our AppsContact UsProgrammingScheduleClosed CaptioningInvestigate TVCircle - Country Music & LifestyleGray DC BureauPowerNationLatest NewscastsPress ReleasesTrump arrested? Putin jailed? Fake AI images spread onlineImages created by Eliot Higgins with the use of artificial intelligence show a fictitious skirmish with former President Donald Trump and New York City police officers posted on Higgins' Twitter account, as photographed on an iPhone in Arlington, Va., Thursday, Mar. 23, 2023. The highly detailed, sensational images, which are not real, were produced using a sophisticated and widely accessible image generator.(AP Photo/J. David Ake)By The Associated PressPublished: Mar. 23, 2023 at 1:25 PM CDT|Updated: 1 hour agoShare on FacebookEmail This LinkShare on TwitterShare on PinterestShare on LinkedInNEW YORK (AP) — Former President Donald Trump getting gang-tackled by riot-gear-clad New York City police officers. Russian President Vladimir Putin in prison grays behind the bars of a dimly lit concrete cell.The highly detailed, sensational images have inundated Twitter and other platforms in recent days, amid news that Trump faces possible criminal charges and the International Criminal Court has issued an arrest warrant for Putin.But neither visual is remotely real. The images — and scores of variations littering social media — were produced using increasingly sophisticated and widely accessible image generators powered by artificial intelligence.Misinformation experts warn the images are harbingers of a new reality: waves of fake photos and videos flooding social media after major news events and further muddying fact and fiction at crucial times for society.“It does add noise during crisis events. It also increases the cynicism level,” said Jevin West, a professor at the University of Washington in Seattle who focuses on the spread of misinformation. “You start to lose trust in the system and the information that you are getting.”As the drama surrounding Trump reaches a fever pitch, the waiting game continues for a possible indictment. (CNN, POOL, ABC, WCBS, MSNBC, STORMY DANIELS)While the ability to manipulate photos and create fake images isn’t new, AI image generator tools by Midjourney, DALL-E and others are easier to use. They can quickly generate realistic images — complete with detailed backgrounds — on a mass scale with little more than a simple text prompt from users.Some of the recent images have been driven by this month’s release of a new version of Midjourney’s text-to-image synthesis model, which can, among other things, now produce convincing images mimicking the style of news agency photos.In one widely-circulating Twitter thread, Eliot Higgins, founder of Bellingcat, a Netherlands-based investigative journalism collective, used the latest version of the tool to conjure up scores of dramatic images of Trump’s fictional arrest.The visuals, which have been shared and liked tens of thousands of times, showed a crowd of uniformed officers grabbing the Republican billionaire and violently pulling him down onto the pavement.Higgins, who was also behind a set of images of Putin being arrested, put on trial and then imprisoned, says he posted the images with no ill intent. He even stated clearly in his Twitter thread that the images were AI-generated.Still, the images were enough to get him locked out of the Midjourney server, according to Higgins. The San Francisco-based independent research lab didn’t respond to emails seeking comment.“The Trump arrest image was really just casually showing both how good and bad Midjourney was at rendering real scenes,” Higgins wrote in an email. “The images started to form a sort of narrative as I plugged in prompts to Midjourney, so I strung them along into a narrative, and decided to finish off the story.”He pointed out the images are far from perfect: in some, Trump is seen, oddly, wearing a police utility belt. In others, faces and hands are clearly distorted.But it’s not enough that users like Higgins clearly state...   \n",
       "\n",
       "                                website  \n",
       "1906    https://www.wiltonbulletin.com/  \n",
       "10118        https://www.wmar2news.com/  \n",
       "10829     https://www.ncadvertiser.com/  \n",
       "12993             https://www.waff.com/  \n",
       "18830            https://www.kgun9.com/  \n",
       "...                                 ...  \n",
       "190327  https://www.lakecountystar.com/  \n",
       "192282         https://www.fox10tv.com/  \n",
       "196613          https://www.wwnytv.com/  \n",
       "196784          https://news.yahoo.com/  \n",
       "199931            https://www.kltv.com/  \n",
       "\n",
       "[99 rows x 6 columns]"
      ]
     },
     "execution_count": 18,
     "metadata": {},
     "output_type": "execute_result"
    }
   ],
   "source": [
    "#this shows same news title was reported by different websites somwhere around few days or for the case of highest value_counts it is an act but \n",
    "# its content is different.\n",
    "# this can also be interpreted as popularity of content  to drill deeper.\n",
    "\n",
    "df_news_final_project[df_news_final_project['title']=='Trump arrested? Putin jailed? Fake AI images spread online']"
   ]
  },
  {
   "cell_type": "markdown",
   "id": "6e91b07e-bef4-40e2-a1a9-5cf1072596cf",
   "metadata": {},
   "source": [
    "are text and title highest counts common articles? if not then just heading same but content different.??"
   ]
  },
  {
   "cell_type": "code",
   "execution_count": 19,
   "id": "29344e52-da45-4621-91ec-bc831f598026",
   "metadata": {
    "tags": []
   },
   "outputs": [
    {
     "data": {
      "text/html": [
       "<div>\n",
       "<style scoped>\n",
       "    .dataframe tbody tr th:only-of-type {\n",
       "        vertical-align: middle;\n",
       "    }\n",
       "\n",
       "    .dataframe tbody tr th {\n",
       "        vertical-align: top;\n",
       "    }\n",
       "\n",
       "    .dataframe thead th {\n",
       "        text-align: right;\n",
       "    }\n",
       "</style>\n",
       "<table border=\"1\" class=\"dataframe\">\n",
       "  <thead>\n",
       "    <tr style=\"text-align: right;\">\n",
       "      <th></th>\n",
       "      <th>title</th>\n",
       "      <th>count</th>\n",
       "    </tr>\n",
       "  </thead>\n",
       "  <tbody>\n",
       "    <tr>\n",
       "      <th>0</th>\n",
       "      <td>Virtus Artificial Intelligence &amp;amp; Technology Opportunities Fund Discloses Sources of Distribution - Section 19(a) Notice</td>\n",
       "      <td>237</td>\n",
       "    </tr>\n",
       "    <tr>\n",
       "      <th>1</th>\n",
       "      <td>Virtus AllianzGI Artificial Intelligence &amp;amp; Technology Opportunities Fund Discloses Sources of Distribution - Section 19(a) Notice</td>\n",
       "      <td>119</td>\n",
       "    </tr>\n",
       "    <tr>\n",
       "      <th>2</th>\n",
       "      <td>Trump arrested? Putin jailed? Fake AI images spread online</td>\n",
       "      <td>99</td>\n",
       "    </tr>\n",
       "    <tr>\n",
       "      <th>3</th>\n",
       "      <td>Musk, scientists call for halt to AI race sparked by ChatGPT</td>\n",
       "      <td>97</td>\n",
       "    </tr>\n",
       "    <tr>\n",
       "      <th>4</th>\n",
       "      <td>Biden administration seeks input on AI safety measures</td>\n",
       "      <td>86</td>\n",
       "    </tr>\n",
       "  </tbody>\n",
       "</table>\n",
       "</div>"
      ],
      "text/plain": [
       "                                                                                                                                   title   \n",
       "0            Virtus Artificial Intelligence &amp; Technology Opportunities Fund Discloses Sources of Distribution - Section 19(a) Notice  \\\n",
       "1  Virtus AllianzGI Artificial Intelligence &amp; Technology Opportunities Fund Discloses Sources of Distribution - Section 19(a) Notice   \n",
       "2                                                                             Trump arrested? Putin jailed? Fake AI images spread online   \n",
       "3                                                                           Musk, scientists call for halt to AI race sparked by ChatGPT   \n",
       "4                                                                                 Biden administration seeks input on AI safety measures   \n",
       "\n",
       "   count  \n",
       "0    237  \n",
       "1    119  \n",
       "2     99  \n",
       "3     97  \n",
       "4     86  "
      ]
     },
     "execution_count": 19,
     "metadata": {},
     "output_type": "execute_result"
    }
   ],
   "source": [
    "value_counts = df_news_final_project['title'].value_counts()\n",
    "top_counts = value_counts[value_counts > 1]\n",
    "\n",
    "rows_with_counts = pd.DataFrame({'title': top_counts.index, 'count': top_counts.values})\n",
    "\n",
    "rows_with_counts.head()"
   ]
  },
  {
   "cell_type": "code",
   "execution_count": 20,
   "id": "80a55dc7-7bfa-4157-9bd8-15981850d6d3",
   "metadata": {
    "tags": []
   },
   "outputs": [
    {
     "data": {
      "text/html": [
       "<div>\n",
       "<style scoped>\n",
       "    .dataframe tbody tr th:only-of-type {\n",
       "        vertical-align: middle;\n",
       "    }\n",
       "\n",
       "    .dataframe tbody tr th {\n",
       "        vertical-align: top;\n",
       "    }\n",
       "\n",
       "    .dataframe thead th {\n",
       "        text-align: right;\n",
       "    }\n",
       "</style>\n",
       "<table border=\"1\" class=\"dataframe\">\n",
       "  <thead>\n",
       "    <tr style=\"text-align: right;\">\n",
       "      <th></th>\n",
       "      <th>text</th>\n",
       "      <th>count</th>\n",
       "    </tr>\n",
       "  </thead>\n",
       "  <tbody>\n",
       "    <tr>\n",
       "      <th>0</th>\n",
       "      <td>\\n\\nSentinelOne Named to the 2020 CB Insights AI 100 List | | Consumer Electronics Net\\n\\n \\nSkip to content\\n\\nConsumer Electronics Net\\n\\nPrimary Menu\\n\\nConsumer Electronics Net\\n\\nSearch for:\\n \\nHomeNewsSentinelOne Named to the 2020 CB Insights AI 100 List \\n \\n                                 News\\n                             \\n \\nSentinelOne Named to the 2020 CB Insights AI 100 List\\n                    8 hours ago            \\n \\n\\nOnly Endpoint Security Company Recognized as One of the Most Innovative Artificial Intelligence Startups\\n\\nMOUNTAIN VIEW, Calif.–(BUSINESS WIRE)–SentinelOne, the autonomous cybersecurity platform company, today announced the company was named to the fourth annual CB Insights AI 100 ranking, showcasing the 100 most promising private artificial intelligence companies in the world. SentinelOne is one of ten companies on this year’s list valued at over $1 billion and is the only endpoint security company included.\\nSentinelOne is the only cybersecurity solution that encompasses prevention, detection, and response capabilities across endpoints, containers, cloud workloads, and IoT devices in a single, completely autonomous platform — using patented behavioral and static AI models to deliver autonomous capabilities with the lowest performance impact. With SentinelOne, organizations gain full transparency into everything that is happening across the network at machine speed — to defeat every attack, at every stage of the threat lifecycle — replacing traditional antivirus solutions.\\n\\n\\n“Our use of AI and machine learning is revolutionizing enterprise security,” said Raj Rajamani, Chief Product Officer, SentinelOne. “We were one of the first products to introduce a pure AI based malware detection engine that doesn’t rely on a signature database. Our AI processes enormous amounts of data in real time to detect anomalous activity autonomously. Deployed in the world’s largest enterprises, SentinelOne brings unparalleled prevention and detection coupled with autonomous responses across all attack surfaces – made possible by our patented AI models.”\\n\\n\\nThe CB Insights research team selected the 2020 AI 100 from nearly 5,000 companies based on several factors including patent activity, investor quality, news sentiment analysis, proprietary Mosaic scores, market potential, partnerships, competitive landscape, team strength, and tech novelty. The 2020 AI 100 companies span the globe, from the US, UK, China, Chile, and South Africa, and are supported by more than 600 investors.\\n\\n\\n“It’s been remarkable to see the success of the companies named to the Artificial Intelligence 100 over the last four years. The 2019 AI 100 saw 48 companies go on to raise $4.9B of additional financing and nine got acquired,” said CB Insights CEO Anand Sanwal. “It has been gratifying to see that CB Insights’ data-driven approach to identifying the top AI companies using patents, customer traction, investor quality, market sizing and more has become so effective at picking the AI winners of tomorrow. We look forward to seeing what the 2020 AI 100 companies will accomplish over the course of this year and beyond.”\\n\\nTo learn more on how SentinelOne uses AI to detect and autonomously respond to malicious behavior immediately, offering prevention of attacks, detection, and most importantly machine speed responses such as on-device remediation and rollback, please visit: www.sentinelone.com.\\n\\n\\nAbout SentinelOne\\nSentinelOne is the only cybersecurity solution encompassing AI-powered prevention, detection, response and hunting across endpoints, containers, cloud workloads, and IoT devices in a single autonomous platform. With SentinelOne, organizations gain full transparency into everything happening across the network at machine speed – to defeat every attack, at every stage of the threat lifecycle. To learn more visit www.sentinelone.com or follow us at @SentinelOne, on LinkedIn or Facebook.\\n\\n\\nAbout CB Insights\\nCB Insights helps the world’s leading companies accelerate their digital strategy and transformation efforts with data, not opinion. Our Emerging Tech Insights Platform provides companies with actionable insights and tools to discover and manage their response to emerging technology and startups. To learn more, please visit www.cbinsights.com.\\n\\n\\nContacts \\n\\nMaryellen Sartori\\nfama PR for SentinelOne\\nS1@famapr.com\\n\\nContinue Reading\\nPrevious CORRECTING and REPLACING: ATIS Workshop on Synchronization and Timing Systems Agenda Highlights the Growing Need for Precise Timing and Synchronization Technologies Across Multiple IndustriesNext HZO Affirms Commitment to Quality with ISO 9001 Certification at New Global Headquarters\\n \\nSearch for:\\n\\nCategoriesCategories\\nSelect Category\\n360\\n5G\\nAccessories\\nApps\\nArt\\nArticle\\narticles\\nAudio\\nAutism\\nAuto\\nAutomotive\\nAutonomous Driving\\nAutonomous Vehicles\\nBlu-Ray\\nBook\\nBusiness\\nCamera\\nCar Tech\\nCES\\nCES Asia\\nCharging\\nChildren\\nConsum...</td>\n",
       "      <td>8</td>\n",
       "    </tr>\n",
       "    <tr>\n",
       "      <th>1</th>\n",
       "      <td>\\n\\nPowerVision Hatching New All-In-One PowerEgg X Autonomous Personal AI Camera at CES 2020 | | Broadcast Newsroom\\n \\n\\nSkip to content\\nBroadcast Newsroom\\n\\nNews &amp; Information for Broadcast Professionals\\n\\nPrimary Menu\\n\\nSearch for:\\n \\nHome2020January3PowerVision Hatching New All-In-One PowerEgg X Autonomous Personal AI Camera at CES 2020 \\n\\n \\n\\n \\n                                 News\\n                             \\n \\nPowerVision Hatching New All-In-One PowerEgg X Autonomous Personal AI Camera at CES 2020\\n\\n\\nBy\\n\\n                BN Staff            \\n\\n\\n            1 day ago        \\nCreates a New Category of All-In-One Autonomous Personal AI Camera.\\n\\n\\nProduct Combines Drone Technology, HD Camera Technology, and Artificial Intelligence (AI) Technology for the Ultimate Drone Experience\\n\\n\\nDevelopment of the PowerEgg X Took Three Years, Over 300 Engineers and Covers Over 100 Technology Patents\\n\\n\\nSAN MATEO, Calif.–(BUSINESS WIRE)–#ArtificialIntelligence–PowerVision Robot Corporation, a global leader in smart drones, artificial intelligence, virtual reality, and augmented reality, is launching its newest product, the PowerEgg X, at CES 2020. The multi-function device can be used as an autonomous personal AI camera, as a handheld 3-axis AI camera, also a high-performance drone. In launching the PowerEgg X, PowerVision has created an entirely new product classification, the all-in-one autonomous personal AI camera category.\\nEditor Note: Power Vision will exhibit at The International Consumer Electronics Show which runs from January 7-10, 2020, at the Las Vegas Convention Center in the South Hall, booth #26415.\\n\\n\\nThe instant-sharing PowerEgg X fills consumers’ demand for an all-in-one, smarter, easier-to-use, versatile, portable, cost-effective camera that, oh by the way, can also fly. It is equipped with a 4k/60fps HD camcorder with a three-axis gimbal. It produces professional quality images, whether it is used as an AI camera, handheld gimbal camera or a drone. All of this, in an IPX6 rated waterproof case that will be demonstrated at CES 2020 in our drone cage with a waterfall.\\n\\n\\n“‘Innovate the Future’ is our mission and innovation is in our DNA,” said Wally Zheng, Founder and CEO of PowerVision. “Three years in development, PowerEgg X pulls together the technology consumers are seeking and puts it in a small, elegant egg shape. With smart-image recognition tracking, image mechanical stabilization, and simple video-editing tools, it is easy for anyone to shoot material as if they were a professional-grade videographer. By creating a multi-purpose device, PowerVision has reduced the user’s total purchase cost, storage requirement, increased ease-of-use, and giving the user unprecedented convenience.”\\n\\n\\nAutonomous Personal AI Camera Mode\\n\\n\\nWith the help of its powerful proprietary AI algorithm and robotics technology capabilities, the PowerEgg X enables facial recognition, deep learning, and a tracking field of view up to 170°. Subjects will always be in the middle of the video frame, even if the subject is playing sports, dancing, or running.\\n\\n\\nA unique spotlight feature automatically remembers a subject, allowing the PowerEgg X to track it, even if the subject moves in and out of the field of view. It also allows users to take a photo, record video, track movements, and capture a group photo by merely making gestures that are based on a deep-learning massive gesture database.\\n\\n\\nHandheld Gimbal Camera Mode\\n\\n\\nWhen switched into the handheld mode, the PowerEgg X captures all of life’s beautiful moments – anytime, anywhere – using its three-axis mechanical-stability augmentation gimbal and Autonomous Personal AI camera. It has a battery life of 3.5 hours and produces 4K/60fps UHD images while its three-axis gimbal helps resist vibration caused by external factors. PowerEgg X’s anti-shake feature outperforms optical image stabilization used in ordinary photography, guaranteeing superior, high-quality pictures.\\n\\n\\nDrone Mode\\n\\n\\nThe PowerEgg X is a high-performance drone equipped with a 4K/60fps camera and tri-axial mechanical stability augmentation technologies, and it can be used for highly dynamic aerial photography. It is capable of flying in winds of up to 29-38 knots. It comes with waterproof accessories (waterproof case and landing float) that enable it to take off from and land on water, which is a first of its kind in the industry. It also performs well in heavy rain and other scenarios, such as aquatic events and at-sea rescue operations.\\n\\nThe PowerVision PowerEgg X is the world’s first consumer drone that can pick up sound. Its proprietary SyncVoice technology allows users to narrate in real-time by using their mobile phone’s microphone or a wireless earphone. The narration is then automatically synchronized with pictures, effectively ending silent-aerial photography. It works for up to 30 minutes in drone mode and features automatic obstacle avoidance...</td>\n",
       "      <td>7</td>\n",
       "    </tr>\n",
       "    <tr>\n",
       "      <th>2</th>\n",
       "      <td>Clearview AI broke Canadian privacy law: watchdogs\\n\\n</td>\n",
       "      <td>7</td>\n",
       "    </tr>\n",
       "    <tr>\n",
       "      <th>3</th>\n",
       "      <td>Canada's crawl toward AI legal reform\\n\\n</td>\n",
       "      <td>6</td>\n",
       "    </tr>\n",
       "    <tr>\n",
       "      <th>4</th>\n",
       "      <td>\\n\\nKneron Named to the 2020 CB Insights AI 100 List of Most Innovative Artificial Intelligence Startups | | Consumer Electronics Net\\n\\n \\nSkip to content\\n\\nConsumer Electronics Net\\n\\nPrimary Menu\\n\\nConsumer Electronics Net\\n\\nSearch for:\\n \\nHomeNewsKneron Named to the 2020 CB Insights AI 100 List of Most Innovative Artificial Intelligence Startups \\n \\n                                 News\\n                             \\n \\nKneron Named to the 2020 CB Insights AI 100 List of Most Innovative Artificial Intelligence Startups\\n                    8 hours ago            \\n \\n\\nInnovation leader honored for achievements in the on-device edge AI industry\\n\\nNEW YORK–(BUSINESS WIRE)–Kneron, Inc., a leading on-device edge artificial intelligence (AI) company based in San Diego, California, was named by CB Insights to the fourth annual AI 100 ranking, showcasing the 100 most promising private AI companies in the world.\\n“To be listed on the AI 100 is an honor,” stated Albert Liu, Kneron’s Cofounder and CEO. “It represents our determination to expand AI inferencing from the cloud to the edge so that private user data can be more secure, and edge AI devices and applications can be more ubiquitous in our everyday lives. We’re excited and inspired to see our work being recognized by CB Insights.”\\n\\n\\nKneron’s on-device edge AI solutions include AI chips and AI software models that enhance smart devices with AI functions without the constant need to be connected to a cloud-based AI service because the AI inferencing happens where the data is collected. This greatly reduces the bandwidth needed to share vast amounts of private user data to be computed and stored in cloud servers and the possibility that the data can be compromised, leaked, or hacked.\\n\\n\\nWith real solutions being employed by partners in the market already, Kneron is pioneering the growth of the on-device edge AI industry.\\n\\n\\n“It’s been remarkable to see the success of the companies named to the Artificial Intelligence 100 over the last four years. The 2019 AI 100 saw 48 companies go on to raise $4.9B of additional financing and nine got acquired,” said CB Insights CEO Anand Sanwal. “It has been gratifying to see that CB Insights’ data-driven approach to identifying the top AI companies using patents, customer traction, investor quality, market sizing and more has become so effective at picking the AI winners of tomorrow. We look forward to seeing what the 2020 AI 100 companies will accomplish over the course of this year and beyond.”\\n\\n\\nThrough an evidence-based approach, the CB Insights research team selected the AI 100 from nearly 5,000 companies based on several factors including patent activity, investor quality, news sentiment analysis, proprietary Mosaic scores, market potential, partnerships, competitive landscape, team strength, and tech novelty. The Mosaic Score, based on CB Insights’ algorithm, measures the overall health and growth potential of private companies to help predict a company’s momentum.\\n\\n\\nAbout Kneron\\n\\nKneron, established in San Diego in 2015, is a leading provider of on-device edge AI solutions. It is dedicated to the design and development of integrated software and hardware solutions for the smart home, smart surveillance, smartphones, personal computers, robots, drones, and other IoT devices. Their products include AI chips and AI models that accelerate on-device AI inferencing that enhance privacy and security. Kneron’s mission is to enable AI everywhere through their reconfigurable solutions that allows efficient processing of image and audio AI models of the present and future, and making affordable the adoption of on-device edge AI. Kneron’s investors include Horizons Ventures, Qualcomm, Sequoia Capital, and more. To date, Kneron has received financing of US$73 million. For more information about Kneron, please visit www.kneron.com.\\n\\n\\nAbout CB Insights\\n\\n\\nCB Insights helps the world’s leading companies accelerate their digital strategy and transformation efforts with data, not opinion. Our Emerging Tech Insights Platform provides companies with actionable insights and tools to discover and manage their response to emerging technology and startups. To learn more, please visit www.cbinsights.com.\\n\\n\\nContacts \\n\\nJason Zheng\\njason.zheng@kneron.us\\n\\n\\nCB Insights\\nawards@cbinsights.com\\n\\nContinue Reading\\nPrevious Keysight Technologies Hosts 2020 Investor DayNext CORRECTING and REPLACING: ATIS Workshop on Synchronization and Timing Systems Agenda Highlights the Growing Need for Precise Timing and Synchronization Technologies Across Multiple Industries\\n \\nSearch for:\\n\\nCategoriesCategories\\nSelect Category\\n360\\n5G\\nAccessories\\nApps\\nArt\\nArticle\\narticles\\nAudio\\nAutism\\nAuto\\nAutomotive\\nAutonomous Driving\\nAutonomous Vehicles\\nBlu-Ray\\nBook\\nBusiness\\nCamera\\nCar Tech\\nCES\\nCES Asia\\nCharging\\nChildren\\nConsumer Electronics\\nContracts\\nCounterfeit Goods\\nCybersecurity\\nDashCam\\nData Recovery\\...</td>\n",
       "      <td>6</td>\n",
       "    </tr>\n",
       "  </tbody>\n",
       "</table>\n",
       "</div>"
      ],
      "text/plain": [
       "                                                                                                                                                                                                                                                                                                                                                                                                                                                                                                                                                                                                                                                                                                                                                                                                                                                                                                                                                                                                                                                                                                                                                                                                                                                                                                                                                                                                                                                                                                                                                                                                                                                                                                                                                                                                                                                                                                                                                                                                                                                                                                                                                                                                                                                                                                                                                                                                                                                                                                                                                                                                                                                                                                                                                                                                                                                                                                                                                                                                                                                                                                                                                                                                                                                                                                                                                                                                                                                                                                                                                                                                                                                                                                                                                                                                                                                                                                                                                                                                                                                                                                                                                                                                                                                                                                                                                                                                                                                                                                                                                                                                                                                                                                                                                                                                                                                                                                                                                                                                                                                                                                                                                                                                      text   \n",
       "0  \\n\\nSentinelOne Named to the 2020 CB Insights AI 100 List | | Consumer Electronics Net\\n\\n \\nSkip to content\\n\\nConsumer Electronics Net\\n\\nPrimary Menu\\n\\nConsumer Electronics Net\\n\\nSearch for:\\n \\nHomeNewsSentinelOne Named to the 2020 CB Insights AI 100 List \\n \\n                                 News\\n                             \\n \\nSentinelOne Named to the 2020 CB Insights AI 100 List\\n                    8 hours ago            \\n \\n\\nOnly Endpoint Security Company Recognized as One of the Most Innovative Artificial Intelligence Startups\\n\\nMOUNTAIN VIEW, Calif.–(BUSINESS WIRE)–SentinelOne, the autonomous cybersecurity platform company, today announced the company was named to the fourth annual CB Insights AI 100 ranking, showcasing the 100 most promising private artificial intelligence companies in the world. SentinelOne is one of ten companies on this year’s list valued at over $1 billion and is the only endpoint security company included.\\nSentinelOne is the only cybersecurity solution that encompasses prevention, detection, and response capabilities across endpoints, containers, cloud workloads, and IoT devices in a single, completely autonomous platform — using patented behavioral and static AI models to deliver autonomous capabilities with the lowest performance impact. With SentinelOne, organizations gain full transparency into everything that is happening across the network at machine speed — to defeat every attack, at every stage of the threat lifecycle — replacing traditional antivirus solutions.\\n\\n\\n“Our use of AI and machine learning is revolutionizing enterprise security,” said Raj Rajamani, Chief Product Officer, SentinelOne. “We were one of the first products to introduce a pure AI based malware detection engine that doesn’t rely on a signature database. Our AI processes enormous amounts of data in real time to detect anomalous activity autonomously. Deployed in the world’s largest enterprises, SentinelOne brings unparalleled prevention and detection coupled with autonomous responses across all attack surfaces – made possible by our patented AI models.”\\n\\n\\nThe CB Insights research team selected the 2020 AI 100 from nearly 5,000 companies based on several factors including patent activity, investor quality, news sentiment analysis, proprietary Mosaic scores, market potential, partnerships, competitive landscape, team strength, and tech novelty. The 2020 AI 100 companies span the globe, from the US, UK, China, Chile, and South Africa, and are supported by more than 600 investors.\\n\\n\\n“It’s been remarkable to see the success of the companies named to the Artificial Intelligence 100 over the last four years. The 2019 AI 100 saw 48 companies go on to raise $4.9B of additional financing and nine got acquired,” said CB Insights CEO Anand Sanwal. “It has been gratifying to see that CB Insights’ data-driven approach to identifying the top AI companies using patents, customer traction, investor quality, market sizing and more has become so effective at picking the AI winners of tomorrow. We look forward to seeing what the 2020 AI 100 companies will accomplish over the course of this year and beyond.”\\n\\nTo learn more on how SentinelOne uses AI to detect and autonomously respond to malicious behavior immediately, offering prevention of attacks, detection, and most importantly machine speed responses such as on-device remediation and rollback, please visit: www.sentinelone.com.\\n\\n\\nAbout SentinelOne\\nSentinelOne is the only cybersecurity solution encompassing AI-powered prevention, detection, response and hunting across endpoints, containers, cloud workloads, and IoT devices in a single autonomous platform. With SentinelOne, organizations gain full transparency into everything happening across the network at machine speed – to defeat every attack, at every stage of the threat lifecycle. To learn more visit www.sentinelone.com or follow us at @SentinelOne, on LinkedIn or Facebook.\\n\\n\\nAbout CB Insights\\nCB Insights helps the world’s leading companies accelerate their digital strategy and transformation efforts with data, not opinion. Our Emerging Tech Insights Platform provides companies with actionable insights and tools to discover and manage their response to emerging technology and startups. To learn more, please visit www.cbinsights.com.\\n\\n\\nContacts \\n\\nMaryellen Sartori\\nfama PR for SentinelOne\\nS1@famapr.com\\n\\nContinue Reading\\nPrevious CORRECTING and REPLACING: ATIS Workshop on Synchronization and Timing Systems Agenda Highlights the Growing Need for Precise Timing and Synchronization Technologies Across Multiple IndustriesNext HZO Affirms Commitment to Quality with ISO 9001 Certification at New Global Headquarters\\n \\nSearch for:\\n\\nCategoriesCategories\\nSelect Category\\n360\\n5G\\nAccessories\\nApps\\nArt\\nArticle\\narticles\\nAudio\\nAutism\\nAuto\\nAutomotive\\nAutonomous Driving\\nAutonomous Vehicles\\nBlu-Ray\\nBook\\nBusiness\\nCamera\\nCar Tech\\nCES\\nCES Asia\\nCharging\\nChildren\\nConsum...  \\\n",
       "1  \\n\\nPowerVision Hatching New All-In-One PowerEgg X Autonomous Personal AI Camera at CES 2020 | | Broadcast Newsroom\\n \\n\\nSkip to content\\nBroadcast Newsroom\\n\\nNews & Information for Broadcast Professionals\\n\\nPrimary Menu\\n\\nSearch for:\\n \\nHome2020January3PowerVision Hatching New All-In-One PowerEgg X Autonomous Personal AI Camera at CES 2020 \\n\\n \\n\\n \\n                                 News\\n                             \\n \\nPowerVision Hatching New All-In-One PowerEgg X Autonomous Personal AI Camera at CES 2020\\n\\n\\nBy\\n\\n                BN Staff            \\n\\n\\n            1 day ago        \\nCreates a New Category of All-In-One Autonomous Personal AI Camera.\\n\\n\\nProduct Combines Drone Technology, HD Camera Technology, and Artificial Intelligence (AI) Technology for the Ultimate Drone Experience\\n\\n\\nDevelopment of the PowerEgg X Took Three Years, Over 300 Engineers and Covers Over 100 Technology Patents\\n\\n\\nSAN MATEO, Calif.–(BUSINESS WIRE)–#ArtificialIntelligence–PowerVision Robot Corporation, a global leader in smart drones, artificial intelligence, virtual reality, and augmented reality, is launching its newest product, the PowerEgg X, at CES 2020. The multi-function device can be used as an autonomous personal AI camera, as a handheld 3-axis AI camera, also a high-performance drone. In launching the PowerEgg X, PowerVision has created an entirely new product classification, the all-in-one autonomous personal AI camera category.\\nEditor Note: Power Vision will exhibit at The International Consumer Electronics Show which runs from January 7-10, 2020, at the Las Vegas Convention Center in the South Hall, booth #26415.\\n\\n\\nThe instant-sharing PowerEgg X fills consumers’ demand for an all-in-one, smarter, easier-to-use, versatile, portable, cost-effective camera that, oh by the way, can also fly. It is equipped with a 4k/60fps HD camcorder with a three-axis gimbal. It produces professional quality images, whether it is used as an AI camera, handheld gimbal camera or a drone. All of this, in an IPX6 rated waterproof case that will be demonstrated at CES 2020 in our drone cage with a waterfall.\\n\\n\\n“‘Innovate the Future’ is our mission and innovation is in our DNA,” said Wally Zheng, Founder and CEO of PowerVision. “Three years in development, PowerEgg X pulls together the technology consumers are seeking and puts it in a small, elegant egg shape. With smart-image recognition tracking, image mechanical stabilization, and simple video-editing tools, it is easy for anyone to shoot material as if they were a professional-grade videographer. By creating a multi-purpose device, PowerVision has reduced the user’s total purchase cost, storage requirement, increased ease-of-use, and giving the user unprecedented convenience.”\\n\\n\\nAutonomous Personal AI Camera Mode\\n\\n\\nWith the help of its powerful proprietary AI algorithm and robotics technology capabilities, the PowerEgg X enables facial recognition, deep learning, and a tracking field of view up to 170°. Subjects will always be in the middle of the video frame, even if the subject is playing sports, dancing, or running.\\n\\n\\nA unique spotlight feature automatically remembers a subject, allowing the PowerEgg X to track it, even if the subject moves in and out of the field of view. It also allows users to take a photo, record video, track movements, and capture a group photo by merely making gestures that are based on a deep-learning massive gesture database.\\n\\n\\nHandheld Gimbal Camera Mode\\n\\n\\nWhen switched into the handheld mode, the PowerEgg X captures all of life’s beautiful moments – anytime, anywhere – using its three-axis mechanical-stability augmentation gimbal and Autonomous Personal AI camera. It has a battery life of 3.5 hours and produces 4K/60fps UHD images while its three-axis gimbal helps resist vibration caused by external factors. PowerEgg X’s anti-shake feature outperforms optical image stabilization used in ordinary photography, guaranteeing superior, high-quality pictures.\\n\\n\\nDrone Mode\\n\\n\\nThe PowerEgg X is a high-performance drone equipped with a 4K/60fps camera and tri-axial mechanical stability augmentation technologies, and it can be used for highly dynamic aerial photography. It is capable of flying in winds of up to 29-38 knots. It comes with waterproof accessories (waterproof case and landing float) that enable it to take off from and land on water, which is a first of its kind in the industry. It also performs well in heavy rain and other scenarios, such as aquatic events and at-sea rescue operations.\\n\\nThe PowerVision PowerEgg X is the world’s first consumer drone that can pick up sound. Its proprietary SyncVoice technology allows users to narrate in real-time by using their mobile phone’s microphone or a wireless earphone. The narration is then automatically synchronized with pictures, effectively ending silent-aerial photography. It works for up to 30 minutes in drone mode and features automatic obstacle avoidance...   \n",
       "2                                                                                                                                                                                                                                                                                                                                                                                                                                                                                                                                                                                                                                                                                                                                                                                                                                                                                                                                                                                                                                                                                                                                                                                                                                                                                                                                                                                                                                                                                                                                                                                                                                                                                                                                                                                                                                                                                                                                                                                                                                                                                                                                                                                                                                                                                                                                                                                                                                                                                                                                                                                                                                                                                                                                                                                                                                                                                                                                                                                                                                                                                                                                                                                                                                                                                                                                                                                                                                                                                                                                                                                                                                                                                                                                                                                                                                                                                                                                                                                                                                                                                                                                                                                                                                                                                                                                                                                                                                                                                                                                                                                                                                                                                                                                                                                                                                                                                                                                                                                                                                                                                                                                                   Clearview AI broke Canadian privacy law: watchdogs\\n\\n   \n",
       "3                                                                                                                                                                                                                                                                                                                                                                                                                                                                                                                                                                                                                                                                                                                                                                                                                                                                                                                                                                                                                                                                                                                                                                                                                                                                                                                                                                                                                                                                                                                                                                                                                                                                                                                                                                                                                                                                                                                                                                                                                                                                                                                                                                                                                                                                                                                                                                                                                                                                                                                                                                                                                                                                                                                                                                                                                                                                                                                                                                                                                                                                                                                                                                                                                                                                                                                                                                                                                                                                                                                                                                                                                                                                                                                                                                                                                                                                                                                                                                                                                                                                                                                                                                                                                                                                                                                                                                                                                                                                                                                                                                                                                                                                                                                                                                                                                                                                                                                                                                                                                                                                                                                                                                Canada's crawl toward AI legal reform\\n\\n   \n",
       "4  \\n\\nKneron Named to the 2020 CB Insights AI 100 List of Most Innovative Artificial Intelligence Startups | | Consumer Electronics Net\\n\\n \\nSkip to content\\n\\nConsumer Electronics Net\\n\\nPrimary Menu\\n\\nConsumer Electronics Net\\n\\nSearch for:\\n \\nHomeNewsKneron Named to the 2020 CB Insights AI 100 List of Most Innovative Artificial Intelligence Startups \\n \\n                                 News\\n                             \\n \\nKneron Named to the 2020 CB Insights AI 100 List of Most Innovative Artificial Intelligence Startups\\n                    8 hours ago            \\n \\n\\nInnovation leader honored for achievements in the on-device edge AI industry\\n\\nNEW YORK–(BUSINESS WIRE)–Kneron, Inc., a leading on-device edge artificial intelligence (AI) company based in San Diego, California, was named by CB Insights to the fourth annual AI 100 ranking, showcasing the 100 most promising private AI companies in the world.\\n“To be listed on the AI 100 is an honor,” stated Albert Liu, Kneron’s Cofounder and CEO. “It represents our determination to expand AI inferencing from the cloud to the edge so that private user data can be more secure, and edge AI devices and applications can be more ubiquitous in our everyday lives. We’re excited and inspired to see our work being recognized by CB Insights.”\\n\\n\\nKneron’s on-device edge AI solutions include AI chips and AI software models that enhance smart devices with AI functions without the constant need to be connected to a cloud-based AI service because the AI inferencing happens where the data is collected. This greatly reduces the bandwidth needed to share vast amounts of private user data to be computed and stored in cloud servers and the possibility that the data can be compromised, leaked, or hacked.\\n\\n\\nWith real solutions being employed by partners in the market already, Kneron is pioneering the growth of the on-device edge AI industry.\\n\\n\\n“It’s been remarkable to see the success of the companies named to the Artificial Intelligence 100 over the last four years. The 2019 AI 100 saw 48 companies go on to raise $4.9B of additional financing and nine got acquired,” said CB Insights CEO Anand Sanwal. “It has been gratifying to see that CB Insights’ data-driven approach to identifying the top AI companies using patents, customer traction, investor quality, market sizing and more has become so effective at picking the AI winners of tomorrow. We look forward to seeing what the 2020 AI 100 companies will accomplish over the course of this year and beyond.”\\n\\n\\nThrough an evidence-based approach, the CB Insights research team selected the AI 100 from nearly 5,000 companies based on several factors including patent activity, investor quality, news sentiment analysis, proprietary Mosaic scores, market potential, partnerships, competitive landscape, team strength, and tech novelty. The Mosaic Score, based on CB Insights’ algorithm, measures the overall health and growth potential of private companies to help predict a company’s momentum.\\n\\n\\nAbout Kneron\\n\\nKneron, established in San Diego in 2015, is a leading provider of on-device edge AI solutions. It is dedicated to the design and development of integrated software and hardware solutions for the smart home, smart surveillance, smartphones, personal computers, robots, drones, and other IoT devices. Their products include AI chips and AI models that accelerate on-device AI inferencing that enhance privacy and security. Kneron’s mission is to enable AI everywhere through their reconfigurable solutions that allows efficient processing of image and audio AI models of the present and future, and making affordable the adoption of on-device edge AI. Kneron’s investors include Horizons Ventures, Qualcomm, Sequoia Capital, and more. To date, Kneron has received financing of US$73 million. For more information about Kneron, please visit www.kneron.com.\\n\\n\\nAbout CB Insights\\n\\n\\nCB Insights helps the world’s leading companies accelerate their digital strategy and transformation efforts with data, not opinion. Our Emerging Tech Insights Platform provides companies with actionable insights and tools to discover and manage their response to emerging technology and startups. To learn more, please visit www.cbinsights.com.\\n\\n\\nContacts \\n\\nJason Zheng\\njason.zheng@kneron.us\\n\\n\\nCB Insights\\nawards@cbinsights.com\\n\\nContinue Reading\\nPrevious Keysight Technologies Hosts 2020 Investor DayNext CORRECTING and REPLACING: ATIS Workshop on Synchronization and Timing Systems Agenda Highlights the Growing Need for Precise Timing and Synchronization Technologies Across Multiple Industries\\n \\nSearch for:\\n\\nCategoriesCategories\\nSelect Category\\n360\\n5G\\nAccessories\\nApps\\nArt\\nArticle\\narticles\\nAudio\\nAutism\\nAuto\\nAutomotive\\nAutonomous Driving\\nAutonomous Vehicles\\nBlu-Ray\\nBook\\nBusiness\\nCamera\\nCar Tech\\nCES\\nCES Asia\\nCharging\\nChildren\\nConsumer Electronics\\nContracts\\nCounterfeit Goods\\nCybersecurity\\nDashCam\\nData Recovery\\...   \n",
       "\n",
       "   count  \n",
       "0      8  \n",
       "1      7  \n",
       "2      7  \n",
       "3      6  \n",
       "4      6  "
      ]
     },
     "execution_count": 20,
     "metadata": {},
     "output_type": "execute_result"
    }
   ],
   "source": [
    "text_counts = df_news_final_project['text'].value_counts()\n",
    "top_counts = text_counts[text_counts > 1]\n",
    "\n",
    "rows_with_counts_text = pd.DataFrame({'text': top_counts.index, 'count': top_counts.values})\n",
    "\n",
    "rows_with_counts_text.head()"
   ]
  },
  {
   "cell_type": "code",
   "execution_count": 21,
   "id": "17499abc-f0b1-408a-9940-031ad25437be",
   "metadata": {
    "tags": []
   },
   "outputs": [
    {
     "data": {
      "text/html": [
       "<div>\n",
       "<style scoped>\n",
       "    .dataframe tbody tr th:only-of-type {\n",
       "        vertical-align: middle;\n",
       "    }\n",
       "\n",
       "    .dataframe tbody tr th {\n",
       "        vertical-align: top;\n",
       "    }\n",
       "\n",
       "    .dataframe thead th {\n",
       "        text-align: right;\n",
       "    }\n",
       "</style>\n",
       "<table border=\"1\" class=\"dataframe\">\n",
       "  <thead>\n",
       "    <tr style=\"text-align: right;\">\n",
       "      <th></th>\n",
       "      <th>url</th>\n",
       "      <th>date</th>\n",
       "      <th>language</th>\n",
       "      <th>title</th>\n",
       "      <th>text</th>\n",
       "      <th>website</th>\n",
       "    </tr>\n",
       "  </thead>\n",
       "  <tbody>\n",
       "    <tr>\n",
       "      <th>9968</th>\n",
       "      <td>https://www.theifp.ca/news-story/10322836-clearview-ai-broke-canadian-privacy-law-watchdogs/</td>\n",
       "      <td>2021-02-03</td>\n",
       "      <td>en</td>\n",
       "      <td>Clearview AI broke Canadian privacy law: watchdogs</td>\n",
       "      <td>Clearview AI broke Canadian privacy law: watchdogs\\n\\n</td>\n",
       "      <td>https://www.theifp.ca/</td>\n",
       "    </tr>\n",
       "    <tr>\n",
       "      <th>30735</th>\n",
       "      <td>https://www.bramptonguardian.com/news-story/10322836-clearview-ai-broke-canadian-privacy-law-watchdogs/</td>\n",
       "      <td>2021-02-03</td>\n",
       "      <td>en</td>\n",
       "      <td>Clearview AI broke Canadian privacy law: watchdogs</td>\n",
       "      <td>Clearview AI broke Canadian privacy law: watchdogs\\n\\n</td>\n",
       "      <td>https://www.bramptonguardian.com/</td>\n",
       "    </tr>\n",
       "    <tr>\n",
       "      <th>61356</th>\n",
       "      <td>https://www.simcoe.com/news-story/10322836-clearview-ai-broke-canadian-privacy-law-watchdogs/</td>\n",
       "      <td>2021-02-03</td>\n",
       "      <td>en</td>\n",
       "      <td>Clearview AI broke Canadian privacy law: watchdogs</td>\n",
       "      <td>Clearview AI broke Canadian privacy law: watchdogs\\n\\n</td>\n",
       "      <td>https://www.simcoe.com/</td>\n",
       "    </tr>\n",
       "    <tr>\n",
       "      <th>81267</th>\n",
       "      <td>https://www.newhamburgindependent.ca/news-story/10322836-clearview-ai-broke-canadian-privacy-law-watchdogs/</td>\n",
       "      <td>2021-02-03</td>\n",
       "      <td>en</td>\n",
       "      <td>Clearview AI broke Canadian privacy law: watchdogs</td>\n",
       "      <td>Clearview AI broke Canadian privacy law: watchdogs\\n\\n</td>\n",
       "      <td>https://www.newhamburgindependent.ca/</td>\n",
       "    </tr>\n",
       "    <tr>\n",
       "      <th>123985</th>\n",
       "      <td>https://www.parrysound.com/news-story/10322836-clearview-ai-broke-canadian-privacy-law-watchdogs/</td>\n",
       "      <td>2021-02-03</td>\n",
       "      <td>en</td>\n",
       "      <td>Clearview AI broke Canadian privacy law: watchdogs</td>\n",
       "      <td>Clearview AI broke Canadian privacy law: watchdogs\\n\\n</td>\n",
       "      <td>https://www.parrysound.com/</td>\n",
       "    </tr>\n",
       "    <tr>\n",
       "      <th>135745</th>\n",
       "      <td>https://www.cambridgetimes.ca/news-story/10322836-clearview-ai-broke-canadian-privacy-law-watchdogs/</td>\n",
       "      <td>2021-02-03</td>\n",
       "      <td>en</td>\n",
       "      <td>Clearview AI broke Canadian privacy law: watchdogs</td>\n",
       "      <td>Clearview AI broke Canadian privacy law: watchdogs\\n\\n</td>\n",
       "      <td>https://www.cambridgetimes.ca/</td>\n",
       "    </tr>\n",
       "    <tr>\n",
       "      <th>177169</th>\n",
       "      <td>https://www.guelphmercury.com/news-story/10322836-clearview-ai-broke-canadian-privacy-law-watchdogs/</td>\n",
       "      <td>2021-02-03</td>\n",
       "      <td>en</td>\n",
       "      <td>Clearview AI broke Canadian privacy law: watchdogs</td>\n",
       "      <td>Clearview AI broke Canadian privacy law: watchdogs\\n\\n</td>\n",
       "      <td>https://www.guelphmercury.com/</td>\n",
       "    </tr>\n",
       "  </tbody>\n",
       "</table>\n",
       "</div>"
      ],
      "text/plain": [
       "                                                                                                                url   \n",
       "9968                   https://www.theifp.ca/news-story/10322836-clearview-ai-broke-canadian-privacy-law-watchdogs/  \\\n",
       "30735       https://www.bramptonguardian.com/news-story/10322836-clearview-ai-broke-canadian-privacy-law-watchdogs/   \n",
       "61356                 https://www.simcoe.com/news-story/10322836-clearview-ai-broke-canadian-privacy-law-watchdogs/   \n",
       "81267   https://www.newhamburgindependent.ca/news-story/10322836-clearview-ai-broke-canadian-privacy-law-watchdogs/   \n",
       "123985            https://www.parrysound.com/news-story/10322836-clearview-ai-broke-canadian-privacy-law-watchdogs/   \n",
       "135745         https://www.cambridgetimes.ca/news-story/10322836-clearview-ai-broke-canadian-privacy-law-watchdogs/   \n",
       "177169         https://www.guelphmercury.com/news-story/10322836-clearview-ai-broke-canadian-privacy-law-watchdogs/   \n",
       "\n",
       "             date language   \n",
       "9968   2021-02-03       en  \\\n",
       "30735  2021-02-03       en   \n",
       "61356  2021-02-03       en   \n",
       "81267  2021-02-03       en   \n",
       "123985 2021-02-03       en   \n",
       "135745 2021-02-03       en   \n",
       "177169 2021-02-03       en   \n",
       "\n",
       "                                                     title   \n",
       "9968    Clearview AI broke Canadian privacy law: watchdogs  \\\n",
       "30735   Clearview AI broke Canadian privacy law: watchdogs   \n",
       "61356   Clearview AI broke Canadian privacy law: watchdogs   \n",
       "81267   Clearview AI broke Canadian privacy law: watchdogs   \n",
       "123985  Clearview AI broke Canadian privacy law: watchdogs   \n",
       "135745  Clearview AI broke Canadian privacy law: watchdogs   \n",
       "177169  Clearview AI broke Canadian privacy law: watchdogs   \n",
       "\n",
       "                                                          text   \n",
       "9968    Clearview AI broke Canadian privacy law: watchdogs\\n\\n  \\\n",
       "30735   Clearview AI broke Canadian privacy law: watchdogs\\n\\n   \n",
       "61356   Clearview AI broke Canadian privacy law: watchdogs\\n\\n   \n",
       "81267   Clearview AI broke Canadian privacy law: watchdogs\\n\\n   \n",
       "123985  Clearview AI broke Canadian privacy law: watchdogs\\n\\n   \n",
       "135745  Clearview AI broke Canadian privacy law: watchdogs\\n\\n   \n",
       "177169  Clearview AI broke Canadian privacy law: watchdogs\\n\\n   \n",
       "\n",
       "                                      website  \n",
       "9968                   https://www.theifp.ca/  \n",
       "30735       https://www.bramptonguardian.com/  \n",
       "61356                 https://www.simcoe.com/  \n",
       "81267   https://www.newhamburgindependent.ca/  \n",
       "123985            https://www.parrysound.com/  \n",
       "135745         https://www.cambridgetimes.ca/  \n",
       "177169         https://www.guelphmercury.com/  "
      ]
     },
     "execution_count": 21,
     "metadata": {},
     "output_type": "execute_result"
    }
   ],
   "source": [
    "#same news covered by different channels, must be important (maybe internationally)\n",
    "df_news_final_project[df_news_final_project['text']=='Clearview AI broke Canadian privacy law: watchdogs\\n\\n']"
   ]
  },
  {
   "cell_type": "code",
   "execution_count": 22,
   "id": "ace91347-bea7-4b68-9aff-d160a4511ba5",
   "metadata": {},
   "outputs": [
    {
     "data": {
      "text/plain": [
       "url         200332\n",
       "date          1213\n",
       "language         1\n",
       "title       140223\n",
       "text        198564\n",
       "website       6601\n",
       "dtype: int64"
      ]
     },
     "execution_count": 22,
     "metadata": {},
     "output_type": "execute_result"
    }
   ],
   "source": [
    "df_news_final_project[['url','date','language','title','text','website']].nunique()"
   ]
  },
  {
   "cell_type": "code",
   "execution_count": 23,
   "id": "3017cd52-7d97-48dd-ae9f-77ca5282cb1f",
   "metadata": {
    "tags": []
   },
   "outputs": [
    {
     "data": {
      "text/html": [
       "<div>\n",
       "<style scoped>\n",
       "    .dataframe tbody tr th:only-of-type {\n",
       "        vertical-align: middle;\n",
       "    }\n",
       "\n",
       "    .dataframe tbody tr th {\n",
       "        vertical-align: top;\n",
       "    }\n",
       "\n",
       "    .dataframe thead th {\n",
       "        text-align: right;\n",
       "    }\n",
       "</style>\n",
       "<table border=\"1\" class=\"dataframe\">\n",
       "  <thead>\n",
       "    <tr style=\"text-align: right;\">\n",
       "      <th></th>\n",
       "      <th>url</th>\n",
       "      <th>date</th>\n",
       "      <th>language</th>\n",
       "      <th>title</th>\n",
       "      <th>text</th>\n",
       "      <th>website</th>\n",
       "    </tr>\n",
       "  </thead>\n",
       "  <tbody>\n",
       "    <tr>\n",
       "      <th>0</th>\n",
       "      <td>http://en.people.cn/n3/2021/0318/c90000-9830122.html</td>\n",
       "      <td>2021-03-18</td>\n",
       "      <td>en</td>\n",
       "      <td>Artificial intelligence improves parking efficiency in Chinese cities - People's Daily Online</td>\n",
       "      <td>\\n\\nArtificial intelligence improves parking efficiency in Chinese cities - People's Daily Online\\n\\nHome\\nChina Politics\\nForeign Affairs\\nOpinions\\nVideo: We Are China\\nBusiness\\nMilitary\\nWorld\\nSociety\\nCulture\\nTravel\\nScience\\nSports\\nPhoto\\n\\nLanguages\\n\\nChinese\\nJapanese\\nFrench\\nSpanish\\nRussian\\nArabic\\nKorean\\nGerman\\nPortuguese\\nThursday, March 18, 2021\\nHome&gt;&gt;\\n\\t\\t\\nArtificial intelligence improves parking efficiency in Chinese cities\\nBy Liu Shiyao (People's Daily) 09:16, March 18, 2021\\nPhoto taken on July 1, 2019, shows a sign for electronic toll collection (ETC) newly set up at a roadside parking space on Yangzhuang road, Shijingshan district, Beijing. Some urban areas of the city started to use ETC system for roadside parking spaces since July 1, 2019. (People’s Daily Online/Li Wenming)\\n\\n\\tThanks to the application of an artificial intelligence (AI)-empowered roadside electronic toll collection (ETC) system, China’s capital city Beijing has seen significant improvement in the efficiency of parking fee collection, turnover of roadside parking spots, order in roadside parking, as well as traffic congestion.\\n\\n\\tAs the city further deepens its roadside parking reform, the ETC system has almost covered all the roadside parking spaces in the city, with the proportion of vehicles parked on roads using the system exceeding 90 percent.\\n\\n\\tWith the AI-empowered system, drivers can park their vehicles at the parking spots on the roadside, and then pay the parking charge via their mobile phones after they drive away.\\n\\n\\t“This road used to be full of cars, and even the normal lanes were occupied. You could hardly move a bit during the morning and evening commute time,” recalled a citizen surnamed Wang, who lives in Chaoyang district of Beijing.\\n\\n\\t“Since the summer of 2019, roadside ETC devices have been installed here. With all the cars being parked in designated parking spots on the roadside, the road now seems brighter and wider,” Wang said.\\n\\n\\tThe smart roadside ETC system “AIpark Sky Eye” adopted by Beijing is developed, operated, and maintained by AIpark, a Beijing-based leading smart parking solution provider.\\n\\n\\tThe company’s intelligent system has brought into full play the advantages of AI technologies and effectively addressed the shortage of parking spaces and the problem of irregular parking in cities. The system has therefore been listed among the country’s innovation projects that integrate AI deeply into the real economy in 2018 by China’s Ministry of Industry and Information Technology (MIIT).\\n\\n\\tTraditional parking management equipment and monitoring devices have failed to meet the actual needs of cities due to limited application scenarios and technical capacity. There are many deficiencies in traditional parking systems. For example, magnetic devices cannot identify detailed information about vehicles; each video monitoring pile can only cover one parking spot; and manual collection of parking fees costs too much.\\n\\n\\tSuch problems don’t exist in smart machines. The “AIpark Sky Eye” system boasts strong stability and high recognition rate. Besides, it can resist the interference of extreme weather conditions like rain, snow, and fog, and form complete graphic evidence based on wheel path of vehicles.\\n\\n\\tEach set of cameras of the “AIpark Sky Eye” system can monitor multiple parking spots at the same time for 24 hours a day. The data collected by front-end cameras are processed using multi-dimensional deep learning algorithm before they are uploaded on to an AI computing cloud platform for data enrichment. The platform then distributes identification results to transport authorities.\\n\\n\\tThe most distinctive innovation in the technological package of the system is precision brought about by high-mounted parking system cameras, according to Xiang Yanping, senior vice president of AIpark, noting that the cameras can recognize more complex static and dynamic reality scenes.\\n\\n\\t“For example, the equipment can accurately identify irregular parking behaviors and state such as double parking and frequent maneuvers, precisely recognize detailed information including plate number and vehicle color, and make good judgment on the behaviors of drivers and pedestrians,” Xiang said.\\n\\n\\tOnce the high-mounted parking system cameras are installed, they can help with many aspects of integrated urban governance, which represents another advantage of the “AIpark Sky Eye” system.\\n\\n\\tBesides managing parking fee collection, high-mounted camera system can also provide data for traffic improvements. The snapshots obtained from the camera system can help solve problems including illegal and inappropriate parking and vehicle theft.\\n\\n\\tSo far, the smart ETC system of AIpark has been introduced into more than 20 cities in China, signaling increasingly important roles of AI in improving parking efficiency and order as well as new development opportunities for smart parking indus...</td>\n",
       "      <td>http://en.people.cn/</td>\n",
       "    </tr>\n",
       "  </tbody>\n",
       "</table>\n",
       "</div>"
      ],
      "text/plain": [
       "                                                    url       date language   \n",
       "0  http://en.people.cn/n3/2021/0318/c90000-9830122.html 2021-03-18       en  \\\n",
       "\n",
       "                                                                                           title   \n",
       "0  Artificial intelligence improves parking efficiency in Chinese cities - People's Daily Online  \\\n",
       "\n",
       "                                                                                                                                                                                                                                                                                                                                                                                                                                                                                                                                                                                                                                                                                                                                                                                                                                                                                                                                                                                                                                                                                                                                                                                                                                                                                                                                                                                                                                                                                                                                                                                                                                                                                                                                                                                                                                                                                                                                                                                                                                                                                                                                                                                                                                                                                                                                                                                                                                                                                                                                                                                                                                                                                                                                                                                                                                                                                                                                                                                                                                                                                                                                                                                                                                                                                                                                                                                                                                                                                                                                                                                                                                                                                                                                                                                                                                                                                                                                                                                                                                                                                                                                                                                                                                                                                                                                                                                                                                                                                                                                                                                                                                                                                                                                                                                                                                                                                                                                                                                                                                                                                                                                                                                                      text   \n",
       "0  \\n\\nArtificial intelligence improves parking efficiency in Chinese cities - People's Daily Online\\n\\nHome\\nChina Politics\\nForeign Affairs\\nOpinions\\nVideo: We Are China\\nBusiness\\nMilitary\\nWorld\\nSociety\\nCulture\\nTravel\\nScience\\nSports\\nPhoto\\n\\nLanguages\\n\\nChinese\\nJapanese\\nFrench\\nSpanish\\nRussian\\nArabic\\nKorean\\nGerman\\nPortuguese\\nThursday, March 18, 2021\\nHome>>\\n\\t\\t\\nArtificial intelligence improves parking efficiency in Chinese cities\\nBy Liu Shiyao (People's Daily) 09:16, March 18, 2021\\nPhoto taken on July 1, 2019, shows a sign for electronic toll collection (ETC) newly set up at a roadside parking space on Yangzhuang road, Shijingshan district, Beijing. Some urban areas of the city started to use ETC system for roadside parking spaces since July 1, 2019. (People’s Daily Online/Li Wenming)\\n\\n\\tThanks to the application of an artificial intelligence (AI)-empowered roadside electronic toll collection (ETC) system, China’s capital city Beijing has seen significant improvement in the efficiency of parking fee collection, turnover of roadside parking spots, order in roadside parking, as well as traffic congestion.\\n\\n\\tAs the city further deepens its roadside parking reform, the ETC system has almost covered all the roadside parking spaces in the city, with the proportion of vehicles parked on roads using the system exceeding 90 percent.\\n\\n\\tWith the AI-empowered system, drivers can park their vehicles at the parking spots on the roadside, and then pay the parking charge via their mobile phones after they drive away.\\n\\n\\t“This road used to be full of cars, and even the normal lanes were occupied. You could hardly move a bit during the morning and evening commute time,” recalled a citizen surnamed Wang, who lives in Chaoyang district of Beijing.\\n\\n\\t“Since the summer of 2019, roadside ETC devices have been installed here. With all the cars being parked in designated parking spots on the roadside, the road now seems brighter and wider,” Wang said.\\n\\n\\tThe smart roadside ETC system “AIpark Sky Eye” adopted by Beijing is developed, operated, and maintained by AIpark, a Beijing-based leading smart parking solution provider.\\n\\n\\tThe company’s intelligent system has brought into full play the advantages of AI technologies and effectively addressed the shortage of parking spaces and the problem of irregular parking in cities. The system has therefore been listed among the country’s innovation projects that integrate AI deeply into the real economy in 2018 by China’s Ministry of Industry and Information Technology (MIIT).\\n\\n\\tTraditional parking management equipment and monitoring devices have failed to meet the actual needs of cities due to limited application scenarios and technical capacity. There are many deficiencies in traditional parking systems. For example, magnetic devices cannot identify detailed information about vehicles; each video monitoring pile can only cover one parking spot; and manual collection of parking fees costs too much.\\n\\n\\tSuch problems don’t exist in smart machines. The “AIpark Sky Eye” system boasts strong stability and high recognition rate. Besides, it can resist the interference of extreme weather conditions like rain, snow, and fog, and form complete graphic evidence based on wheel path of vehicles.\\n\\n\\tEach set of cameras of the “AIpark Sky Eye” system can monitor multiple parking spots at the same time for 24 hours a day. The data collected by front-end cameras are processed using multi-dimensional deep learning algorithm before they are uploaded on to an AI computing cloud platform for data enrichment. The platform then distributes identification results to transport authorities.\\n\\n\\tThe most distinctive innovation in the technological package of the system is precision brought about by high-mounted parking system cameras, according to Xiang Yanping, senior vice president of AIpark, noting that the cameras can recognize more complex static and dynamic reality scenes.\\n\\n\\t“For example, the equipment can accurately identify irregular parking behaviors and state such as double parking and frequent maneuvers, precisely recognize detailed information including plate number and vehicle color, and make good judgment on the behaviors of drivers and pedestrians,” Xiang said.\\n\\n\\tOnce the high-mounted parking system cameras are installed, they can help with many aspects of integrated urban governance, which represents another advantage of the “AIpark Sky Eye” system.\\n\\n\\tBesides managing parking fee collection, high-mounted camera system can also provide data for traffic improvements. The snapshots obtained from the camera system can help solve problems including illegal and inappropriate parking and vehicle theft.\\n\\n\\tSo far, the smart ETC system of AIpark has been introduced into more than 20 cities in China, signaling increasingly important roles of AI in improving parking efficiency and order as well as new development opportunities for smart parking indus...  \\\n",
       "\n",
       "                website  \n",
       "0  http://en.people.cn/  "
      ]
     },
     "execution_count": 23,
     "metadata": {},
     "output_type": "execute_result"
    }
   ],
   "source": [
    "df_news_final_project.head(1)"
   ]
  },
  {
   "cell_type": "markdown",
   "id": "59e41728-68a1-495f-9c1f-1e013fbc8ffa",
   "metadata": {},
   "source": [
    "# Data Sampling"
   ]
  },
  {
   "cell_type": "code",
   "execution_count": 24,
   "id": "e67ca922-6c8e-4903-a71f-ba340ed3af22",
   "metadata": {
    "tags": []
   },
   "outputs": [
    {
     "data": {
      "text/html": [
       "<div>\n",
       "<style scoped>\n",
       "    .dataframe tbody tr th:only-of-type {\n",
       "        vertical-align: middle;\n",
       "    }\n",
       "\n",
       "    .dataframe tbody tr th {\n",
       "        vertical-align: top;\n",
       "    }\n",
       "\n",
       "    .dataframe thead th {\n",
       "        text-align: right;\n",
       "    }\n",
       "</style>\n",
       "<table border=\"1\" class=\"dataframe\">\n",
       "  <thead>\n",
       "    <tr style=\"text-align: right;\">\n",
       "      <th></th>\n",
       "      <th>url</th>\n",
       "      <th>date</th>\n",
       "      <th>title</th>\n",
       "      <th>text</th>\n",
       "    </tr>\n",
       "  </thead>\n",
       "  <tbody>\n",
       "    <tr>\n",
       "      <th>0</th>\n",
       "      <td>http://en.people.cn/n3/2021/0318/c90000-9830122.html</td>\n",
       "      <td>2021-03-18</td>\n",
       "      <td>Artificial intelligence improves parking efficiency in Chinese cities - People's Daily Online</td>\n",
       "      <td>\\n\\nArtificial intelligence improves parking efficiency in Chinese cities - People's Daily Online\\n\\nHome\\nChina Politics\\nForeign Affairs\\nOpinions\\nVideo: We Are China\\nBusiness\\nMilitary\\nWorld\\nSociety\\nCulture\\nTravel\\nScience\\nSports\\nPhoto\\n\\nLanguages\\n\\nChinese\\nJapanese\\nFrench\\nSpanish\\nRussian\\nArabic\\nKorean\\nGerman\\nPortuguese\\nThursday, March 18, 2021\\nHome&gt;&gt;\\n\\t\\t\\nArtificial intelligence improves parking efficiency in Chinese cities\\nBy Liu Shiyao (People's Daily) 09:16, March 18, 2021\\nPhoto taken on July 1, 2019, shows a sign for electronic toll collection (ETC) newly set up at a roadside parking space on Yangzhuang road, Shijingshan district, Beijing. Some urban areas of the city started to use ETC system for roadside parking spaces since July 1, 2019. (People’s Daily Online/Li Wenming)\\n\\n\\tThanks to the application of an artificial intelligence (AI)-empowered roadside electronic toll collection (ETC) system, China’s capital city Beijing has seen significant improvement in the efficiency of parking fee collection, turnover of roadside parking spots, order in roadside parking, as well as traffic congestion.\\n\\n\\tAs the city further deepens its roadside parking reform, the ETC system has almost covered all the roadside parking spaces in the city, with the proportion of vehicles parked on roads using the system exceeding 90 percent.\\n\\n\\tWith the AI-empowered system, drivers can park their vehicles at the parking spots on the roadside, and then pay the parking charge via their mobile phones after they drive away.\\n\\n\\t“This road used to be full of cars, and even the normal lanes were occupied. You could hardly move a bit during the morning and evening commute time,” recalled a citizen surnamed Wang, who lives in Chaoyang district of Beijing.\\n\\n\\t“Since the summer of 2019, roadside ETC devices have been installed here. With all the cars being parked in designated parking spots on the roadside, the road now seems brighter and wider,” Wang said.\\n\\n\\tThe smart roadside ETC system “AIpark Sky Eye” adopted by Beijing is developed, operated, and maintained by AIpark, a Beijing-based leading smart parking solution provider.\\n\\n\\tThe company’s intelligent system has brought into full play the advantages of AI technologies and effectively addressed the shortage of parking spaces and the problem of irregular parking in cities. The system has therefore been listed among the country’s innovation projects that integrate AI deeply into the real economy in 2018 by China’s Ministry of Industry and Information Technology (MIIT).\\n\\n\\tTraditional parking management equipment and monitoring devices have failed to meet the actual needs of cities due to limited application scenarios and technical capacity. There are many deficiencies in traditional parking systems. For example, magnetic devices cannot identify detailed information about vehicles; each video monitoring pile can only cover one parking spot; and manual collection of parking fees costs too much.\\n\\n\\tSuch problems don’t exist in smart machines. The “AIpark Sky Eye” system boasts strong stability and high recognition rate. Besides, it can resist the interference of extreme weather conditions like rain, snow, and fog, and form complete graphic evidence based on wheel path of vehicles.\\n\\n\\tEach set of cameras of the “AIpark Sky Eye” system can monitor multiple parking spots at the same time for 24 hours a day. The data collected by front-end cameras are processed using multi-dimensional deep learning algorithm before they are uploaded on to an AI computing cloud platform for data enrichment. The platform then distributes identification results to transport authorities.\\n\\n\\tThe most distinctive innovation in the technological package of the system is precision brought about by high-mounted parking system cameras, according to Xiang Yanping, senior vice president of AIpark, noting that the cameras can recognize more complex static and dynamic reality scenes.\\n\\n\\t“For example, the equipment can accurately identify irregular parking behaviors and state such as double parking and frequent maneuvers, precisely recognize detailed information including plate number and vehicle color, and make good judgment on the behaviors of drivers and pedestrians,” Xiang said.\\n\\n\\tOnce the high-mounted parking system cameras are installed, they can help with many aspects of integrated urban governance, which represents another advantage of the “AIpark Sky Eye” system.\\n\\n\\tBesides managing parking fee collection, high-mounted camera system can also provide data for traffic improvements. The snapshots obtained from the camera system can help solve problems including illegal and inappropriate parking and vehicle theft.\\n\\n\\tSo far, the smart ETC system of AIpark has been introduced into more than 20 cities in China, signaling increasingly important roles of AI in improving parking efficiency and order as well as new development opportunities for smart parking indus...</td>\n",
       "    </tr>\n",
       "  </tbody>\n",
       "</table>\n",
       "</div>"
      ],
      "text/plain": [
       "                                                    url       date   \n",
       "0  http://en.people.cn/n3/2021/0318/c90000-9830122.html 2021-03-18  \\\n",
       "\n",
       "                                                                                           title   \n",
       "0  Artificial intelligence improves parking efficiency in Chinese cities - People's Daily Online  \\\n",
       "\n",
       "                                                                                                                                                                                                                                                                                                                                                                                                                                                                                                                                                                                                                                                                                                                                                                                                                                                                                                                                                                                                                                                                                                                                                                                                                                                                                                                                                                                                                                                                                                                                                                                                                                                                                                                                                                                                                                                                                                                                                                                                                                                                                                                                                                                                                                                                                                                                                                                                                                                                                                                                                                                                                                                                                                                                                                                                                                                                                                                                                                                                                                                                                                                                                                                                                                                                                                                                                                                                                                                                                                                                                                                                                                                                                                                                                                                                                                                                                                                                                                                                                                                                                                                                                                                                                                                                                                                                                                                                                                                                                                                                                                                                                                                                                                                                                                                                                                                                                                                                                                                                                                                                                                                                                                                                      text  \n",
       "0  \\n\\nArtificial intelligence improves parking efficiency in Chinese cities - People's Daily Online\\n\\nHome\\nChina Politics\\nForeign Affairs\\nOpinions\\nVideo: We Are China\\nBusiness\\nMilitary\\nWorld\\nSociety\\nCulture\\nTravel\\nScience\\nSports\\nPhoto\\n\\nLanguages\\n\\nChinese\\nJapanese\\nFrench\\nSpanish\\nRussian\\nArabic\\nKorean\\nGerman\\nPortuguese\\nThursday, March 18, 2021\\nHome>>\\n\\t\\t\\nArtificial intelligence improves parking efficiency in Chinese cities\\nBy Liu Shiyao (People's Daily) 09:16, March 18, 2021\\nPhoto taken on July 1, 2019, shows a sign for electronic toll collection (ETC) newly set up at a roadside parking space on Yangzhuang road, Shijingshan district, Beijing. Some urban areas of the city started to use ETC system for roadside parking spaces since July 1, 2019. (People’s Daily Online/Li Wenming)\\n\\n\\tThanks to the application of an artificial intelligence (AI)-empowered roadside electronic toll collection (ETC) system, China’s capital city Beijing has seen significant improvement in the efficiency of parking fee collection, turnover of roadside parking spots, order in roadside parking, as well as traffic congestion.\\n\\n\\tAs the city further deepens its roadside parking reform, the ETC system has almost covered all the roadside parking spaces in the city, with the proportion of vehicles parked on roads using the system exceeding 90 percent.\\n\\n\\tWith the AI-empowered system, drivers can park their vehicles at the parking spots on the roadside, and then pay the parking charge via their mobile phones after they drive away.\\n\\n\\t“This road used to be full of cars, and even the normal lanes were occupied. You could hardly move a bit during the morning and evening commute time,” recalled a citizen surnamed Wang, who lives in Chaoyang district of Beijing.\\n\\n\\t“Since the summer of 2019, roadside ETC devices have been installed here. With all the cars being parked in designated parking spots on the roadside, the road now seems brighter and wider,” Wang said.\\n\\n\\tThe smart roadside ETC system “AIpark Sky Eye” adopted by Beijing is developed, operated, and maintained by AIpark, a Beijing-based leading smart parking solution provider.\\n\\n\\tThe company’s intelligent system has brought into full play the advantages of AI technologies and effectively addressed the shortage of parking spaces and the problem of irregular parking in cities. The system has therefore been listed among the country’s innovation projects that integrate AI deeply into the real economy in 2018 by China’s Ministry of Industry and Information Technology (MIIT).\\n\\n\\tTraditional parking management equipment and monitoring devices have failed to meet the actual needs of cities due to limited application scenarios and technical capacity. There are many deficiencies in traditional parking systems. For example, magnetic devices cannot identify detailed information about vehicles; each video monitoring pile can only cover one parking spot; and manual collection of parking fees costs too much.\\n\\n\\tSuch problems don’t exist in smart machines. The “AIpark Sky Eye” system boasts strong stability and high recognition rate. Besides, it can resist the interference of extreme weather conditions like rain, snow, and fog, and form complete graphic evidence based on wheel path of vehicles.\\n\\n\\tEach set of cameras of the “AIpark Sky Eye” system can monitor multiple parking spots at the same time for 24 hours a day. The data collected by front-end cameras are processed using multi-dimensional deep learning algorithm before they are uploaded on to an AI computing cloud platform for data enrichment. The platform then distributes identification results to transport authorities.\\n\\n\\tThe most distinctive innovation in the technological package of the system is precision brought about by high-mounted parking system cameras, according to Xiang Yanping, senior vice president of AIpark, noting that the cameras can recognize more complex static and dynamic reality scenes.\\n\\n\\t“For example, the equipment can accurately identify irregular parking behaviors and state such as double parking and frequent maneuvers, precisely recognize detailed information including plate number and vehicle color, and make good judgment on the behaviors of drivers and pedestrians,” Xiang said.\\n\\n\\tOnce the high-mounted parking system cameras are installed, they can help with many aspects of integrated urban governance, which represents another advantage of the “AIpark Sky Eye” system.\\n\\n\\tBesides managing parking fee collection, high-mounted camera system can also provide data for traffic improvements. The snapshots obtained from the camera system can help solve problems including illegal and inappropriate parking and vehicle theft.\\n\\n\\tSo far, the smart ETC system of AIpark has been introduced into more than 20 cities in China, signaling increasingly important roles of AI in improving parking efficiency and order as well as new development opportunities for smart parking indus...  "
      ]
     },
     "execution_count": 24,
     "metadata": {},
     "output_type": "execute_result"
    }
   ],
   "source": [
    "df_news_final_project.drop(columns = ['website', 'language'], inplace = True)\n",
    "df_news_final_project.head(1)"
   ]
  },
  {
   "cell_type": "code",
   "execution_count": 25,
   "id": "b60d47fc-6035-474a-9739-2e0b3a79896f",
   "metadata": {
    "tags": []
   },
   "outputs": [],
   "source": [
    "# df_sample = df_news_final_project.sample(frac=0.01,random_state=41)\n",
    "df_sample = df_news_final_project.copy()"
   ]
  },
  {
   "cell_type": "code",
   "execution_count": 26,
   "id": "55e6aca3-6a24-45e4-82c2-a85a2c50ec85",
   "metadata": {
    "jupyter": {
     "source_hidden": true
    },
    "tags": []
   },
   "outputs": [
    {
     "data": {
      "text/html": [
       "<div>\n",
       "<style scoped>\n",
       "    .dataframe tbody tr th:only-of-type {\n",
       "        vertical-align: middle;\n",
       "    }\n",
       "\n",
       "    .dataframe tbody tr th {\n",
       "        vertical-align: top;\n",
       "    }\n",
       "\n",
       "    .dataframe thead th {\n",
       "        text-align: right;\n",
       "    }\n",
       "</style>\n",
       "<table border=\"1\" class=\"dataframe\">\n",
       "  <thead>\n",
       "    <tr style=\"text-align: right;\">\n",
       "      <th></th>\n",
       "      <th>url</th>\n",
       "      <th>date</th>\n",
       "      <th>title</th>\n",
       "      <th>text</th>\n",
       "    </tr>\n",
       "  </thead>\n",
       "  <tbody>\n",
       "    <tr>\n",
       "      <th>0</th>\n",
       "      <td>http://en.people.cn/n3/2021/0318/c90000-9830122.html</td>\n",
       "      <td>2021-03-18</td>\n",
       "      <td>Artificial intelligence improves parking efficiency in Chinese cities - People's Daily Online</td>\n",
       "      <td>\\n\\nArtificial intelligence improves parking efficiency in Chinese cities - People's Daily Online\\n\\nHome\\nChina Politics\\nForeign Affairs\\nOpinions\\nVideo: We Are China\\nBusiness\\nMilitary\\nWorld\\nSociety\\nCulture\\nTravel\\nScience\\nSports\\nPhoto\\n\\nLanguages\\n\\nChinese\\nJapanese\\nFrench\\nSpanish\\nRussian\\nArabic\\nKorean\\nGerman\\nPortuguese\\nThursday, March 18, 2021\\nHome&gt;&gt;\\n\\t\\t\\nArtificial intelligence improves parking efficiency in Chinese cities\\nBy Liu Shiyao (People's Daily) 09:16, March 18, 2021\\nPhoto taken on July 1, 2019, shows a sign for electronic toll collection (ETC) newly set up at a roadside parking space on Yangzhuang road, Shijingshan district, Beijing. Some urban areas of the city started to use ETC system for roadside parking spaces since July 1, 2019. (People’s Daily Online/Li Wenming)\\n\\n\\tThanks to the application of an artificial intelligence (AI)-empowered roadside electronic toll collection (ETC) system, China’s capital city Beijing has seen significant improvement in the efficiency of parking fee collection, turnover of roadside parking spots, order in roadside parking, as well as traffic congestion.\\n\\n\\tAs the city further deepens its roadside parking reform, the ETC system has almost covered all the roadside parking spaces in the city, with the proportion of vehicles parked on roads using the system exceeding 90 percent.\\n\\n\\tWith the AI-empowered system, drivers can park their vehicles at the parking spots on the roadside, and then pay the parking charge via their mobile phones after they drive away.\\n\\n\\t“This road used to be full of cars, and even the normal lanes were occupied. You could hardly move a bit during the morning and evening commute time,” recalled a citizen surnamed Wang, who lives in Chaoyang district of Beijing.\\n\\n\\t“Since the summer of 2019, roadside ETC devices have been installed here. With all the cars being parked in designated parking spots on the roadside, the road now seems brighter and wider,” Wang said.\\n\\n\\tThe smart roadside ETC system “AIpark Sky Eye” adopted by Beijing is developed, operated, and maintained by AIpark, a Beijing-based leading smart parking solution provider.\\n\\n\\tThe company’s intelligent system has brought into full play the advantages of AI technologies and effectively addressed the shortage of parking spaces and the problem of irregular parking in cities. The system has therefore been listed among the country’s innovation projects that integrate AI deeply into the real economy in 2018 by China’s Ministry of Industry and Information Technology (MIIT).\\n\\n\\tTraditional parking management equipment and monitoring devices have failed to meet the actual needs of cities due to limited application scenarios and technical capacity. There are many deficiencies in traditional parking systems. For example, magnetic devices cannot identify detailed information about vehicles; each video monitoring pile can only cover one parking spot; and manual collection of parking fees costs too much.\\n\\n\\tSuch problems don’t exist in smart machines. The “AIpark Sky Eye” system boasts strong stability and high recognition rate. Besides, it can resist the interference of extreme weather conditions like rain, snow, and fog, and form complete graphic evidence based on wheel path of vehicles.\\n\\n\\tEach set of cameras of the “AIpark Sky Eye” system can monitor multiple parking spots at the same time for 24 hours a day. The data collected by front-end cameras are processed using multi-dimensional deep learning algorithm before they are uploaded on to an AI computing cloud platform for data enrichment. The platform then distributes identification results to transport authorities.\\n\\n\\tThe most distinctive innovation in the technological package of the system is precision brought about by high-mounted parking system cameras, according to Xiang Yanping, senior vice president of AIpark, noting that the cameras can recognize more complex static and dynamic reality scenes.\\n\\n\\t“For example, the equipment can accurately identify irregular parking behaviors and state such as double parking and frequent maneuvers, precisely recognize detailed information including plate number and vehicle color, and make good judgment on the behaviors of drivers and pedestrians,” Xiang said.\\n\\n\\tOnce the high-mounted parking system cameras are installed, they can help with many aspects of integrated urban governance, which represents another advantage of the “AIpark Sky Eye” system.\\n\\n\\tBesides managing parking fee collection, high-mounted camera system can also provide data for traffic improvements. The snapshots obtained from the camera system can help solve problems including illegal and inappropriate parking and vehicle theft.\\n\\n\\tSo far, the smart ETC system of AIpark has been introduced into more than 20 cities in China, signaling increasingly important roles of AI in improving parking efficiency and order as well as new development opportunities for smart parking indus...</td>\n",
       "    </tr>\n",
       "  </tbody>\n",
       "</table>\n",
       "</div>"
      ],
      "text/plain": [
       "                                                    url       date   \n",
       "0  http://en.people.cn/n3/2021/0318/c90000-9830122.html 2021-03-18  \\\n",
       "\n",
       "                                                                                           title   \n",
       "0  Artificial intelligence improves parking efficiency in Chinese cities - People's Daily Online  \\\n",
       "\n",
       "                                                                                                                                                                                                                                                                                                                                                                                                                                                                                                                                                                                                                                                                                                                                                                                                                                                                                                                                                                                                                                                                                                                                                                                                                                                                                                                                                                                                                                                                                                                                                                                                                                                                                                                                                                                                                                                                                                                                                                                                                                                                                                                                                                                                                                                                                                                                                                                                                                                                                                                                                                                                                                                                                                                                                                                                                                                                                                                                                                                                                                                                                                                                                                                                                                                                                                                                                                                                                                                                                                                                                                                                                                                                                                                                                                                                                                                                                                                                                                                                                                                                                                                                                                                                                                                                                                                                                                                                                                                                                                                                                                                                                                                                                                                                                                                                                                                                                                                                                                                                                                                                                                                                                                                                      text  \n",
       "0  \\n\\nArtificial intelligence improves parking efficiency in Chinese cities - People's Daily Online\\n\\nHome\\nChina Politics\\nForeign Affairs\\nOpinions\\nVideo: We Are China\\nBusiness\\nMilitary\\nWorld\\nSociety\\nCulture\\nTravel\\nScience\\nSports\\nPhoto\\n\\nLanguages\\n\\nChinese\\nJapanese\\nFrench\\nSpanish\\nRussian\\nArabic\\nKorean\\nGerman\\nPortuguese\\nThursday, March 18, 2021\\nHome>>\\n\\t\\t\\nArtificial intelligence improves parking efficiency in Chinese cities\\nBy Liu Shiyao (People's Daily) 09:16, March 18, 2021\\nPhoto taken on July 1, 2019, shows a sign for electronic toll collection (ETC) newly set up at a roadside parking space on Yangzhuang road, Shijingshan district, Beijing. Some urban areas of the city started to use ETC system for roadside parking spaces since July 1, 2019. (People’s Daily Online/Li Wenming)\\n\\n\\tThanks to the application of an artificial intelligence (AI)-empowered roadside electronic toll collection (ETC) system, China’s capital city Beijing has seen significant improvement in the efficiency of parking fee collection, turnover of roadside parking spots, order in roadside parking, as well as traffic congestion.\\n\\n\\tAs the city further deepens its roadside parking reform, the ETC system has almost covered all the roadside parking spaces in the city, with the proportion of vehicles parked on roads using the system exceeding 90 percent.\\n\\n\\tWith the AI-empowered system, drivers can park their vehicles at the parking spots on the roadside, and then pay the parking charge via their mobile phones after they drive away.\\n\\n\\t“This road used to be full of cars, and even the normal lanes were occupied. You could hardly move a bit during the morning and evening commute time,” recalled a citizen surnamed Wang, who lives in Chaoyang district of Beijing.\\n\\n\\t“Since the summer of 2019, roadside ETC devices have been installed here. With all the cars being parked in designated parking spots on the roadside, the road now seems brighter and wider,” Wang said.\\n\\n\\tThe smart roadside ETC system “AIpark Sky Eye” adopted by Beijing is developed, operated, and maintained by AIpark, a Beijing-based leading smart parking solution provider.\\n\\n\\tThe company’s intelligent system has brought into full play the advantages of AI technologies and effectively addressed the shortage of parking spaces and the problem of irregular parking in cities. The system has therefore been listed among the country’s innovation projects that integrate AI deeply into the real economy in 2018 by China’s Ministry of Industry and Information Technology (MIIT).\\n\\n\\tTraditional parking management equipment and monitoring devices have failed to meet the actual needs of cities due to limited application scenarios and technical capacity. There are many deficiencies in traditional parking systems. For example, magnetic devices cannot identify detailed information about vehicles; each video monitoring pile can only cover one parking spot; and manual collection of parking fees costs too much.\\n\\n\\tSuch problems don’t exist in smart machines. The “AIpark Sky Eye” system boasts strong stability and high recognition rate. Besides, it can resist the interference of extreme weather conditions like rain, snow, and fog, and form complete graphic evidence based on wheel path of vehicles.\\n\\n\\tEach set of cameras of the “AIpark Sky Eye” system can monitor multiple parking spots at the same time for 24 hours a day. The data collected by front-end cameras are processed using multi-dimensional deep learning algorithm before they are uploaded on to an AI computing cloud platform for data enrichment. The platform then distributes identification results to transport authorities.\\n\\n\\tThe most distinctive innovation in the technological package of the system is precision brought about by high-mounted parking system cameras, according to Xiang Yanping, senior vice president of AIpark, noting that the cameras can recognize more complex static and dynamic reality scenes.\\n\\n\\t“For example, the equipment can accurately identify irregular parking behaviors and state such as double parking and frequent maneuvers, precisely recognize detailed information including plate number and vehicle color, and make good judgment on the behaviors of drivers and pedestrians,” Xiang said.\\n\\n\\tOnce the high-mounted parking system cameras are installed, they can help with many aspects of integrated urban governance, which represents another advantage of the “AIpark Sky Eye” system.\\n\\n\\tBesides managing parking fee collection, high-mounted camera system can also provide data for traffic improvements. The snapshots obtained from the camera system can help solve problems including illegal and inappropriate parking and vehicle theft.\\n\\n\\tSo far, the smart ETC system of AIpark has been introduced into more than 20 cities in China, signaling increasingly important roles of AI in improving parking efficiency and order as well as new development opportunities for smart parking indus...  "
      ]
     },
     "execution_count": 26,
     "metadata": {},
     "output_type": "execute_result"
    }
   ],
   "source": [
    "df_sample.head(1)"
   ]
  },
  {
   "cell_type": "code",
   "execution_count": 27,
   "id": "42ce5ffc-ddb8-436d-9f7c-f462fa2c7942",
   "metadata": {
    "tags": []
   },
   "outputs": [
    {
     "data": {
      "text/plain": [
       "(200332, 200332)"
      ]
     },
     "execution_count": 27,
     "metadata": {},
     "output_type": "execute_result"
    }
   ],
   "source": [
    "len(df_news_final_project), len(df_sample)"
   ]
  },
  {
   "cell_type": "markdown",
   "id": "e95d6a58-3b36-42a6-88b1-2727eb597cca",
   "metadata": {},
   "source": [
    "# Data Cleaning"
   ]
  },
  {
   "cell_type": "markdown",
   "id": "e99f6453-4a4c-4bd8-9bf7-57a3f4bb8338",
   "metadata": {},
   "source": [
    "- remove words with character-length greater than 11 (chose 11 cz some names are like 11 in length eg Jenna Colatruglio at index 179106, rduncanspringmarketinggroupcom, International Newswires)"
   ]
  },
  {
   "cell_type": "code",
   "execution_count": 28,
   "id": "bb46a953-4c26-440e-8252-63dc101b3f00",
   "metadata": {
    "tags": []
   },
   "outputs": [],
   "source": [
    "# # Get a list of stopwords from the NLTK library\n",
    "# stop = stopwords.words('english')\n",
    "\n",
    "# # Don't remove these words. Thye are important for sentiment analysis.\n",
    "# excluding = ['against', 'not', 'don', 'don\\'t','ain', 'are', 'aren\\'t', 'could', 'couldn\\'t',\n",
    "#              'did', 'didn\\'t', 'does', 'doesn\\'t', 'had', 'hadn\\'t', 'has', 'hasn\\'t', \n",
    "#              'have', 'haven\\'t', 'is', 'isn\\'t', 'might', 'mightn\\'t', 'must', 'mustn\\'t',\n",
    "#              'need', 'needn\\'t','should', 'shouldn\\'t', 'was', 'wasn\\'t', 'were', \n",
    "#              'weren\\'t', 'won\\'t', 'would', 'wouldn\\'t']\n",
    "\n",
    "# # New stopword list\n",
    "# stopwords = [word for word in stop if word not in excluding]\n"
   ]
  },
  {
   "cell_type": "code",
   "execution_count": 29,
   "id": "b69c7560-5a96-400d-83cb-d625be71b221",
   "metadata": {},
   "outputs": [],
   "source": [
    "# len(stopwords)"
   ]
  },
  {
   "cell_type": "code",
   "execution_count": 30,
   "id": "2e82f1eb-f6db-417a-bcbb-ac32a416dade",
   "metadata": {
    "tags": []
   },
   "outputs": [],
   "source": [
    "# initialize lemmatizer\n",
    "# lemmatizer = nltk.stem.WordNetLemmatizer()\n",
    "#lemmatizer = nltk.WordNetLemmatizer()\n",
    "def text_clean(text):\n",
    "    # replace characters like |,\\t,\\r,@,#() with empty string\n",
    "    cleaned_text = re.sub(r'[\\|\\t\\n\\r@#()]', '', text)\n",
    "    # remove text between more than 1 continuous /n \n",
    "    #cleaned_text = re.sub(r'\\n+\\s*\\n+\\s*(\\s*\\w+\\b\\s*){0,}\\s*\\n\\s*\\n', \" \", cleaned_text)\n",
    "    # remove URLs\n",
    "    cleaned_text = re.sub(r'http\\S+', '', cleaned_text)\n",
    "    # remove non word characters (emojis etc)\n",
    "    cleaned_text = re.sub(r'[^\\w\\s,.]',' ',cleaned_text)\n",
    "    # remove numbers and punctuation\n",
    "    #cleaned_text = re.sub(r'[\\d,.;:?!]+','',cleaned_text) #remove punctuation\n",
    "    cleaned_text = re.sub(r'[0-9]', ' ', cleaned_text)\n",
    "    # remove words with character-length greater than 11\n",
    "    cleaned_text = re.sub(r'\\b\\w{12,}\\b', \"\", cleaned_text)\n",
    "    # Lower case\n",
    "    #cleaned_text = cleaned_text.lower()\n",
    "    # Remove extra spaces\n",
    "    cleaned_text = re.sub(r'\\s+',' ', cleaned_text)\n",
    "    #Tokenize\n",
    "    #text_tokens = nltk.tokenize.word_tokenize(cleaned_text)\n",
    "    # Remove single-character tokens\n",
    "    #text_tokens = [token for token in text_tokens if len(token) > 1]\n",
    "    # remove stopwords\n",
    "    #cleaned_text = [word for word in text_tokens if not word in stopwords]\n",
    "    # lemmatize words\n",
    "    #cleaned_text = [lemmatizer.lemmatize(word) for word in cleaned_text]\n",
    "    cleaned_text = ''.join([x if x in string.printable else '' for x in cleaned_text])\n",
    "    return cleaned_text"
   ]
  },
  {
   "cell_type": "code",
   "execution_count": 31,
   "id": "3e48b6f7-053a-4f11-8dbb-4887ccd9cd94",
   "metadata": {},
   "outputs": [
    {
     "name": "stdout",
     "output_type": "stream",
     "text": [
      "CPU times: user 264 ms, sys: 4.08 s, total: 4.35 s\n",
      "Wall time: 4.48 s\n"
     ]
    }
   ],
   "source": [
    "%%time\n",
    "df_sample['clean_title'] = df_sample['title'].parallel_apply(text_clean)"
   ]
  },
  {
   "cell_type": "code",
   "execution_count": 32,
   "id": "81ec03b4-7dd0-4647-8704-bef7a9c4e59a",
   "metadata": {
    "tags": []
   },
   "outputs": [
    {
     "name": "stdout",
     "output_type": "stream",
     "text": [
      "CPU times: user 3.51 s, sys: 9.46 s, total: 13 s\n",
      "Wall time: 19.7 s\n"
     ]
    }
   ],
   "source": [
    "%%time\n",
    "df_sample['clean_text'] = df_sample['text'].parallel_apply(text_clean)"
   ]
  },
  {
   "cell_type": "code",
   "execution_count": 33,
   "id": "f0b767c5-3231-4f3f-84c5-7b727cc079f3",
   "metadata": {},
   "outputs": [],
   "source": [
    "df_sample.drop(columns = ['text', 'title'], inplace = True)"
   ]
  },
  {
   "cell_type": "code",
   "execution_count": 34,
   "id": "7a5c75bb-aa2e-42d7-9522-82f24eca29f8",
   "metadata": {
    "tags": []
   },
   "outputs": [
    {
     "data": {
      "text/html": [
       "<div>\n",
       "<style scoped>\n",
       "    .dataframe tbody tr th:only-of-type {\n",
       "        vertical-align: middle;\n",
       "    }\n",
       "\n",
       "    .dataframe tbody tr th {\n",
       "        vertical-align: top;\n",
       "    }\n",
       "\n",
       "    .dataframe thead th {\n",
       "        text-align: right;\n",
       "    }\n",
       "</style>\n",
       "<table border=\"1\" class=\"dataframe\">\n",
       "  <thead>\n",
       "    <tr style=\"text-align: right;\">\n",
       "      <th></th>\n",
       "      <th>url</th>\n",
       "      <th>date</th>\n",
       "      <th>clean_title</th>\n",
       "      <th>clean_text</th>\n",
       "    </tr>\n",
       "  </thead>\n",
       "  <tbody>\n",
       "    <tr>\n",
       "      <th>0</th>\n",
       "      <td>http://en.people.cn/n3/2021/0318/c90000-9830122.html</td>\n",
       "      <td>2021-03-18</td>\n",
       "      <td>Artificial improves parking efficiency in Chinese cities People s Daily Online</td>\n",
       "      <td>Artificial improves parking efficiency in Chinese cities People s Daily We Are , March , Home Artificial improves parking efficiency in Chinese citiesBy Liu Shiyao People s Daily , March , Photo taken on July , , shows a sign for electronic toll collection ETC newly set up at a roadside parking space on Yangzhuang road, Shijingshan district, Beijing. Some urban areas of the city started to use ETC system for roadside parking spaces since July , . People s Daily Online Li to the application of an artificial AI empowered roadside electronic toll collection ETC system, China s capital city Beijing has seen significant improvement in the efficiency of parking fee collection, turnover of roadside parking spots, order in roadside parking, as well as traffic congestion.As the city further deepens its roadside parking reform, the ETC system has almost covered all the roadside parking spaces in the city, with the proportion of vehicles parked on roads using the system exceeding percent.With the AI empowered system, drivers can park their vehicles at the parking spots on the roadside, and then pay the parking charge via their mobile phones after they drive away. This road used to be full of cars, and even the normal lanes were occupied. You could hardly move a bit during the morning and evening commute time, recalled a citizen surnamed Wang, who lives in Chaoyang district of Beijing. Since the summer of , roadside ETC devices have been installed here. With all the cars being parked in designated parking spots on the roadside, the road now seems brighter and wider, Wang said.The smart roadside ETC system AIpark Sky Eye adopted by Beijing is developed, operated, and maintained by AIpark, a Beijing based leading smart parking solution provider.The company s intelligent system has brought into full play the advantages of AI and effectively addressed the shortage of parking spaces and the problem of irregular parking in cities. The system has therefore been listed among the country s innovation projects that integrate AI deeply into the real economy in by China s Ministry of Industry and Information Technology MIIT.Traditional parking management equipment and monitoring devices have failed to meet the actual needs of cities due to limited application scenarios and technical capacity. There are many in traditional parking systems. For example, magnetic devices cannot identify detailed information about vehicles each video monitoring pile can only cover one parking spot and manual collection of parking fees costs too much.Such problems don t exist in smart machines. The AIpark Sky Eye system boasts strong stability and high recognition rate. Besides, it can resist the of extreme weather conditions like rain, snow, and fog, and form complete graphic evidence based on wheel path of vehicles.Each set of cameras of the AIpark Sky Eye system can monitor multiple parking spots at the same time for hours a day. The data collected by front end cameras are processed using multi dimensional deep learning algorithm before they are uploaded on to an AI computing cloud platform for data enrichment. The platform then distributes results to transport authorities.The most distinctive innovation in the package of the system is precision brought about by high mounted parking system cameras, according to Xiang Yanping, senior vice president of AIpark, noting that the cameras can recognize more complex static and dynamic reality scenes. For example, the equipment can accurately identify irregular parking behaviors and state such as double parking and frequent maneuvers, precisely recognize detailed information including plate number and vehicle color, and make good judgment on the behaviors of drivers and pedestrians, Xiang said.Once the high mounted parking system cameras are installed, they can help with many aspects of integrated urban governance, which represents another advantage of the AIpark Sky Eye system.Besides managing parking fee collection, high mounted camera system can also provide data for traffic . The snapshots obtained from the camera system can help solve problems including illegal and parking and vehicle theft.So far, the smart ETC system of AIpark has been introduced into more than cities in China, signaling important roles of AI in improving parking efficiency and order as well as new development for smart parking industry. PhotosNaval fleet steams in East China SeaNewborn golden snub nosed monkey makes debutIn pics birds across ChinaGrain painting studio helps villagers to increase art science integration opens in s AI industry poised to enter boom outlines technology trends for China s leading AI enterprise iFlytek to develop health information Mobile wades into artificial overtakes the US in investment in AI million artificial talents urgently needed in students give voice to sign in real embraces artificial People s Daily Online Join Us Contact UsCopyright People s Daily Online. All Rights Reserved.</td>\n",
       "    </tr>\n",
       "  </tbody>\n",
       "</table>\n",
       "</div>"
      ],
      "text/plain": [
       "                                                    url       date   \n",
       "0  http://en.people.cn/n3/2021/0318/c90000-9830122.html 2021-03-18  \\\n",
       "\n",
       "                                                                      clean_title   \n",
       "0  Artificial improves parking efficiency in Chinese cities People s Daily Online  \\\n",
       "\n",
       "                                                                                                                                                                                                                                                                                                                                                                                                                                                                                                                                                                                                                                                                                                                                                                                                                                                                                                                                                                                                                                                                                                                                                                                                                                                                                                                                                                                                                                                                                                                                                                                                                                                                                                                                                                                                                                                                                                                                                                                                                                                                                                                                                                                                                                                                                                                                                                                                                                                                                                                                                                                                                                                                                                                                                                                                                                                                                                                                                                                                                                                                                                                                                                                                                                                                                                                                                                                                                                                                                                                                                                                                                                                                                                                                                                                                                                                                                                                                                                                                                                                                                                                                                                                                                                                                                                                                                                                                                                                                                                                                                                                                                                                                                                                                                                                                                                                                                                                                                                                                                                                                                                                                                                               clean_text  \n",
       "0  Artificial improves parking efficiency in Chinese cities People s Daily We Are , March , Home Artificial improves parking efficiency in Chinese citiesBy Liu Shiyao People s Daily , March , Photo taken on July , , shows a sign for electronic toll collection ETC newly set up at a roadside parking space on Yangzhuang road, Shijingshan district, Beijing. Some urban areas of the city started to use ETC system for roadside parking spaces since July , . People s Daily Online Li to the application of an artificial AI empowered roadside electronic toll collection ETC system, China s capital city Beijing has seen significant improvement in the efficiency of parking fee collection, turnover of roadside parking spots, order in roadside parking, as well as traffic congestion.As the city further deepens its roadside parking reform, the ETC system has almost covered all the roadside parking spaces in the city, with the proportion of vehicles parked on roads using the system exceeding percent.With the AI empowered system, drivers can park their vehicles at the parking spots on the roadside, and then pay the parking charge via their mobile phones after they drive away. This road used to be full of cars, and even the normal lanes were occupied. You could hardly move a bit during the morning and evening commute time, recalled a citizen surnamed Wang, who lives in Chaoyang district of Beijing. Since the summer of , roadside ETC devices have been installed here. With all the cars being parked in designated parking spots on the roadside, the road now seems brighter and wider, Wang said.The smart roadside ETC system AIpark Sky Eye adopted by Beijing is developed, operated, and maintained by AIpark, a Beijing based leading smart parking solution provider.The company s intelligent system has brought into full play the advantages of AI and effectively addressed the shortage of parking spaces and the problem of irregular parking in cities. The system has therefore been listed among the country s innovation projects that integrate AI deeply into the real economy in by China s Ministry of Industry and Information Technology MIIT.Traditional parking management equipment and monitoring devices have failed to meet the actual needs of cities due to limited application scenarios and technical capacity. There are many in traditional parking systems. For example, magnetic devices cannot identify detailed information about vehicles each video monitoring pile can only cover one parking spot and manual collection of parking fees costs too much.Such problems don t exist in smart machines. The AIpark Sky Eye system boasts strong stability and high recognition rate. Besides, it can resist the of extreme weather conditions like rain, snow, and fog, and form complete graphic evidence based on wheel path of vehicles.Each set of cameras of the AIpark Sky Eye system can monitor multiple parking spots at the same time for hours a day. The data collected by front end cameras are processed using multi dimensional deep learning algorithm before they are uploaded on to an AI computing cloud platform for data enrichment. The platform then distributes results to transport authorities.The most distinctive innovation in the package of the system is precision brought about by high mounted parking system cameras, according to Xiang Yanping, senior vice president of AIpark, noting that the cameras can recognize more complex static and dynamic reality scenes. For example, the equipment can accurately identify irregular parking behaviors and state such as double parking and frequent maneuvers, precisely recognize detailed information including plate number and vehicle color, and make good judgment on the behaviors of drivers and pedestrians, Xiang said.Once the high mounted parking system cameras are installed, they can help with many aspects of integrated urban governance, which represents another advantage of the AIpark Sky Eye system.Besides managing parking fee collection, high mounted camera system can also provide data for traffic . The snapshots obtained from the camera system can help solve problems including illegal and parking and vehicle theft.So far, the smart ETC system of AIpark has been introduced into more than cities in China, signaling important roles of AI in improving parking efficiency and order as well as new development for smart parking industry. PhotosNaval fleet steams in East China SeaNewborn golden snub nosed monkey makes debutIn pics birds across ChinaGrain painting studio helps villagers to increase art science integration opens in s AI industry poised to enter boom outlines technology trends for China s leading AI enterprise iFlytek to develop health information Mobile wades into artificial overtakes the US in investment in AI million artificial talents urgently needed in students give voice to sign in real embraces artificial People s Daily Online Join Us Contact UsCopyright People s Daily Online. All Rights Reserved.  "
      ]
     },
     "execution_count": 34,
     "metadata": {},
     "output_type": "execute_result"
    }
   ],
   "source": [
    "df_sample.head(1)"
   ]
  },
  {
   "cell_type": "code",
   "execution_count": 35,
   "id": "a16a0103-7d45-4a44-9ce9-673da233173c",
   "metadata": {},
   "outputs": [],
   "source": [
    "def tokenize(text, stopwords):\n",
    "    # # remove text between more than 1 continuous /n \n",
    "    # text = re.sub(r'\\n+\\s*\\n+\\s*(\\s*\\w+\\b\\s*){0,}\\s*\\n\\s*\\n', \" \", text)\n",
    "    # remove non word characters (emojis etc)\n",
    "    #text = re.sub(r'[^\\w\\s]',' ',text)\n",
    "    # remove numbers and punctuation\n",
    "    #cleaned_text = re.sub(r'[\\d,.;:?!]+','',cleaned_text) #remove punctuation\n",
    "    #cleaned_text = re.sub(r'[0-9]', ' ', cleaned_text)\n",
    "    # Lower case\n",
    "    #text = text.lower()\n",
    "    # # Remove extra spaces\n",
    "    # text = re.sub(r'\\s+',' ', text)\n",
    "    \n",
    "    #Tokenize\n",
    "    tokens = nltk.word_tokenize(text)\n",
    "    \n",
    "    \n",
    "    # Remove single-character tokens\n",
    "    tokens = [token for token in tokens if len(token) > 1]\n",
    "    \n",
    "    # Remove character tokens with length > 14\n",
    "    #tokens = [token for token in tokens if len(token) <= 14]\n",
    "\n",
    "    # Remove numbers\n",
    "    #tokens = [token for token in tokens if not token.isnumeric()]\n",
    "    \n",
    "    # Remove punctuation\n",
    "    tokens = [token for token in tokens if token.isalpha()]\n",
    "\n",
    "    # Lowercase all tokens (default_stopwords are lowercase too)\n",
    "    tokens = [token.lower() for token in tokens]\n",
    "\n",
    "    # Remove stopwords\n",
    "    tokens = [token for token in tokens if token not in stopwords]\n",
    "    \n",
    "    # Remove stopwords\n",
    "    # tokens = [token for token in tokens if token not in custom_stopwords]\n",
    "\n",
    "#     #Lemmatize\n",
    "#     wnl = nltk.WordNetLemmatizer()\n",
    "#     tokens = [wnl.lemmatize(token) for token in tokens]\n",
    "    \n",
    "#     # Remove single-character tokens\n",
    "#     tokens = [token for token in tokens if len(token) > 1]\n",
    "    \n",
    "    return tokens"
   ]
  },
  {
   "cell_type": "code",
   "execution_count": 36,
   "id": "697536f1-2a42-4b30-b2a1-a310e58c1439",
   "metadata": {},
   "outputs": [],
   "source": [
    "def tokens_to_text(tokens):\n",
    "    \n",
    "    if  len(tokens)> 250:\n",
    "        new_text = \" \".join(tokens[0:250])\n",
    "    else:\n",
    "        new_text = \" \".join(tokens)\n",
    "    return new_text"
   ]
  },
  {
   "cell_type": "code",
   "execution_count": 37,
   "id": "9189eb7d-bfdb-44f3-9d48-e8d03ad76d67",
   "metadata": {},
   "outputs": [
    {
     "name": "stdout",
     "output_type": "stream",
     "text": [
      "CPU times: user 1.34 s, sys: 9.5 s, total: 10.8 s\n",
      "Wall time: 11.8 s\n"
     ]
    }
   ],
   "source": [
    "%%time\n",
    "df_sample['title_tokens'] = df_sample['clean_title'].parallel_apply(tokenize, stopwords = set(nlp.Defaults.stop_words))\n",
    "df_sample['title_token_text'] = df_sample['title_tokens'].parallel_apply(tokens_to_text)"
   ]
  },
  {
   "cell_type": "markdown",
   "id": "59b770b6-dea6-499e-9eaa-f472b61efabd",
   "metadata": {},
   "source": [
    "# Filtering\n",
    "keeping articles related to ai/ml"
   ]
  },
  {
   "cell_type": "code",
   "execution_count": 38,
   "id": "50c039b9-7df4-44f8-8b12-9809a0f3c727",
   "metadata": {
    "tags": []
   },
   "outputs": [
    {
     "data": {
      "text/html": [
       "<div>\n",
       "<style scoped>\n",
       "    .dataframe tbody tr th:only-of-type {\n",
       "        vertical-align: middle;\n",
       "    }\n",
       "\n",
       "    .dataframe tbody tr th {\n",
       "        vertical-align: top;\n",
       "    }\n",
       "\n",
       "    .dataframe thead th {\n",
       "        text-align: right;\n",
       "    }\n",
       "</style>\n",
       "<table border=\"1\" class=\"dataframe\">\n",
       "  <thead>\n",
       "    <tr style=\"text-align: right;\">\n",
       "      <th></th>\n",
       "      <th>title_token_text</th>\n",
       "    </tr>\n",
       "  </thead>\n",
       "  <tbody>\n",
       "    <tr>\n",
       "      <th>0</th>\n",
       "      <td>artificial improves parking efficiency chinese cities people daily online</td>\n",
       "    </tr>\n",
       "    <tr>\n",
       "      <th>1</th>\n",
       "      <td>children autism saw learning social skills boosted playing ai robot news parliament</td>\n",
       "    </tr>\n",
       "    <tr>\n",
       "      <th>2</th>\n",
       "      <td>forget ml ai industry focus february test rework solutions dataweek</td>\n",
       "    </tr>\n",
       "    <tr>\n",
       "      <th>3</th>\n",
       "      <td>strategy analytics smartphones sold globally ai powered consumer electronics net</td>\n",
       "    </tr>\n",
       "    <tr>\n",
       "      <th>4</th>\n",
       "      <td>olympus support endoscopic ai diagnosis education doctors india launch ai diagnostic support application business net</td>\n",
       "    </tr>\n",
       "  </tbody>\n",
       "</table>\n",
       "</div>"
      ],
      "text/plain": [
       "                                                                                                        title_token_text\n",
       "0                                              artificial improves parking efficiency chinese cities people daily online\n",
       "1                                    children autism saw learning social skills boosted playing ai robot news parliament\n",
       "2                                                    forget ml ai industry focus february test rework solutions dataweek\n",
       "3                                       strategy analytics smartphones sold globally ai powered consumer electronics net\n",
       "4  olympus support endoscopic ai diagnosis education doctors india launch ai diagnostic support application business net"
      ]
     },
     "execution_count": 38,
     "metadata": {},
     "output_type": "execute_result"
    }
   ],
   "source": [
    "df_sample[['title_token_text']].head(5)"
   ]
  },
  {
   "cell_type": "code",
   "execution_count": 39,
   "id": "92192a12-bbe7-4ef5-8f08-bf5846220116",
   "metadata": {},
   "outputs": [],
   "source": [
    "keywords = ['ai','metaverse','big data','chatgpt','alexa', \n",
    "            'data science','chatbot','data', 'generative ai', 'automated','meta','cloud','artificial intelligence',\n",
    "            'open ai','openai','google','microsoft','imaging', 'machine learning','machine','prediction','ocr', 'analytics','natural language',\n",
    "            'ai models', 'elon musk', 'ml', 'llms', 'llm', 'large language', 'image generation', 'stable diffusion',\n",
    "            'dall-e', 'dalle', 'gpt', 'opensource', 'conversational ai', 'bot','algorithm', 'nlp','natural language processing',\n",
    "            'computer vision', 'attention is all you need', 'attention','lamda', 'transformer', 'bert', 'nlu','natural language understanding',\n",
    "            'prompt engineering', 'nlg', 'discriminiative models', 'fine tuning', 'generative pre trained transformer', 'hallucination',\n",
    "            'generative','pretrained','transformer','transformers','multimodal', 'language model', 'n shot learning', 'nli', \n",
    "            'natural language generation', 'reinforcement learning', 'sequence modelling', 'tokenization', 'intent recognition', \n",
    "            'sentiment analysis', 'speech recognition', 'bard', 'automation', 'genai', 'revolution', 'gpu', 'data', \n",
    "            'python', 'api', 'github','copilot','bing','bart','deep learning','neural networks','gan','image','augmentation','digital'\n",
    "           'large','neural','networks','supervised','unsupervised','reasoning''chatgpts']\n",
    "\n",
    "keyw = [*set(keywords)]"
   ]
  },
  {
   "cell_type": "code",
   "execution_count": 40,
   "id": "a1b17c72-397f-4ad8-9546-af9a084c51b7",
   "metadata": {},
   "outputs": [],
   "source": [
    "def get_keywords(text):\n",
    "    global keyw\n",
    "    words = text\n",
    "    total_count = 0\n",
    "    for i in keyw:\n",
    "        occurance_count = words.count(i)\n",
    "        total_count += occurance_count\n",
    "    return total_count"
   ]
  },
  {
   "cell_type": "code",
   "execution_count": 41,
   "id": "faedefd8-c9ac-400b-8dc7-344e3dba1cdb",
   "metadata": {},
   "outputs": [
    {
     "name": "stdout",
     "output_type": "stream",
     "text": [
      "CPU times: user 147 ms, sys: 4.7 s, total: 4.84 s\n",
      "Wall time: 5.06 s\n"
     ]
    }
   ],
   "source": [
    "%%time\n",
    "df_sample['keywords'] = df_sample['title_token_text'].parallel_apply(get_keywords)"
   ]
  },
  {
   "cell_type": "code",
   "execution_count": 42,
   "id": "e40d1437-cd65-4e63-8bd6-e155273b8ac3",
   "metadata": {},
   "outputs": [],
   "source": [
    "df_sample = df_sample[df_sample['keywords'] != 0]"
   ]
  },
  {
   "cell_type": "code",
   "execution_count": 43,
   "id": "acd1dfa9-99ed-459e-9036-87c547e500d2",
   "metadata": {},
   "outputs": [
    {
     "data": {
      "text/plain": [
       "(181646, 7)"
      ]
     },
     "execution_count": 43,
     "metadata": {},
     "output_type": "execute_result"
    }
   ],
   "source": [
    "df_sample.shape"
   ]
  },
  {
   "cell_type": "code",
   "execution_count": 44,
   "id": "dc52a90a-939a-4bbd-a4a5-adf8b27691bc",
   "metadata": {
    "tags": []
   },
   "outputs": [
    {
     "data": {
      "text/html": [
       "<div>\n",
       "<style scoped>\n",
       "    .dataframe tbody tr th:only-of-type {\n",
       "        vertical-align: middle;\n",
       "    }\n",
       "\n",
       "    .dataframe tbody tr th {\n",
       "        vertical-align: top;\n",
       "    }\n",
       "\n",
       "    .dataframe thead th {\n",
       "        text-align: right;\n",
       "    }\n",
       "</style>\n",
       "<table border=\"1\" class=\"dataframe\">\n",
       "  <thead>\n",
       "    <tr style=\"text-align: right;\">\n",
       "      <th></th>\n",
       "      <th>url</th>\n",
       "      <th>date</th>\n",
       "      <th>clean_title</th>\n",
       "      <th>clean_text</th>\n",
       "      <th>title_tokens</th>\n",
       "      <th>title_token_text</th>\n",
       "      <th>keywords</th>\n",
       "    </tr>\n",
       "  </thead>\n",
       "  <tbody>\n",
       "    <tr>\n",
       "      <th>0</th>\n",
       "      <td>http://en.people.cn/n3/2021/0318/c90000-9830122.html</td>\n",
       "      <td>2021-03-18</td>\n",
       "      <td>Artificial improves parking efficiency in Chinese cities People s Daily Online</td>\n",
       "      <td>Artificial improves parking efficiency in Chinese cities People s Daily We Are , March , Home Artificial improves parking efficiency in Chinese citiesBy Liu Shiyao People s Daily , March , Photo taken on July , , shows a sign for electronic toll collection ETC newly set up at a roadside parking space on Yangzhuang road, Shijingshan district, Beijing. Some urban areas of the city started to use ETC system for roadside parking spaces since July , . People s Daily Online Li to the application of an artificial AI empowered roadside electronic toll collection ETC system, China s capital city Beijing has seen significant improvement in the efficiency of parking fee collection, turnover of roadside parking spots, order in roadside parking, as well as traffic congestion.As the city further deepens its roadside parking reform, the ETC system has almost covered all the roadside parking spaces in the city, with the proportion of vehicles parked on roads using the system exceeding percent.With the AI empowered system, drivers can park their vehicles at the parking spots on the roadside, and then pay the parking charge via their mobile phones after they drive away. This road used to be full of cars, and even the normal lanes were occupied. You could hardly move a bit during the morning and evening commute time, recalled a citizen surnamed Wang, who lives in Chaoyang district of Beijing. Since the summer of , roadside ETC devices have been installed here. With all the cars being parked in designated parking spots on the roadside, the road now seems brighter and wider, Wang said.The smart roadside ETC system AIpark Sky Eye adopted by Beijing is developed, operated, and maintained by AIpark, a Beijing based leading smart parking solution provider.The company s intelligent system has brought into full play the advantages of AI and effectively addressed the shortage of parking spaces and the problem of irregular parking in cities. The system has therefore been listed among the country s innovation projects that integrate AI deeply into the real economy in by China s Ministry of Industry and Information Technology MIIT.Traditional parking management equipment and monitoring devices have failed to meet the actual needs of cities due to limited application scenarios and technical capacity. There are many in traditional parking systems. For example, magnetic devices cannot identify detailed information about vehicles each video monitoring pile can only cover one parking spot and manual collection of parking fees costs too much.Such problems don t exist in smart machines. The AIpark Sky Eye system boasts strong stability and high recognition rate. Besides, it can resist the of extreme weather conditions like rain, snow, and fog, and form complete graphic evidence based on wheel path of vehicles.Each set of cameras of the AIpark Sky Eye system can monitor multiple parking spots at the same time for hours a day. The data collected by front end cameras are processed using multi dimensional deep learning algorithm before they are uploaded on to an AI computing cloud platform for data enrichment. The platform then distributes results to transport authorities.The most distinctive innovation in the package of the system is precision brought about by high mounted parking system cameras, according to Xiang Yanping, senior vice president of AIpark, noting that the cameras can recognize more complex static and dynamic reality scenes. For example, the equipment can accurately identify irregular parking behaviors and state such as double parking and frequent maneuvers, precisely recognize detailed information including plate number and vehicle color, and make good judgment on the behaviors of drivers and pedestrians, Xiang said.Once the high mounted parking system cameras are installed, they can help with many aspects of integrated urban governance, which represents another advantage of the AIpark Sky Eye system.Besides managing parking fee collection, high mounted camera system can also provide data for traffic . The snapshots obtained from the camera system can help solve problems including illegal and parking and vehicle theft.So far, the smart ETC system of AIpark has been introduced into more than cities in China, signaling important roles of AI in improving parking efficiency and order as well as new development for smart parking industry. PhotosNaval fleet steams in East China SeaNewborn golden snub nosed monkey makes debutIn pics birds across ChinaGrain painting studio helps villagers to increase art science integration opens in s AI industry poised to enter boom outlines technology trends for China s leading AI enterprise iFlytek to develop health information Mobile wades into artificial overtakes the US in investment in AI million artificial talents urgently needed in students give voice to sign in real embraces artificial People s Daily Online Join Us Contact UsCopyright People s Daily Online. All Rights Reserved.</td>\n",
       "      <td>[artificial, improves, parking, efficiency, chinese, cities, people, daily, online]</td>\n",
       "      <td>artificial improves parking efficiency chinese cities people daily online</td>\n",
       "      <td>2</td>\n",
       "    </tr>\n",
       "    <tr>\n",
       "      <th>1</th>\n",
       "      <td>http://newsparliament.com/2020/02/27/children-with-autism-saw-their-learning-and-social-skills-boosted-after-playing-with-this-ai-robot/</td>\n",
       "      <td>2020-02-27</td>\n",
       "      <td>Children With Autism Saw Their Learning and Social Skills Boosted After Playing With This AI Robot News Parliament</td>\n",
       "      <td>Children With Autism Saw Their Learning and Social Skills Boosted After Playing With This AI Robot News Parliament Skip to , February , Latest in conferences How can we get him to forestall Drax power station to cease burning coal in March Coronavirus Could Explode in the U.S. Overnight Like it Did in Dettol sales surge as markets fall againLevi Strauss marks the next phase in corporate paid leave the Real Story World Children With Autism Saw Their Learning and Social Skills Boosted After Playing With This AI Robot February , February , admin Comments Author Recent Posts admin Latest posts by admin see all in conferences How can we get him to forestall February , Coronavirus Could Explode in the U.S. Overnight Like it Did in Italy February , Levi Strauss marks the next phase in corporate paid leave policies February , Scientists who designed an clever robotic that helped youngsters with autism spice up their studying and social talents hope such era may just in the future help others with the dysfunction.The learn about noticed seven youngsters with gentle to average autism take domestic what s referred to as a socially assistive robotic, named Kiwi, for a month. According to a commentary by way of the University of Southern California the place the crew is primarily based, the members from the Los Angeles house had been elderly between and seven years previous, and performed space themed video games with the robotic virtually day by day.As Kiwi was once fitted with machine learning era, it was once in a position to offer distinctive comments and directions to the kids in accordance with their talents. For example, if the kid were given a query incorrect Kiwi would give activates to assist them resolve it, and tweak the trouble ranges to problem the kid correctly.The authors of the paper revealed within the magazine Science Robotics discovered all the youngsters noticed their reasoning talents support. Some had higher social talents after enjoying with Kiwi for a month, in keeping with the commentary.Cameras hooked as much as Kiwi enabled the crew to observe how engaged the children had been with the robotic, in accordance with the place their eyes had been taking a look, the placement in their heads, their speech and how smartly they carried out on a role. The crew discovered engagement ranged from to on reasonable a few of the members, and Kiwi was once in a position to stumble on a disengaged kid with accuracy. That was once in spite of possible akin to domestic home equipment, in addition to buddies and circle of relatives. The crew discovered members had been maximum engaged in an instant after the robotic had spoken, however this went down if the space lasted longer than a minute.Lead writer Shomik Jain, advised Newsweek the kids changed into much less engaged because the month went on. Examples of child behavior during these disengaged periods included playing with toys, interacting with siblings, and even abruptly leaving the setting. This served as a motivation for our work, which created models that could be used for real time recognition and response to in order to re engage the child to continue with the educational and or therapeutic activity, he stated.From left to proper, lead writer Shomik Jain with co authors Kartik Mahajan and Zhonghao Shi, all scholars in Professor Maja Matari s interplay lab, with Kiwi the socially assistive robotic.Haotian maiAround one in youngsters within the U.S. have autism, in keeping with the U.S. Centers for Disease Control and Prevention. People with the situation, often referred to as autism spectrum dysfunction ASD, can to find it difficult to keep in touch and engage in the similar manner as other folks. While therapists may give products and services that assist to show such youngsters social talents, now not everybody can have the funds for this, the crew stated. As such, they sought after to discover the potential for plugging the space with robots.Co author Maja Matari Maja J Matari, outstanding professor of pc science, , and pediatrics on the University of Southern California advised Newsweek We and other researchers have been actively exploring SAR socially assistive robotics for children with ASD, because SAR has great potential in supporting the learning of children with ASD. Since we were one of the very few labs that has worked in SAR from its inception, we used our experience over the past years to develop the robot that would meet the needs and interests of children with ASD while being safe and non threatening. Jain stated Currently, robots are restricted of their skill to acknowledge and reply to human conduct, in ordinary customers and real world settings akin to houses and colleges. Engaging customers is a key HRI human robot interaction capacity in the past unexplored within the context of long term, in home SAR for youngsters with ASD. Therefore this learn about is the primary to use mechanical device studying modeling to long term in ho...</td>\n",
       "      <td>[children, autism, saw, learning, social, skills, boosted, playing, ai, robot, news, parliament]</td>\n",
       "      <td>children autism saw learning social skills boosted playing ai robot news parliament</td>\n",
       "      <td>2</td>\n",
       "    </tr>\n",
       "  </tbody>\n",
       "</table>\n",
       "</div>"
      ],
      "text/plain": [
       "                                                                                                                                        url   \n",
       "0                                                                                      http://en.people.cn/n3/2021/0318/c90000-9830122.html  \\\n",
       "1  http://newsparliament.com/2020/02/27/children-with-autism-saw-their-learning-and-social-skills-boosted-after-playing-with-this-ai-robot/   \n",
       "\n",
       "        date   \n",
       "0 2021-03-18  \\\n",
       "1 2020-02-27   \n",
       "\n",
       "                                                                                                          clean_title   \n",
       "0                                      Artificial improves parking efficiency in Chinese cities People s Daily Online  \\\n",
       "1  Children With Autism Saw Their Learning and Social Skills Boosted After Playing With This AI Robot News Parliament   \n",
       "\n",
       "                                                                                                                                                                                                                                                                                                                                                                                                                                                                                                                                                                                                                                                                                                                                                                                                                                                                                                                                                                                                                                                                                                                                                                                                                                                                                                                                                                                                                                                                                                                                                                                                                                                                                                                                                                                                                                                                                                                                                                                                                                                                                                                                                                                                                                                                                                                                                                                                                                                                                                                                                                                                                                                                                                                                                                                                                                                                                                                                                                                                                                                                                                                                                                                                                                                                                                                                                                                                                                                                                                                                                                                                                                                                                                                                                                                                                                                                                                                                                                                                                                                                                                                                                                                                                                                                                                                                                                                                                                                                                                                                                                                                                                                                                                                                                                                                                                                                                                                                                                                                                                                                                                                                                                                                clean_text   \n",
       "0                   Artificial improves parking efficiency in Chinese cities People s Daily We Are , March , Home Artificial improves parking efficiency in Chinese citiesBy Liu Shiyao People s Daily , March , Photo taken on July , , shows a sign for electronic toll collection ETC newly set up at a roadside parking space on Yangzhuang road, Shijingshan district, Beijing. Some urban areas of the city started to use ETC system for roadside parking spaces since July , . People s Daily Online Li to the application of an artificial AI empowered roadside electronic toll collection ETC system, China s capital city Beijing has seen significant improvement in the efficiency of parking fee collection, turnover of roadside parking spots, order in roadside parking, as well as traffic congestion.As the city further deepens its roadside parking reform, the ETC system has almost covered all the roadside parking spaces in the city, with the proportion of vehicles parked on roads using the system exceeding percent.With the AI empowered system, drivers can park their vehicles at the parking spots on the roadside, and then pay the parking charge via their mobile phones after they drive away. This road used to be full of cars, and even the normal lanes were occupied. You could hardly move a bit during the morning and evening commute time, recalled a citizen surnamed Wang, who lives in Chaoyang district of Beijing. Since the summer of , roadside ETC devices have been installed here. With all the cars being parked in designated parking spots on the roadside, the road now seems brighter and wider, Wang said.The smart roadside ETC system AIpark Sky Eye adopted by Beijing is developed, operated, and maintained by AIpark, a Beijing based leading smart parking solution provider.The company s intelligent system has brought into full play the advantages of AI and effectively addressed the shortage of parking spaces and the problem of irregular parking in cities. The system has therefore been listed among the country s innovation projects that integrate AI deeply into the real economy in by China s Ministry of Industry and Information Technology MIIT.Traditional parking management equipment and monitoring devices have failed to meet the actual needs of cities due to limited application scenarios and technical capacity. There are many in traditional parking systems. For example, magnetic devices cannot identify detailed information about vehicles each video monitoring pile can only cover one parking spot and manual collection of parking fees costs too much.Such problems don t exist in smart machines. The AIpark Sky Eye system boasts strong stability and high recognition rate. Besides, it can resist the of extreme weather conditions like rain, snow, and fog, and form complete graphic evidence based on wheel path of vehicles.Each set of cameras of the AIpark Sky Eye system can monitor multiple parking spots at the same time for hours a day. The data collected by front end cameras are processed using multi dimensional deep learning algorithm before they are uploaded on to an AI computing cloud platform for data enrichment. The platform then distributes results to transport authorities.The most distinctive innovation in the package of the system is precision brought about by high mounted parking system cameras, according to Xiang Yanping, senior vice president of AIpark, noting that the cameras can recognize more complex static and dynamic reality scenes. For example, the equipment can accurately identify irregular parking behaviors and state such as double parking and frequent maneuvers, precisely recognize detailed information including plate number and vehicle color, and make good judgment on the behaviors of drivers and pedestrians, Xiang said.Once the high mounted parking system cameras are installed, they can help with many aspects of integrated urban governance, which represents another advantage of the AIpark Sky Eye system.Besides managing parking fee collection, high mounted camera system can also provide data for traffic . The snapshots obtained from the camera system can help solve problems including illegal and parking and vehicle theft.So far, the smart ETC system of AIpark has been introduced into more than cities in China, signaling important roles of AI in improving parking efficiency and order as well as new development for smart parking industry. PhotosNaval fleet steams in East China SeaNewborn golden snub nosed monkey makes debutIn pics birds across ChinaGrain painting studio helps villagers to increase art science integration opens in s AI industry poised to enter boom outlines technology trends for China s leading AI enterprise iFlytek to develop health information Mobile wades into artificial overtakes the US in investment in AI million artificial talents urgently needed in students give voice to sign in real embraces artificial People s Daily Online Join Us Contact UsCopyright People s Daily Online. All Rights Reserved.  \\\n",
       "1  Children With Autism Saw Their Learning and Social Skills Boosted After Playing With This AI Robot News Parliament Skip to , February , Latest in conferences How can we get him to forestall Drax power station to cease burning coal in March Coronavirus Could Explode in the U.S. Overnight Like it Did in Dettol sales surge as markets fall againLevi Strauss marks the next phase in corporate paid leave the Real Story World Children With Autism Saw Their Learning and Social Skills Boosted After Playing With This AI Robot February , February , admin Comments Author Recent Posts admin Latest posts by admin see all in conferences How can we get him to forestall February , Coronavirus Could Explode in the U.S. Overnight Like it Did in Italy February , Levi Strauss marks the next phase in corporate paid leave policies February , Scientists who designed an clever robotic that helped youngsters with autism spice up their studying and social talents hope such era may just in the future help others with the dysfunction.The learn about noticed seven youngsters with gentle to average autism take domestic what s referred to as a socially assistive robotic, named Kiwi, for a month. According to a commentary by way of the University of Southern California the place the crew is primarily based, the members from the Los Angeles house had been elderly between and seven years previous, and performed space themed video games with the robotic virtually day by day.As Kiwi was once fitted with machine learning era, it was once in a position to offer distinctive comments and directions to the kids in accordance with their talents. For example, if the kid were given a query incorrect Kiwi would give activates to assist them resolve it, and tweak the trouble ranges to problem the kid correctly.The authors of the paper revealed within the magazine Science Robotics discovered all the youngsters noticed their reasoning talents support. Some had higher social talents after enjoying with Kiwi for a month, in keeping with the commentary.Cameras hooked as much as Kiwi enabled the crew to observe how engaged the children had been with the robotic, in accordance with the place their eyes had been taking a look, the placement in their heads, their speech and how smartly they carried out on a role. The crew discovered engagement ranged from to on reasonable a few of the members, and Kiwi was once in a position to stumble on a disengaged kid with accuracy. That was once in spite of possible akin to domestic home equipment, in addition to buddies and circle of relatives. The crew discovered members had been maximum engaged in an instant after the robotic had spoken, however this went down if the space lasted longer than a minute.Lead writer Shomik Jain, advised Newsweek the kids changed into much less engaged because the month went on. Examples of child behavior during these disengaged periods included playing with toys, interacting with siblings, and even abruptly leaving the setting. This served as a motivation for our work, which created models that could be used for real time recognition and response to in order to re engage the child to continue with the educational and or therapeutic activity, he stated.From left to proper, lead writer Shomik Jain with co authors Kartik Mahajan and Zhonghao Shi, all scholars in Professor Maja Matari s interplay lab, with Kiwi the socially assistive robotic.Haotian maiAround one in youngsters within the U.S. have autism, in keeping with the U.S. Centers for Disease Control and Prevention. People with the situation, often referred to as autism spectrum dysfunction ASD, can to find it difficult to keep in touch and engage in the similar manner as other folks. While therapists may give products and services that assist to show such youngsters social talents, now not everybody can have the funds for this, the crew stated. As such, they sought after to discover the potential for plugging the space with robots.Co author Maja Matari Maja J Matari, outstanding professor of pc science, , and pediatrics on the University of Southern California advised Newsweek We and other researchers have been actively exploring SAR socially assistive robotics for children with ASD, because SAR has great potential in supporting the learning of children with ASD. Since we were one of the very few labs that has worked in SAR from its inception, we used our experience over the past years to develop the robot that would meet the needs and interests of children with ASD while being safe and non threatening. Jain stated Currently, robots are restricted of their skill to acknowledge and reply to human conduct, in ordinary customers and real world settings akin to houses and colleges. Engaging customers is a key HRI human robot interaction capacity in the past unexplored within the context of long term, in home SAR for youngsters with ASD. Therefore this learn about is the primary to use mechanical device studying modeling to long term in ho...   \n",
       "\n",
       "                                                                                       title_tokens   \n",
       "0               [artificial, improves, parking, efficiency, chinese, cities, people, daily, online]  \\\n",
       "1  [children, autism, saw, learning, social, skills, boosted, playing, ai, robot, news, parliament]   \n",
       "\n",
       "                                                                      title_token_text   \n",
       "0            artificial improves parking efficiency chinese cities people daily online  \\\n",
       "1  children autism saw learning social skills boosted playing ai robot news parliament   \n",
       "\n",
       "   keywords  \n",
       "0         2  \n",
       "1         2  "
      ]
     },
     "execution_count": 44,
     "metadata": {},
     "output_type": "execute_result"
    }
   ],
   "source": [
    "df_sample.head(2)"
   ]
  },
  {
   "cell_type": "code",
   "execution_count": 45,
   "id": "224cadb6-7efd-4d2c-bc77-ada6dd0c2648",
   "metadata": {},
   "outputs": [],
   "source": [
    "df_sample.drop(columns = ['keywords'], inplace = True)"
   ]
  },
  {
   "cell_type": "code",
   "execution_count": 46,
   "id": "87f26b36-a182-47d1-80d7-df544c0f319b",
   "metadata": {},
   "outputs": [],
   "source": [
    "# %%time\n",
    "# df_sample['article_length'] = df_sample['clean_text'].parallel_apply(lambda x: len(x.split()))"
   ]
  },
  {
   "cell_type": "code",
   "execution_count": 47,
   "id": "3fdecf2e-c7f4-4077-88a3-49abee226235",
   "metadata": {},
   "outputs": [],
   "source": [
    "# %%time\n",
    "# df_sample['title_length'] = df_sample['clean_title'].parallel_apply(lambda x: len(x.split()))"
   ]
  },
  {
   "cell_type": "code",
   "execution_count": 48,
   "id": "6fd25337-cf5f-44b4-9428-7cdcc2105d18",
   "metadata": {},
   "outputs": [],
   "source": [
    "# df_sample['article_length'].describe()"
   ]
  },
  {
   "cell_type": "code",
   "execution_count": 49,
   "id": "5b83af24-a522-4e24-831f-8de4d5cea8da",
   "metadata": {},
   "outputs": [],
   "source": [
    "# plt.figure(figsize=(10,4))\n",
    "# plt.boxplot(df_sample['article_length'], vert = 0)\n",
    "# plt.show()"
   ]
  },
  {
   "cell_type": "code",
   "execution_count": 50,
   "id": "96ff516c-691e-4637-8a34-6773d066c7ed",
   "metadata": {},
   "outputs": [],
   "source": [
    "# plt.hist(df_sample['article_length'], color = \"green\", log=True)\n",
    "# plt.grid()\n",
    "# plt.show()"
   ]
  },
  {
   "cell_type": "code",
   "execution_count": 51,
   "id": "35a388e7-47bf-4e63-9960-d14fefb82fd5",
   "metadata": {},
   "outputs": [],
   "source": [
    "# df_sample[df_sample['article_length']<150].shape[0]"
   ]
  },
  {
   "cell_type": "code",
   "execution_count": 52,
   "id": "27abdd78-cfda-4137-b3c8-d5caaaaedbba",
   "metadata": {},
   "outputs": [],
   "source": [
    "# df_sample[df_sample['article_length']>2500].shape[0]"
   ]
  },
  {
   "cell_type": "code",
   "execution_count": 53,
   "id": "9cf4d68b-2bd7-4ef0-8cf8-e3d2de5a139f",
   "metadata": {},
   "outputs": [],
   "source": [
    "# df_sample = df_sample[(df_sample['article_length']>150) & (df_sample['article_length']<2500)]"
   ]
  },
  {
   "cell_type": "code",
   "execution_count": 54,
   "id": "9a7bb698-9bc9-498a-bedb-601fd16b0871",
   "metadata": {},
   "outputs": [],
   "source": [
    "# df_sample.shape"
   ]
  },
  {
   "cell_type": "code",
   "execution_count": 55,
   "id": "9bd64e45-aafe-4a94-b718-18ef5fa67825",
   "metadata": {},
   "outputs": [],
   "source": [
    "# plt.figure(figsize=(10,4))\n",
    "# plt.boxplot(df_sample['article_length'], vert = 0)\n",
    "# plt.grid()\n",
    "# plt.show()"
   ]
  },
  {
   "cell_type": "code",
   "execution_count": 56,
   "id": "49846a8b-0ff8-4b16-b0dd-9e48e9c8d69d",
   "metadata": {},
   "outputs": [],
   "source": [
    "# plt.hist(df_sample['article_length'])\n",
    "# plt.show()"
   ]
  },
  {
   "cell_type": "code",
   "execution_count": 57,
   "id": "850bbc6d-8eaa-4137-81c2-991dec05221a",
   "metadata": {
    "tags": []
   },
   "outputs": [],
   "source": [
    "# df_sample.head(2)"
   ]
  },
  {
   "cell_type": "code",
   "execution_count": 58,
   "id": "f6977820-e626-474a-bfca-bfe2f667a4f8",
   "metadata": {},
   "outputs": [
    {
     "name": "stdout",
     "output_type": "stream",
     "text": [
      "CPU times: user 17.4 s, sys: 14.3 s, total: 31.6 s\n",
      "Wall time: 58.9 s\n"
     ]
    }
   ],
   "source": [
    "%%time\n",
    "df_sample['tokens'] = df_sample['clean_text'].parallel_apply(tokenize, stopwords = set(nlp.Defaults.stop_words))"
   ]
  },
  {
   "cell_type": "code",
   "execution_count": 59,
   "id": "8bb859b8-eba7-468e-9c59-e249b3ebde40",
   "metadata": {},
   "outputs": [
    {
     "name": "stdout",
     "output_type": "stream",
     "text": [
      "CPU times: user 31.3 s, sys: 20.6 s, total: 51.9 s\n",
      "Wall time: 54.6 s\n"
     ]
    }
   ],
   "source": [
    "%%time\n",
    "df_sample['token_text'] = df_sample['tokens'].parallel_apply(tokens_to_text)"
   ]
  },
  {
   "cell_type": "code",
   "execution_count": 60,
   "id": "78ce81f7-fbfe-4fa9-9039-0adfac8e48ca",
   "metadata": {},
   "outputs": [
    {
     "data": {
      "text/plain": [
       "Index(['url', 'date', 'clean_title', 'clean_text', 'title_tokens',\n",
       "       'title_token_text', 'tokens', 'token_text'],\n",
       "      dtype='object')"
      ]
     },
     "execution_count": 60,
     "metadata": {},
     "output_type": "execute_result"
    }
   ],
   "source": [
    "df_sample.columns"
   ]
  },
  {
   "cell_type": "code",
   "execution_count": 61,
   "id": "bba6cd1a-bbe0-4f68-8791-596f7068e90b",
   "metadata": {},
   "outputs": [],
   "source": [
    "# df_sample.drop(columns = ['article_length','title_length','title_tokens','title_token_text'], inplace = True)\n",
    "df_sample.drop(columns = ['title_tokens','title_token_text'], inplace = True)"
   ]
  },
  {
   "cell_type": "code",
   "execution_count": 62,
   "id": "711c9537-9eea-4d50-855e-09ac93f387bc",
   "metadata": {
    "tags": []
   },
   "outputs": [
    {
     "data": {
      "text/html": [
       "<div>\n",
       "<style scoped>\n",
       "    .dataframe tbody tr th:only-of-type {\n",
       "        vertical-align: middle;\n",
       "    }\n",
       "\n",
       "    .dataframe tbody tr th {\n",
       "        vertical-align: top;\n",
       "    }\n",
       "\n",
       "    .dataframe thead th {\n",
       "        text-align: right;\n",
       "    }\n",
       "</style>\n",
       "<table border=\"1\" class=\"dataframe\">\n",
       "  <thead>\n",
       "    <tr style=\"text-align: right;\">\n",
       "      <th></th>\n",
       "      <th>url</th>\n",
       "      <th>date</th>\n",
       "      <th>clean_title</th>\n",
       "      <th>clean_text</th>\n",
       "      <th>tokens</th>\n",
       "      <th>token_text</th>\n",
       "    </tr>\n",
       "  </thead>\n",
       "  <tbody>\n",
       "    <tr>\n",
       "      <th>0</th>\n",
       "      <td>http://en.people.cn/n3/2021/0318/c90000-9830122.html</td>\n",
       "      <td>2021-03-18</td>\n",
       "      <td>Artificial improves parking efficiency in Chinese cities People s Daily Online</td>\n",
       "      <td>Artificial improves parking efficiency in Chinese cities People s Daily We Are , March , Home Artificial improves parking efficiency in Chinese citiesBy Liu Shiyao People s Daily , March , Photo taken on July , , shows a sign for electronic toll collection ETC newly set up at a roadside parking space on Yangzhuang road, Shijingshan district, Beijing. Some urban areas of the city started to use ETC system for roadside parking spaces since July , . People s Daily Online Li to the application of an artificial AI empowered roadside electronic toll collection ETC system, China s capital city Beijing has seen significant improvement in the efficiency of parking fee collection, turnover of roadside parking spots, order in roadside parking, as well as traffic congestion.As the city further deepens its roadside parking reform, the ETC system has almost covered all the roadside parking spaces in the city, with the proportion of vehicles parked on roads using the system exceeding percent.With the AI empowered system, drivers can park their vehicles at the parking spots on the roadside, and then pay the parking charge via their mobile phones after they drive away. This road used to be full of cars, and even the normal lanes were occupied. You could hardly move a bit during the morning and evening commute time, recalled a citizen surnamed Wang, who lives in Chaoyang district of Beijing. Since the summer of , roadside ETC devices have been installed here. With all the cars being parked in designated parking spots on the roadside, the road now seems brighter and wider, Wang said.The smart roadside ETC system AIpark Sky Eye adopted by Beijing is developed, operated, and maintained by AIpark, a Beijing based leading smart parking solution provider.The company s intelligent system has brought into full play the advantages of AI and effectively addressed the shortage of parking spaces and the problem of irregular parking in cities. The system has therefore been listed among the country s innovation projects that integrate AI deeply into the real economy in by China s Ministry of Industry and Information Technology MIIT.Traditional parking management equipment and monitoring devices have failed to meet the actual needs of cities due to limited application scenarios and technical capacity. There are many in traditional parking systems. For example, magnetic devices cannot identify detailed information about vehicles each video monitoring pile can only cover one parking spot and manual collection of parking fees costs too much.Such problems don t exist in smart machines. The AIpark Sky Eye system boasts strong stability and high recognition rate. Besides, it can resist the of extreme weather conditions like rain, snow, and fog, and form complete graphic evidence based on wheel path of vehicles.Each set of cameras of the AIpark Sky Eye system can monitor multiple parking spots at the same time for hours a day. The data collected by front end cameras are processed using multi dimensional deep learning algorithm before they are uploaded on to an AI computing cloud platform for data enrichment. The platform then distributes results to transport authorities.The most distinctive innovation in the package of the system is precision brought about by high mounted parking system cameras, according to Xiang Yanping, senior vice president of AIpark, noting that the cameras can recognize more complex static and dynamic reality scenes. For example, the equipment can accurately identify irregular parking behaviors and state such as double parking and frequent maneuvers, precisely recognize detailed information including plate number and vehicle color, and make good judgment on the behaviors of drivers and pedestrians, Xiang said.Once the high mounted parking system cameras are installed, they can help with many aspects of integrated urban governance, which represents another advantage of the AIpark Sky Eye system.Besides managing parking fee collection, high mounted camera system can also provide data for traffic . The snapshots obtained from the camera system can help solve problems including illegal and parking and vehicle theft.So far, the smart ETC system of AIpark has been introduced into more than cities in China, signaling important roles of AI in improving parking efficiency and order as well as new development for smart parking industry. PhotosNaval fleet steams in East China SeaNewborn golden snub nosed monkey makes debutIn pics birds across ChinaGrain painting studio helps villagers to increase art science integration opens in s AI industry poised to enter boom outlines technology trends for China s leading AI enterprise iFlytek to develop health information Mobile wades into artificial overtakes the US in investment in AI million artificial talents urgently needed in students give voice to sign in real embraces artificial People s Daily Online Join Us Contact UsCopyright People s Daily Online. All Rights Reserved.</td>\n",
       "      <td>[artificial, improves, parking, efficiency, chinese, cities, people, daily, march, home, artificial, improves, parking, efficiency, chinese, citiesby, liu, shiyao, people, daily, march, photo, taken, july, shows, sign, electronic, toll, collection, etc, newly, set, roadside, parking, space, yangzhuang, road, shijingshan, district, beijing, urban, areas, city, started, use, etc, system, roadside, parking, spaces, july, people, daily, online, li, application, artificial, ai, empowered, roadside, electronic, toll, collection, etc, system, china, capital, city, beijing, seen, significant, improvement, efficiency, parking, fee, collection, turnover, roadside, parking, spots, order, roadside, parking, traffic, city, deepens, roadside, parking, reform, etc, system, covered, roadside, parking, spaces, city, proportion, vehicles, parked, roads, ...]</td>\n",
       "      <td>artificial improves parking efficiency chinese cities people daily march home artificial improves parking efficiency chinese citiesby liu shiyao people daily march photo taken july shows sign electronic toll collection etc newly set roadside parking space yangzhuang road shijingshan district beijing urban areas city started use etc system roadside parking spaces july people daily online li application artificial ai empowered roadside electronic toll collection etc system china capital city beijing seen significant improvement efficiency parking fee collection turnover roadside parking spots order roadside parking traffic city deepens roadside parking reform etc system covered roadside parking spaces city proportion vehicles parked roads system exceeding ai empowered system drivers park vehicles parking spots roadside pay parking charge mobile phones drive away road cars normal lanes occupied hardly bit morning evening commute time recalled citizen surnamed wang lives chaoyang district beijing summer roadside etc devices installed cars parked designated parking spots roadside road brighter wider wang smart roadside etc system aipark sky eye adopted beijing developed operated maintained aipark beijing based leading smart parking solution company intelligent system brought play advantages ai effectively addressed shortage parking spaces problem irregular parking cities system listed country innovation projects integrate ai deeply real economy china ministry industry information technology parking management equipment monitoring devices failed meet actual needs cities limited application scenarios technical capacity traditional parking systems example magnetic devices identify detailed information vehicles video monitoring pile cover parking spot manual collection parking fees costs problems don exist smart machines aipark sky eye system boasts strong stability</td>\n",
       "    </tr>\n",
       "  </tbody>\n",
       "</table>\n",
       "</div>"
      ],
      "text/plain": [
       "                                                    url       date   \n",
       "0  http://en.people.cn/n3/2021/0318/c90000-9830122.html 2021-03-18  \\\n",
       "\n",
       "                                                                      clean_title   \n",
       "0  Artificial improves parking efficiency in Chinese cities People s Daily Online  \\\n",
       "\n",
       "                                                                                                                                                                                                                                                                                                                                                                                                                                                                                                                                                                                                                                                                                                                                                                                                                                                                                                                                                                                                                                                                                                                                                                                                                                                                                                                                                                                                                                                                                                                                                                                                                                                                                                                                                                                                                                                                                                                                                                                                                                                                                                                                                                                                                                                                                                                                                                                                                                                                                                                                                                                                                                                                                                                                                                                                                                                                                                                                                                                                                                                                                                                                                                                                                                                                                                                                                                                                                                                                                                                                                                                                                                                                                                                                                                                                                                                                                                                                                                                                                                                                                                                                                                                                                                                                                                                                                                                                                                                                                                                                                                                                                                                                                                                                                                                                                                                                                                                                                                                                                                                                                                                                                                               clean_text   \n",
       "0  Artificial improves parking efficiency in Chinese cities People s Daily We Are , March , Home Artificial improves parking efficiency in Chinese citiesBy Liu Shiyao People s Daily , March , Photo taken on July , , shows a sign for electronic toll collection ETC newly set up at a roadside parking space on Yangzhuang road, Shijingshan district, Beijing. Some urban areas of the city started to use ETC system for roadside parking spaces since July , . People s Daily Online Li to the application of an artificial AI empowered roadside electronic toll collection ETC system, China s capital city Beijing has seen significant improvement in the efficiency of parking fee collection, turnover of roadside parking spots, order in roadside parking, as well as traffic congestion.As the city further deepens its roadside parking reform, the ETC system has almost covered all the roadside parking spaces in the city, with the proportion of vehicles parked on roads using the system exceeding percent.With the AI empowered system, drivers can park their vehicles at the parking spots on the roadside, and then pay the parking charge via their mobile phones after they drive away. This road used to be full of cars, and even the normal lanes were occupied. You could hardly move a bit during the morning and evening commute time, recalled a citizen surnamed Wang, who lives in Chaoyang district of Beijing. Since the summer of , roadside ETC devices have been installed here. With all the cars being parked in designated parking spots on the roadside, the road now seems brighter and wider, Wang said.The smart roadside ETC system AIpark Sky Eye adopted by Beijing is developed, operated, and maintained by AIpark, a Beijing based leading smart parking solution provider.The company s intelligent system has brought into full play the advantages of AI and effectively addressed the shortage of parking spaces and the problem of irregular parking in cities. The system has therefore been listed among the country s innovation projects that integrate AI deeply into the real economy in by China s Ministry of Industry and Information Technology MIIT.Traditional parking management equipment and monitoring devices have failed to meet the actual needs of cities due to limited application scenarios and technical capacity. There are many in traditional parking systems. For example, magnetic devices cannot identify detailed information about vehicles each video monitoring pile can only cover one parking spot and manual collection of parking fees costs too much.Such problems don t exist in smart machines. The AIpark Sky Eye system boasts strong stability and high recognition rate. Besides, it can resist the of extreme weather conditions like rain, snow, and fog, and form complete graphic evidence based on wheel path of vehicles.Each set of cameras of the AIpark Sky Eye system can monitor multiple parking spots at the same time for hours a day. The data collected by front end cameras are processed using multi dimensional deep learning algorithm before they are uploaded on to an AI computing cloud platform for data enrichment. The platform then distributes results to transport authorities.The most distinctive innovation in the package of the system is precision brought about by high mounted parking system cameras, according to Xiang Yanping, senior vice president of AIpark, noting that the cameras can recognize more complex static and dynamic reality scenes. For example, the equipment can accurately identify irregular parking behaviors and state such as double parking and frequent maneuvers, precisely recognize detailed information including plate number and vehicle color, and make good judgment on the behaviors of drivers and pedestrians, Xiang said.Once the high mounted parking system cameras are installed, they can help with many aspects of integrated urban governance, which represents another advantage of the AIpark Sky Eye system.Besides managing parking fee collection, high mounted camera system can also provide data for traffic . The snapshots obtained from the camera system can help solve problems including illegal and parking and vehicle theft.So far, the smart ETC system of AIpark has been introduced into more than cities in China, signaling important roles of AI in improving parking efficiency and order as well as new development for smart parking industry. PhotosNaval fleet steams in East China SeaNewborn golden snub nosed monkey makes debutIn pics birds across ChinaGrain painting studio helps villagers to increase art science integration opens in s AI industry poised to enter boom outlines technology trends for China s leading AI enterprise iFlytek to develop health information Mobile wades into artificial overtakes the US in investment in AI million artificial talents urgently needed in students give voice to sign in real embraces artificial People s Daily Online Join Us Contact UsCopyright People s Daily Online. All Rights Reserved.  \\\n",
       "\n",
       "                                                                                                                                                                                                                                                                                                                                                                                                                                                                                                                                                                                                                                                                                                                                                                                                                                                                                 tokens   \n",
       "0  [artificial, improves, parking, efficiency, chinese, cities, people, daily, march, home, artificial, improves, parking, efficiency, chinese, citiesby, liu, shiyao, people, daily, march, photo, taken, july, shows, sign, electronic, toll, collection, etc, newly, set, roadside, parking, space, yangzhuang, road, shijingshan, district, beijing, urban, areas, city, started, use, etc, system, roadside, parking, spaces, july, people, daily, online, li, application, artificial, ai, empowered, roadside, electronic, toll, collection, etc, system, china, capital, city, beijing, seen, significant, improvement, efficiency, parking, fee, collection, turnover, roadside, parking, spots, order, roadside, parking, traffic, city, deepens, roadside, parking, reform, etc, system, covered, roadside, parking, spaces, city, proportion, vehicles, parked, roads, ...]  \\\n",
       "\n",
       "                                                                                                                                                                                                                                                                                                                                                                                                                                                                                                                                                                                                                                                                                                                                                                                                                                                                                                                                                                                                                                                                                                                                                                                                                                                                                                                                                                                                                                                                                                                                                                                                                                                                                                                                                                                                                                                                                                                                                          token_text  \n",
       "0  artificial improves parking efficiency chinese cities people daily march home artificial improves parking efficiency chinese citiesby liu shiyao people daily march photo taken july shows sign electronic toll collection etc newly set roadside parking space yangzhuang road shijingshan district beijing urban areas city started use etc system roadside parking spaces july people daily online li application artificial ai empowered roadside electronic toll collection etc system china capital city beijing seen significant improvement efficiency parking fee collection turnover roadside parking spots order roadside parking traffic city deepens roadside parking reform etc system covered roadside parking spaces city proportion vehicles parked roads system exceeding ai empowered system drivers park vehicles parking spots roadside pay parking charge mobile phones drive away road cars normal lanes occupied hardly bit morning evening commute time recalled citizen surnamed wang lives chaoyang district beijing summer roadside etc devices installed cars parked designated parking spots roadside road brighter wider wang smart roadside etc system aipark sky eye adopted beijing developed operated maintained aipark beijing based leading smart parking solution company intelligent system brought play advantages ai effectively addressed shortage parking spaces problem irregular parking cities system listed country innovation projects integrate ai deeply real economy china ministry industry information technology parking management equipment monitoring devices failed meet actual needs cities limited application scenarios technical capacity traditional parking systems example magnetic devices identify detailed information vehicles video monitoring pile cover parking spot manual collection parking fees costs problems don exist smart machines aipark sky eye system boasts strong stability  "
      ]
     },
     "execution_count": 62,
     "metadata": {},
     "output_type": "execute_result"
    }
   ],
   "source": [
    "df_sample.head(1)"
   ]
  },
  {
   "cell_type": "code",
   "execution_count": 63,
   "id": "0b3dce5a-8bc1-4ef3-bdc5-2809aa3489ce",
   "metadata": {},
   "outputs": [],
   "source": [
    "df_sample.to_csv('./cleaned_tokenized_output_final.csv')"
   ]
  }
 ],
 "metadata": {
  "environment": {
   "kernel": "python3",
   "name": "common-cpu.m108",
   "type": "gcloud",
   "uri": "gcr.io/deeplearning-platform-release/base-cpu:m108"
  },
  "kernelspec": {
   "display_name": "Python 3",
   "language": "python",
   "name": "python3"
  },
  "language_info": {
   "codemirror_mode": {
    "name": "ipython",
    "version": 3
   },
   "file_extension": ".py",
   "mimetype": "text/x-python",
   "name": "python",
   "nbconvert_exporter": "python",
   "pygments_lexer": "ipython3",
   "version": "3.10.10"
  }
 },
 "nbformat": 4,
 "nbformat_minor": 5
}
